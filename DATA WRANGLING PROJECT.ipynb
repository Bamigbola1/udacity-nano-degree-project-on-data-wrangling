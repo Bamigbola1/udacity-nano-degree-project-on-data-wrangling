{
 "cells": [
  {
   "cell_type": "markdown",
   "id": "739c1a96",
   "metadata": {},
   "source": [
    "\n",
    "# Project: TWITTER DATA WRANGLING  \n",
    "\n",
    "## Table of Contents\n",
    "<ul>\n",
    "<li><a href=\"#intro\">Introduction</a></li>\n",
    "<li><a href=\"#Gathering\">Data Gathering</a></li>\n",
    "<li><a href=\"#Accessing\">Data Accessing</a></li>\n",
    "<li><a href=\"#Cleaning\">Data Cleaning</a></li>\n",
    "<li><a href=\"#eda\">Exploratory Data Analysis</a></li>\n",
    "<li><a href=\"#conclusions\">Conclusions</a></li>\n",
    "<li><a href=\"#limitation\">Limitation</a></li>\n",
    "<li><a href=\"#references\">References</a></li>\n",
    "</ul>"
   ]
  },
  {
   "cell_type": "markdown",
   "id": "d473d215",
   "metadata": {},
   "source": [
    "<li><a href=\"#intro\">INTRODUCTION</a></li>"
   ]
  },
  {
   "cell_type": "markdown",
   "id": "ec52f06f",
   "metadata": {},
   "source": [
    "This project is all about gathering data from three different medium, accessing, cleaning as well as deriving good insight from the data gathereded.\n",
    "This project case study is twitter dog rating which all the dataset will be gathered from twitter website."
   ]
  },
  {
   "cell_type": "code",
   "execution_count": 119,
   "id": "5c01abad",
   "metadata": {},
   "outputs": [],
   "source": [
    "# This code is for importing libray that would be used for this project\n",
    "import pandas as pd\n",
    "import numpy as np\n",
    "import matplotlib.pyplot as plt\n",
    "import os\n",
    "import requests\n",
    "import tweepy\n",
    "import json\n",
    "import seaborn as sns"
   ]
  },
  {
   "cell_type": "markdown",
   "id": "e540b269",
   "metadata": {},
   "source": [
    "<li><a href=\"#Gathering\">DATA GATHERING</a></li>"
   ]
  },
  {
   "cell_type": "markdown",
   "id": "d66b48a8",
   "metadata": {},
   "source": [
    "**Gathering data by directly downloading WeRateDogs Twitter Archive data(twitter_archive_enhance.csv)**"
   ]
  },
  {
   "cell_type": "code",
   "execution_count": 120,
   "id": "00791364",
   "metadata": {},
   "outputs": [],
   "source": [
    "# This code is for reading of the downloaded dataset  on jupiter notebook using pandas\n",
    "Enhance_twitter=pd.read_csv('twitter-archive-enhanced.csv')"
   ]
  },
  {
   "cell_type": "markdown",
   "id": "68f50289",
   "metadata": {},
   "source": [
    "**Gathering data by using Request Libary to download the tweet image prediction (Image_prediction.tsv)**"
   ]
  },
  {
   "cell_type": "code",
   "execution_count": 121,
   "id": "1248cb4a",
   "metadata": {},
   "outputs": [],
   "source": [
    "# This code is to define the url and get the request using (request.get method) \n",
    "url=' https://d17h27t6h515a5.cloudfront.net/topher/2017/August/599fd2ad_image-predictions/image-predictions.tsv'\n",
    "\n",
    "image_prediction=requests.get(url)"
   ]
  },
  {
   "cell_type": "code",
   "execution_count": 122,
   "id": "a23cbee1",
   "metadata": {},
   "outputs": [],
   "source": [
    "\n",
    "with open ('folder_name',  mode='wb') as file:\n",
    "    file.write(image_prediction.content)"
   ]
  },
  {
   "cell_type": "code",
   "execution_count": 123,
   "id": "4eb51005",
   "metadata": {},
   "outputs": [
    {
     "data": {
      "text/plain": [
       "<Response [200]>"
      ]
     },
     "execution_count": 123,
     "metadata": {},
     "output_type": "execute_result"
    }
   ],
   "source": [
    "# This code is to confirm the request is successfull.\n",
    "image_prediction"
   ]
  },
  {
   "cell_type": "code",
   "execution_count": 124,
   "id": "d909fc83",
   "metadata": {},
   "outputs": [],
   "source": [
    "# This code is passing the file gotten from the website url to a pandas DataFrame\n",
    "Image_prediction=pd.read_csv('Image-prediction.tsv', sep= '\\t')"
   ]
  },
  {
   "cell_type": "markdown",
   "id": "fdf265cb",
   "metadata": {},
   "source": [
    "**Gathering data by using Tweepy Libary to download additional data (tweet-json.txt)**"
   ]
  },
  {
   "cell_type": "code",
   "execution_count": 125,
   "id": "1b4de6a9",
   "metadata": {},
   "outputs": [],
   "source": [
    "# This code is for reading of the txt file \n",
    "Tweet_API=[]\n",
    "with open ('tweet-json (2).txt') as f:\n",
    "    for line in f:\n",
    "        Tweet_API.append(json.loads(f.readline()))"
   ]
  },
  {
   "cell_type": "code",
   "execution_count": 126,
   "id": "98d12317",
   "metadata": {},
   "outputs": [],
   "source": [
    "# This code is passing the txt file into Pandas DataFrame\n",
    "Tweet_API=pd.DataFrame(Tweet_API)"
   ]
  },
  {
   "cell_type": "markdown",
   "id": "f2d5c13c",
   "metadata": {},
   "source": [
    "<li><a href=\"#Accessing\">DATA ACCESSING</a></li>"
   ]
  },
  {
   "cell_type": "markdown",
   "id": "8f004c7d",
   "metadata": {},
   "source": [
    "#### PROGRAMMATIC AND VISUAL ACCESSMENT OF THE 3 DATASET GATHERED"
   ]
  },
  {
   "cell_type": "code",
   "execution_count": 127,
   "id": "c00f27ec",
   "metadata": {},
   "outputs": [
    {
     "name": "stdout",
     "output_type": "stream",
     "text": [
      "<class 'pandas.core.frame.DataFrame'>\n",
      "RangeIndex: 2356 entries, 0 to 2355\n",
      "Data columns (total 17 columns):\n",
      " #   Column                      Non-Null Count  Dtype  \n",
      "---  ------                      --------------  -----  \n",
      " 0   tweet_id                    2356 non-null   int64  \n",
      " 1   in_reply_to_status_id       78 non-null     float64\n",
      " 2   in_reply_to_user_id         78 non-null     float64\n",
      " 3   timestamp                   2356 non-null   object \n",
      " 4   source                      2356 non-null   object \n",
      " 5   text                        2356 non-null   object \n",
      " 6   retweeted_status_id         181 non-null    float64\n",
      " 7   retweeted_status_user_id    181 non-null    float64\n",
      " 8   retweeted_status_timestamp  181 non-null    object \n",
      " 9   expanded_urls               2297 non-null   object \n",
      " 10  rating_numerator            2356 non-null   int64  \n",
      " 11  rating_denominator          2356 non-null   int64  \n",
      " 12  name                        2356 non-null   object \n",
      " 13  doggo                       2356 non-null   object \n",
      " 14  floofer                     2356 non-null   object \n",
      " 15  pupper                      2356 non-null   object \n",
      " 16  puppo                       2356 non-null   object \n",
      "dtypes: float64(4), int64(3), object(10)\n",
      "memory usage: 313.0+ KB\n"
     ]
    }
   ],
   "source": [
    "# To show information about the dataset\n",
    "Enhance_twitter.info()"
   ]
  },
  {
   "cell_type": "markdown",
   "id": "c53329db",
   "metadata": {},
   "source": [
    "**Table 1.0 above shows information about the data present in Enhance_twitter dataset per column**"
   ]
  },
  {
   "cell_type": "code",
   "execution_count": 128,
   "id": "a968b994",
   "metadata": {},
   "outputs": [
    {
     "name": "stdout",
     "output_type": "stream",
     "text": [
      "<class 'pandas.core.frame.DataFrame'>\n",
      "RangeIndex: 2075 entries, 0 to 2074\n",
      "Data columns (total 12 columns):\n",
      " #   Column    Non-Null Count  Dtype  \n",
      "---  ------    --------------  -----  \n",
      " 0   tweet_id  2075 non-null   int64  \n",
      " 1   jpg_url   2075 non-null   object \n",
      " 2   img_num   2075 non-null   int64  \n",
      " 3   p1        2075 non-null   object \n",
      " 4   p1_conf   2075 non-null   float64\n",
      " 5   p1_dog    2075 non-null   bool   \n",
      " 6   p2        2075 non-null   object \n",
      " 7   p2_conf   2075 non-null   float64\n",
      " 8   p2_dog    2075 non-null   bool   \n",
      " 9   p3        2075 non-null   object \n",
      " 10  p3_conf   2075 non-null   float64\n",
      " 11  p3_dog    2075 non-null   bool   \n",
      "dtypes: bool(3), float64(3), int64(2), object(4)\n",
      "memory usage: 152.1+ KB\n"
     ]
    }
   ],
   "source": [
    "# To show information about the dataset\n",
    "Image_prediction.info()"
   ]
  },
  {
   "cell_type": "markdown",
   "id": "db2a6133",
   "metadata": {},
   "source": [
    "**Table 2.0 above shows information about the data present in image_prediction dataset per column**"
   ]
  },
  {
   "cell_type": "code",
   "execution_count": 129,
   "id": "9d55d20c",
   "metadata": {},
   "outputs": [
    {
     "name": "stdout",
     "output_type": "stream",
     "text": [
      "<class 'pandas.core.frame.DataFrame'>\n",
      "RangeIndex: 1177 entries, 0 to 1176\n",
      "Data columns (total 31 columns):\n",
      " #   Column                         Non-Null Count  Dtype  \n",
      "---  ------                         --------------  -----  \n",
      " 0   created_at                     1177 non-null   object \n",
      " 1   id                             1177 non-null   int64  \n",
      " 2   id_str                         1177 non-null   object \n",
      " 3   full_text                      1177 non-null   object \n",
      " 4   truncated                      1177 non-null   bool   \n",
      " 5   display_text_range             1177 non-null   object \n",
      " 6   entities                       1177 non-null   object \n",
      " 7   extended_entities              1031 non-null   object \n",
      " 8   source                         1177 non-null   object \n",
      " 9   in_reply_to_status_id          38 non-null     float64\n",
      " 10  in_reply_to_status_id_str      38 non-null     object \n",
      " 11  in_reply_to_user_id            38 non-null     float64\n",
      " 12  in_reply_to_user_id_str        38 non-null     object \n",
      " 13  in_reply_to_screen_name        38 non-null     object \n",
      " 14  user                           1177 non-null   object \n",
      " 15  geo                            0 non-null      object \n",
      " 16  coordinates                    0 non-null      object \n",
      " 17  place                          1 non-null      object \n",
      " 18  contributors                   0 non-null      object \n",
      " 19  is_quote_status                1177 non-null   bool   \n",
      " 20  retweet_count                  1177 non-null   int64  \n",
      " 21  favorite_count                 1177 non-null   int64  \n",
      " 22  favorited                      1177 non-null   bool   \n",
      " 23  retweeted                      1177 non-null   bool   \n",
      " 24  possibly_sensitive             1101 non-null   object \n",
      " 25  possibly_sensitive_appealable  1101 non-null   object \n",
      " 26  lang                           1177 non-null   object \n",
      " 27  retweeted_status               92 non-null     object \n",
      " 28  quoted_status_id               14 non-null     float64\n",
      " 29  quoted_status_id_str           14 non-null     object \n",
      " 30  quoted_status                  13 non-null     object \n",
      "dtypes: bool(4), float64(3), int64(3), object(21)\n",
      "memory usage: 253.0+ KB\n"
     ]
    }
   ],
   "source": [
    "# To show information about the dataset\n",
    "Tweet_API.info()"
   ]
  },
  {
   "cell_type": "markdown",
   "id": "28b02e9a",
   "metadata": {},
   "source": [
    "**Table 3.0 above shows information about the data present in Tweet_API dataset per column**"
   ]
  },
  {
   "cell_type": "code",
   "execution_count": 130,
   "id": "7cf0dcb7",
   "metadata": {},
   "outputs": [
    {
     "data": {
      "text/plain": [
       "0"
      ]
     },
     "execution_count": 130,
     "metadata": {},
     "output_type": "execute_result"
    }
   ],
   "source": [
    "## To show the number of duplicated values in the dataset \n",
    "Enhance_twitter.duplicated().sum()"
   ]
  },
  {
   "cell_type": "code",
   "execution_count": 131,
   "id": "cfb9b832",
   "metadata": {},
   "outputs": [
    {
     "data": {
      "text/plain": [
       "0"
      ]
     },
     "execution_count": 131,
     "metadata": {},
     "output_type": "execute_result"
    }
   ],
   "source": [
    "# To show the number of duplicated values in the dataset \n",
    "Image_prediction.duplicated().sum()"
   ]
  },
  {
   "cell_type": "code",
   "execution_count": 132,
   "id": "51d75edc",
   "metadata": {},
   "outputs": [
    {
     "data": {
      "text/plain": [
       "(2356, 17)"
      ]
     },
     "execution_count": 132,
     "metadata": {},
     "output_type": "execute_result"
    }
   ],
   "source": [
    "# to check the spread of the dataset\n",
    "Enhance_twitter.shape"
   ]
  },
  {
   "cell_type": "code",
   "execution_count": 133,
   "id": "4375a9f2",
   "metadata": {},
   "outputs": [
    {
     "data": {
      "text/plain": [
       "(2075, 12)"
      ]
     },
     "execution_count": 133,
     "metadata": {},
     "output_type": "execute_result"
    }
   ],
   "source": [
    "# to check the spread of the dataset\n",
    "Image_prediction.shape"
   ]
  },
  {
   "cell_type": "code",
   "execution_count": 134,
   "id": "b80c5af1",
   "metadata": {},
   "outputs": [
    {
     "data": {
      "text/plain": [
       "(1177, 31)"
      ]
     },
     "execution_count": 134,
     "metadata": {},
     "output_type": "execute_result"
    }
   ],
   "source": [
    "# to check the spread of the dataset\n",
    "Tweet_API.shape"
   ]
  },
  {
   "cell_type": "code",
   "execution_count": 135,
   "id": "1be60d61",
   "metadata": {},
   "outputs": [
    {
     "data": {
      "text/plain": [
       "tweet_id                      2356\n",
       "in_reply_to_status_id           77\n",
       "in_reply_to_user_id             31\n",
       "timestamp                     2356\n",
       "source                           4\n",
       "text                          2356\n",
       "retweeted_status_id            181\n",
       "retweeted_status_user_id        25\n",
       "retweeted_status_timestamp     181\n",
       "expanded_urls                 2218\n",
       "rating_numerator                40\n",
       "rating_denominator              18\n",
       "name                           957\n",
       "doggo                            2\n",
       "floofer                          2\n",
       "pupper                           2\n",
       "puppo                            2\n",
       "dtype: int64"
      ]
     },
     "execution_count": 135,
     "metadata": {},
     "output_type": "execute_result"
    }
   ],
   "source": [
    "# To know the number of unique values in each column of the dataset\n",
    "Enhance_twitter.nunique()"
   ]
  },
  {
   "cell_type": "markdown",
   "id": "c79df838",
   "metadata": {},
   "source": [
    "**Table 4.0 above shows the distribution of unique values per each column in the dataset**"
   ]
  },
  {
   "cell_type": "code",
   "execution_count": 136,
   "id": "ce164137",
   "metadata": {},
   "outputs": [
    {
     "data": {
      "text/plain": [
       "tweet_id    2075\n",
       "jpg_url     2009\n",
       "img_num        4\n",
       "p1           378\n",
       "p1_conf     2006\n",
       "p1_dog         2\n",
       "p2           405\n",
       "p2_conf     2004\n",
       "p2_dog         2\n",
       "p3           408\n",
       "p3_conf     2006\n",
       "p3_dog         2\n",
       "dtype: int64"
      ]
     },
     "execution_count": 136,
     "metadata": {},
     "output_type": "execute_result"
    }
   ],
   "source": [
    "# To display the unique values in the dataset\n",
    "Image_prediction.nunique()"
   ]
  },
  {
   "cell_type": "markdown",
   "id": "64dedbad",
   "metadata": {},
   "source": [
    "**Table 5.0 above shows the distribution of unique values per each column in the dataset**"
   ]
  },
  {
   "cell_type": "code",
   "execution_count": 137,
   "id": "1159b111",
   "metadata": {},
   "outputs": [
    {
     "data": {
      "text/plain": [
       "17                 tweet_id\n",
       "37                   source\n",
       "38    in_reply_to_status_id\n",
       "40      in_reply_to_user_id\n",
       "dtype: object"
      ]
     },
     "execution_count": 137,
     "metadata": {},
     "output_type": "execute_result"
    }
   ],
   "source": [
    "# To get the dupilcated column in all the 3 dataset which should only be the ID columns\n",
    "all_columns=pd.Series(list(Enhance_twitter) + list(Image_prediction) + list (Tweet_API))\n",
    "all_columns[all_columns.duplicated()]"
   ]
  },
  {
   "cell_type": "markdown",
   "id": "0ee9140d",
   "metadata": {},
   "source": [
    "**Table 6.0 above shows the duplicated columns across the 3 dataset**"
   ]
  },
  {
   "cell_type": "code",
   "execution_count": 138,
   "id": "bdb8399e",
   "metadata": {},
   "outputs": [
    {
     "data": {
      "text/plain": [
       "['tweet_id',\n",
       " 'in_reply_to_status_id',\n",
       " 'in_reply_to_user_id',\n",
       " 'timestamp',\n",
       " 'source',\n",
       " 'text',\n",
       " 'retweeted_status_id',\n",
       " 'retweeted_status_user_id',\n",
       " 'retweeted_status_timestamp',\n",
       " 'expanded_urls',\n",
       " 'rating_numerator',\n",
       " 'rating_denominator',\n",
       " 'name',\n",
       " 'doggo',\n",
       " 'floofer',\n",
       " 'pupper',\n",
       " 'puppo']"
      ]
     },
     "execution_count": 138,
     "metadata": {},
     "output_type": "execute_result"
    }
   ],
   "source": [
    "# To get the list of columns in the dataset\n",
    "list(Enhance_twitter)"
   ]
  },
  {
   "cell_type": "markdown",
   "id": "e7e36cc9",
   "metadata": {},
   "source": [
    "**Table 7.0 above shows the list of columns present in the dataset**"
   ]
  },
  {
   "cell_type": "code",
   "execution_count": 139,
   "id": "97be0b7c",
   "metadata": {},
   "outputs": [
    {
     "data": {
      "text/plain": [
       "['tweet_id',\n",
       " 'jpg_url',\n",
       " 'img_num',\n",
       " 'p1',\n",
       " 'p1_conf',\n",
       " 'p1_dog',\n",
       " 'p2',\n",
       " 'p2_conf',\n",
       " 'p2_dog',\n",
       " 'p3',\n",
       " 'p3_conf',\n",
       " 'p3_dog']"
      ]
     },
     "execution_count": 139,
     "metadata": {},
     "output_type": "execute_result"
    }
   ],
   "source": [
    "# To get the list of columns in the dataset\n",
    "list(Image_prediction)"
   ]
  },
  {
   "cell_type": "markdown",
   "id": "d0435561",
   "metadata": {},
   "source": [
    "**Table 8.0 above shows the list of columns present in the dataset**"
   ]
  },
  {
   "cell_type": "code",
   "execution_count": 140,
   "id": "b88a8e59",
   "metadata": {},
   "outputs": [
    {
     "data": {
      "text/plain": [
       "['created_at',\n",
       " 'id',\n",
       " 'id_str',\n",
       " 'full_text',\n",
       " 'truncated',\n",
       " 'display_text_range',\n",
       " 'entities',\n",
       " 'extended_entities',\n",
       " 'source',\n",
       " 'in_reply_to_status_id',\n",
       " 'in_reply_to_status_id_str',\n",
       " 'in_reply_to_user_id',\n",
       " 'in_reply_to_user_id_str',\n",
       " 'in_reply_to_screen_name',\n",
       " 'user',\n",
       " 'geo',\n",
       " 'coordinates',\n",
       " 'place',\n",
       " 'contributors',\n",
       " 'is_quote_status',\n",
       " 'retweet_count',\n",
       " 'favorite_count',\n",
       " 'favorited',\n",
       " 'retweeted',\n",
       " 'possibly_sensitive',\n",
       " 'possibly_sensitive_appealable',\n",
       " 'lang',\n",
       " 'retweeted_status',\n",
       " 'quoted_status_id',\n",
       " 'quoted_status_id_str',\n",
       " 'quoted_status']"
      ]
     },
     "execution_count": 140,
     "metadata": {},
     "output_type": "execute_result"
    }
   ],
   "source": [
    "# To get the list of columns in the dataset\n",
    "list(Tweet_API)"
   ]
  },
  {
   "cell_type": "markdown",
   "id": "2bf5dfc5",
   "metadata": {},
   "source": [
    "**Table 9.0 above shows the list of columns present in the dataset**"
   ]
  },
  {
   "cell_type": "code",
   "execution_count": 141,
   "id": "c8038d15",
   "metadata": {},
   "outputs": [
    {
     "data": {
      "text/plain": [
       "tweet_id                         0\n",
       "in_reply_to_status_id         2278\n",
       "in_reply_to_user_id           2278\n",
       "timestamp                        0\n",
       "source                           0\n",
       "text                             0\n",
       "retweeted_status_id           2175\n",
       "retweeted_status_user_id      2175\n",
       "retweeted_status_timestamp    2175\n",
       "expanded_urls                   59\n",
       "rating_numerator                 0\n",
       "rating_denominator               0\n",
       "name                             0\n",
       "doggo                            0\n",
       "floofer                          0\n",
       "pupper                           0\n",
       "puppo                            0\n",
       "dtype: int64"
      ]
     },
     "execution_count": 141,
     "metadata": {},
     "output_type": "execute_result"
    }
   ],
   "source": [
    "# To get the nan values in the dataset\n",
    "Enhance_twitter.isnull().sum()"
   ]
  },
  {
   "cell_type": "markdown",
   "id": "a05f53fc",
   "metadata": {},
   "source": [
    "**Table 10.0 above shows the missing values in the columns present in the dataset**"
   ]
  },
  {
   "cell_type": "code",
   "execution_count": 142,
   "id": "c8d37e29",
   "metadata": {},
   "outputs": [
    {
     "data": {
      "text/plain": [
       "tweet_id    0\n",
       "jpg_url     0\n",
       "img_num     0\n",
       "p1          0\n",
       "p1_conf     0\n",
       "p1_dog      0\n",
       "p2          0\n",
       "p2_conf     0\n",
       "p2_dog      0\n",
       "p3          0\n",
       "p3_conf     0\n",
       "p3_dog      0\n",
       "dtype: int64"
      ]
     },
     "execution_count": 142,
     "metadata": {},
     "output_type": "execute_result"
    }
   ],
   "source": [
    "# To get the nan values in the dataset\n",
    "Image_prediction.isnull().sum()"
   ]
  },
  {
   "cell_type": "markdown",
   "id": "04edc062",
   "metadata": {},
   "source": [
    "**Table 11.0 above shows the missing values in the columns present in the dataset**"
   ]
  },
  {
   "cell_type": "code",
   "execution_count": 143,
   "id": "1b7098b6",
   "metadata": {},
   "outputs": [
    {
     "data": {
      "text/plain": [
       "<bound method DataFrame.isnull of                           created_at                  id              id_str  \\\n",
       "0     Tue Aug 01 00:17:27 +0000 2017  892177421306343426  892177421306343426   \n",
       "1     Sun Jul 30 15:58:51 +0000 2017  891689557279858688  891689557279858688   \n",
       "2     Sat Jul 29 00:08:17 +0000 2017  891087950875897856  891087950875897856   \n",
       "3     Fri Jul 28 00:22:40 +0000 2017  890729181411237888  890729181411237888   \n",
       "4     Wed Jul 26 15:59:51 +0000 2017  890240255349198849  890240255349198849   \n",
       "...                              ...                 ...                 ...   \n",
       "1172  Mon Nov 16 00:55:59 +0000 2015  666057090499244032  666057090499244032   \n",
       "1173  Mon Nov 16 00:35:11 +0000 2015  666051853826850816  666051853826850816   \n",
       "1174  Mon Nov 16 00:24:50 +0000 2015  666049248165822465  666049248165822465   \n",
       "1175  Sun Nov 15 23:21:54 +0000 2015  666033412701032449  666033412701032449   \n",
       "1176  Sun Nov 15 22:32:08 +0000 2015  666020888022790149  666020888022790149   \n",
       "\n",
       "                                              full_text  truncated  \\\n",
       "0     This is Tilly. She's just checking pup on you....      False   \n",
       "1     This is Darla. She commenced a snooze mid meal...      False   \n",
       "2     Here we have a majestic great white breaching ...      False   \n",
       "3     When you watch your owner call another dog a g...      False   \n",
       "4     This is Cassie. She is a college pup. Studying...      False   \n",
       "...                                                 ...        ...   \n",
       "1172  My oh my. This is a rare blond Canadian terrie...      False   \n",
       "1173  This is an odd dog. Hard on the outside but lo...      False   \n",
       "1174  Here we have a 1949 1st generation vulpix. Enj...      False   \n",
       "1175  Here is a very happy pup. Big fan of well-main...      False   \n",
       "1176  Here we have a Japanese Irish Setter. Lost eye...      False   \n",
       "\n",
       "     display_text_range                                           entities  \\\n",
       "0              [0, 138]  {'hashtags': [], 'symbols': [], 'user_mentions...   \n",
       "1               [0, 79]  {'hashtags': [], 'symbols': [], 'user_mentions...   \n",
       "2              [0, 138]  {'hashtags': [{'text': 'BarkWeek', 'indices': ...   \n",
       "3              [0, 118]  {'hashtags': [], 'symbols': [], 'user_mentions...   \n",
       "4              [0, 133]  {'hashtags': [], 'symbols': [], 'user_mentions...   \n",
       "...                 ...                                                ...   \n",
       "1172           [0, 124]  {'hashtags': [], 'symbols': [], 'user_mentions...   \n",
       "1173           [0, 138]  {'hashtags': [], 'symbols': [], 'user_mentions...   \n",
       "1174           [0, 120]  {'hashtags': [], 'symbols': [], 'user_mentions...   \n",
       "1175           [0, 130]  {'hashtags': [], 'symbols': [], 'user_mentions...   \n",
       "1176           [0, 131]  {'hashtags': [], 'symbols': [], 'user_mentions...   \n",
       "\n",
       "                                      extended_entities  \\\n",
       "0     {'media': [{'id': 892177413194625024, 'id_str'...   \n",
       "1     {'media': [{'id': 891689552724799489, 'id_str'...   \n",
       "2     {'media': [{'id': 891087942176911360, 'id_str'...   \n",
       "3     {'media': [{'id': 890729118844600320, 'id_str'...   \n",
       "4     {'media': [{'id': 890240245463175168, 'id_str'...   \n",
       "...                                                 ...   \n",
       "1172  {'media': [{'id': 666057085227016192, 'id_str'...   \n",
       "1173  {'media': [{'id': 666051848592334848, 'id_str'...   \n",
       "1174  {'media': [{'id': 666049244999131136, 'id_str'...   \n",
       "1175  {'media': [{'id': 666033409081393153, 'id_str'...   \n",
       "1176  {'media': [{'id': 666020881337073664, 'id_str'...   \n",
       "\n",
       "                                                 source  \\\n",
       "0     <a href=\"http://twitter.com/download/iphone\" r...   \n",
       "1     <a href=\"http://twitter.com/download/iphone\" r...   \n",
       "2     <a href=\"http://twitter.com/download/iphone\" r...   \n",
       "3     <a href=\"http://twitter.com/download/iphone\" r...   \n",
       "4     <a href=\"http://twitter.com/download/iphone\" r...   \n",
       "...                                                 ...   \n",
       "1172  <a href=\"http://twitter.com/download/iphone\" r...   \n",
       "1173  <a href=\"http://twitter.com/download/iphone\" r...   \n",
       "1174  <a href=\"http://twitter.com/download/iphone\" r...   \n",
       "1175  <a href=\"http://twitter.com/download/iphone\" r...   \n",
       "1176  <a href=\"http://twitter.com/download/iphone\" r...   \n",
       "\n",
       "      in_reply_to_status_id  ... favorite_count  favorited retweeted  \\\n",
       "0                       NaN  ...          33819      False     False   \n",
       "1                       NaN  ...          42908      False     False   \n",
       "2                       NaN  ...          20562      False     False   \n",
       "3                       NaN  ...          56848      False     False   \n",
       "4                       NaN  ...          32467      False     False   \n",
       "...                     ...  ...            ...        ...       ...   \n",
       "1172                    NaN  ...            304      False     False   \n",
       "1173                    NaN  ...           1253      False     False   \n",
       "1174                    NaN  ...            111      False     False   \n",
       "1175                    NaN  ...            128      False     False   \n",
       "1176                    NaN  ...           2535      False     False   \n",
       "\n",
       "     possibly_sensitive possibly_sensitive_appealable lang retweeted_status  \\\n",
       "0                 False                         False   en              NaN   \n",
       "1                 False                         False   en              NaN   \n",
       "2                 False                         False   en              NaN   \n",
       "3                 False                         False   en              NaN   \n",
       "4                 False                         False   en              NaN   \n",
       "...                 ...                           ...  ...              ...   \n",
       "1172              False                         False   en              NaN   \n",
       "1173              False                         False   en              NaN   \n",
       "1174              False                         False   en              NaN   \n",
       "1175              False                         False   en              NaN   \n",
       "1176              False                         False   en              NaN   \n",
       "\n",
       "     quoted_status_id quoted_status_id_str  quoted_status  \n",
       "0                 NaN                  NaN            NaN  \n",
       "1                 NaN                  NaN            NaN  \n",
       "2                 NaN                  NaN            NaN  \n",
       "3                 NaN                  NaN            NaN  \n",
       "4                 NaN                  NaN            NaN  \n",
       "...               ...                  ...            ...  \n",
       "1172              NaN                  NaN            NaN  \n",
       "1173              NaN                  NaN            NaN  \n",
       "1174              NaN                  NaN            NaN  \n",
       "1175              NaN                  NaN            NaN  \n",
       "1176              NaN                  NaN            NaN  \n",
       "\n",
       "[1177 rows x 31 columns]>"
      ]
     },
     "execution_count": 143,
     "metadata": {},
     "output_type": "execute_result"
    }
   ],
   "source": [
    "# To get the nan values in the dataset\n",
    "Tweet_API.isnull"
   ]
  },
  {
   "cell_type": "markdown",
   "id": "da7d9510",
   "metadata": {},
   "source": [
    "**Table 11.0 above shows the missing values in the columns present in the dataset**"
   ]
  },
  {
   "cell_type": "code",
   "execution_count": 144,
   "id": "35e51544",
   "metadata": {},
   "outputs": [
    {
     "data": {
      "text/plain": [
       "created_at                        object\n",
       "id                                 int64\n",
       "id_str                            object\n",
       "full_text                         object\n",
       "truncated                           bool\n",
       "display_text_range                object\n",
       "entities                          object\n",
       "extended_entities                 object\n",
       "source                            object\n",
       "in_reply_to_status_id            float64\n",
       "in_reply_to_status_id_str         object\n",
       "in_reply_to_user_id              float64\n",
       "in_reply_to_user_id_str           object\n",
       "in_reply_to_screen_name           object\n",
       "user                              object\n",
       "geo                               object\n",
       "coordinates                       object\n",
       "place                             object\n",
       "contributors                      object\n",
       "is_quote_status                     bool\n",
       "retweet_count                      int64\n",
       "favorite_count                     int64\n",
       "favorited                           bool\n",
       "retweeted                           bool\n",
       "possibly_sensitive                object\n",
       "possibly_sensitive_appealable     object\n",
       "lang                              object\n",
       "retweeted_status                  object\n",
       "quoted_status_id                 float64\n",
       "quoted_status_id_str              object\n",
       "quoted_status                     object\n",
       "dtype: object"
      ]
     },
     "execution_count": 144,
     "metadata": {},
     "output_type": "execute_result"
    }
   ],
   "source": [
    "# To know the type of data type of each column in the dataset\n",
    "Tweet_API.dtypes"
   ]
  },
  {
   "cell_type": "markdown",
   "id": "976e364c",
   "metadata": {},
   "source": [
    "**Table 12.0 above shows the type of data type present in each column of the dataset**"
   ]
  },
  {
   "cell_type": "code",
   "execution_count": 145,
   "id": "149382d0",
   "metadata": {},
   "outputs": [
    {
     "data": {
      "text/plain": [
       "tweet_id                        int64\n",
       "in_reply_to_status_id         float64\n",
       "in_reply_to_user_id           float64\n",
       "timestamp                      object\n",
       "source                         object\n",
       "text                           object\n",
       "retweeted_status_id           float64\n",
       "retweeted_status_user_id      float64\n",
       "retweeted_status_timestamp     object\n",
       "expanded_urls                  object\n",
       "rating_numerator                int64\n",
       "rating_denominator              int64\n",
       "name                           object\n",
       "doggo                          object\n",
       "floofer                        object\n",
       "pupper                         object\n",
       "puppo                          object\n",
       "dtype: object"
      ]
     },
     "execution_count": 145,
     "metadata": {},
     "output_type": "execute_result"
    }
   ],
   "source": [
    "# To know the type of data type of each column in the dataset\n",
    "Enhance_twitter.dtypes"
   ]
  },
  {
   "cell_type": "markdown",
   "id": "1c0a6e21",
   "metadata": {},
   "source": [
    "**Table 13.0 above shows the type of data type present in each column of the dataset**"
   ]
  },
  {
   "cell_type": "code",
   "execution_count": 146,
   "id": "83c2673d",
   "metadata": {},
   "outputs": [
    {
     "data": {
      "text/plain": [
       "tweet_id      int64\n",
       "jpg_url      object\n",
       "img_num       int64\n",
       "p1           object\n",
       "p1_conf     float64\n",
       "p1_dog         bool\n",
       "p2           object\n",
       "p2_conf     float64\n",
       "p2_dog         bool\n",
       "p3           object\n",
       "p3_conf     float64\n",
       "p3_dog         bool\n",
       "dtype: object"
      ]
     },
     "execution_count": 146,
     "metadata": {},
     "output_type": "execute_result"
    }
   ],
   "source": [
    "# To know the type of data type of each column in the dataset\n",
    "Image_prediction.dtypes"
   ]
  },
  {
   "cell_type": "markdown",
   "id": "2d8ee040",
   "metadata": {},
   "source": [
    "**Table 14.0 above shows the type of data type present in each column of the dataset**"
   ]
  },
  {
   "cell_type": "code",
   "execution_count": 147,
   "id": "a063c813",
   "metadata": {},
   "outputs": [
    {
     "data": {
      "text/html": [
       "<div>\n",
       "<style scoped>\n",
       "    .dataframe tbody tr th:only-of-type {\n",
       "        vertical-align: middle;\n",
       "    }\n",
       "\n",
       "    .dataframe tbody tr th {\n",
       "        vertical-align: top;\n",
       "    }\n",
       "\n",
       "    .dataframe thead th {\n",
       "        text-align: right;\n",
       "    }\n",
       "</style>\n",
       "<table border=\"1\" class=\"dataframe\">\n",
       "  <thead>\n",
       "    <tr style=\"text-align: right;\">\n",
       "      <th></th>\n",
       "      <th>tweet_id</th>\n",
       "      <th>in_reply_to_status_id</th>\n",
       "      <th>in_reply_to_user_id</th>\n",
       "      <th>retweeted_status_id</th>\n",
       "      <th>retweeted_status_user_id</th>\n",
       "      <th>rating_numerator</th>\n",
       "      <th>rating_denominator</th>\n",
       "    </tr>\n",
       "  </thead>\n",
       "  <tbody>\n",
       "    <tr>\n",
       "      <th>count</th>\n",
       "      <td>2.356000e+03</td>\n",
       "      <td>7.800000e+01</td>\n",
       "      <td>7.800000e+01</td>\n",
       "      <td>1.810000e+02</td>\n",
       "      <td>1.810000e+02</td>\n",
       "      <td>2356.000000</td>\n",
       "      <td>2356.000000</td>\n",
       "    </tr>\n",
       "    <tr>\n",
       "      <th>mean</th>\n",
       "      <td>7.427716e+17</td>\n",
       "      <td>7.455079e+17</td>\n",
       "      <td>2.014171e+16</td>\n",
       "      <td>7.720400e+17</td>\n",
       "      <td>1.241698e+16</td>\n",
       "      <td>13.126486</td>\n",
       "      <td>10.455433</td>\n",
       "    </tr>\n",
       "    <tr>\n",
       "      <th>std</th>\n",
       "      <td>6.856705e+16</td>\n",
       "      <td>7.582492e+16</td>\n",
       "      <td>1.252797e+17</td>\n",
       "      <td>6.236928e+16</td>\n",
       "      <td>9.599254e+16</td>\n",
       "      <td>45.876648</td>\n",
       "      <td>6.745237</td>\n",
       "    </tr>\n",
       "    <tr>\n",
       "      <th>min</th>\n",
       "      <td>6.660209e+17</td>\n",
       "      <td>6.658147e+17</td>\n",
       "      <td>1.185634e+07</td>\n",
       "      <td>6.661041e+17</td>\n",
       "      <td>7.832140e+05</td>\n",
       "      <td>0.000000</td>\n",
       "      <td>0.000000</td>\n",
       "    </tr>\n",
       "    <tr>\n",
       "      <th>25%</th>\n",
       "      <td>6.783989e+17</td>\n",
       "      <td>6.757419e+17</td>\n",
       "      <td>3.086374e+08</td>\n",
       "      <td>7.186315e+17</td>\n",
       "      <td>4.196984e+09</td>\n",
       "      <td>10.000000</td>\n",
       "      <td>10.000000</td>\n",
       "    </tr>\n",
       "    <tr>\n",
       "      <th>50%</th>\n",
       "      <td>7.196279e+17</td>\n",
       "      <td>7.038708e+17</td>\n",
       "      <td>4.196984e+09</td>\n",
       "      <td>7.804657e+17</td>\n",
       "      <td>4.196984e+09</td>\n",
       "      <td>11.000000</td>\n",
       "      <td>10.000000</td>\n",
       "    </tr>\n",
       "    <tr>\n",
       "      <th>75%</th>\n",
       "      <td>7.993373e+17</td>\n",
       "      <td>8.257804e+17</td>\n",
       "      <td>4.196984e+09</td>\n",
       "      <td>8.203146e+17</td>\n",
       "      <td>4.196984e+09</td>\n",
       "      <td>12.000000</td>\n",
       "      <td>10.000000</td>\n",
       "    </tr>\n",
       "    <tr>\n",
       "      <th>max</th>\n",
       "      <td>8.924206e+17</td>\n",
       "      <td>8.862664e+17</td>\n",
       "      <td>8.405479e+17</td>\n",
       "      <td>8.874740e+17</td>\n",
       "      <td>7.874618e+17</td>\n",
       "      <td>1776.000000</td>\n",
       "      <td>170.000000</td>\n",
       "    </tr>\n",
       "  </tbody>\n",
       "</table>\n",
       "</div>"
      ],
      "text/plain": [
       "           tweet_id  in_reply_to_status_id  in_reply_to_user_id  \\\n",
       "count  2.356000e+03           7.800000e+01         7.800000e+01   \n",
       "mean   7.427716e+17           7.455079e+17         2.014171e+16   \n",
       "std    6.856705e+16           7.582492e+16         1.252797e+17   \n",
       "min    6.660209e+17           6.658147e+17         1.185634e+07   \n",
       "25%    6.783989e+17           6.757419e+17         3.086374e+08   \n",
       "50%    7.196279e+17           7.038708e+17         4.196984e+09   \n",
       "75%    7.993373e+17           8.257804e+17         4.196984e+09   \n",
       "max    8.924206e+17           8.862664e+17         8.405479e+17   \n",
       "\n",
       "       retweeted_status_id  retweeted_status_user_id  rating_numerator  \\\n",
       "count         1.810000e+02              1.810000e+02       2356.000000   \n",
       "mean          7.720400e+17              1.241698e+16         13.126486   \n",
       "std           6.236928e+16              9.599254e+16         45.876648   \n",
       "min           6.661041e+17              7.832140e+05          0.000000   \n",
       "25%           7.186315e+17              4.196984e+09         10.000000   \n",
       "50%           7.804657e+17              4.196984e+09         11.000000   \n",
       "75%           8.203146e+17              4.196984e+09         12.000000   \n",
       "max           8.874740e+17              7.874618e+17       1776.000000   \n",
       "\n",
       "       rating_denominator  \n",
       "count         2356.000000  \n",
       "mean            10.455433  \n",
       "std              6.745237  \n",
       "min              0.000000  \n",
       "25%             10.000000  \n",
       "50%             10.000000  \n",
       "75%             10.000000  \n",
       "max            170.000000  "
      ]
     },
     "execution_count": 147,
     "metadata": {},
     "output_type": "execute_result"
    }
   ],
   "source": [
    "# To gather more information about the dataset\n",
    "Enhance_twitter.describe()"
   ]
  },
  {
   "cell_type": "markdown",
   "id": "1eb052b4",
   "metadata": {},
   "source": [
    "**Table 15.0 above shows statistical information about the dataset**"
   ]
  },
  {
   "cell_type": "code",
   "execution_count": 148,
   "id": "536d589d",
   "metadata": {},
   "outputs": [
    {
     "data": {
      "text/html": [
       "<div>\n",
       "<style scoped>\n",
       "    .dataframe tbody tr th:only-of-type {\n",
       "        vertical-align: middle;\n",
       "    }\n",
       "\n",
       "    .dataframe tbody tr th {\n",
       "        vertical-align: top;\n",
       "    }\n",
       "\n",
       "    .dataframe thead th {\n",
       "        text-align: right;\n",
       "    }\n",
       "</style>\n",
       "<table border=\"1\" class=\"dataframe\">\n",
       "  <thead>\n",
       "    <tr style=\"text-align: right;\">\n",
       "      <th></th>\n",
       "      <th>tweet_id</th>\n",
       "      <th>img_num</th>\n",
       "      <th>p1_conf</th>\n",
       "      <th>p2_conf</th>\n",
       "      <th>p3_conf</th>\n",
       "    </tr>\n",
       "  </thead>\n",
       "  <tbody>\n",
       "    <tr>\n",
       "      <th>count</th>\n",
       "      <td>2.075000e+03</td>\n",
       "      <td>2075.000000</td>\n",
       "      <td>2075.000000</td>\n",
       "      <td>2.075000e+03</td>\n",
       "      <td>2.075000e+03</td>\n",
       "    </tr>\n",
       "    <tr>\n",
       "      <th>mean</th>\n",
       "      <td>7.384514e+17</td>\n",
       "      <td>1.203855</td>\n",
       "      <td>0.594548</td>\n",
       "      <td>1.345886e-01</td>\n",
       "      <td>6.032417e-02</td>\n",
       "    </tr>\n",
       "    <tr>\n",
       "      <th>std</th>\n",
       "      <td>6.785203e+16</td>\n",
       "      <td>0.561875</td>\n",
       "      <td>0.271174</td>\n",
       "      <td>1.006657e-01</td>\n",
       "      <td>5.090593e-02</td>\n",
       "    </tr>\n",
       "    <tr>\n",
       "      <th>min</th>\n",
       "      <td>6.660209e+17</td>\n",
       "      <td>1.000000</td>\n",
       "      <td>0.044333</td>\n",
       "      <td>1.011300e-08</td>\n",
       "      <td>1.740170e-10</td>\n",
       "    </tr>\n",
       "    <tr>\n",
       "      <th>25%</th>\n",
       "      <td>6.764835e+17</td>\n",
       "      <td>1.000000</td>\n",
       "      <td>0.364412</td>\n",
       "      <td>5.388625e-02</td>\n",
       "      <td>1.622240e-02</td>\n",
       "    </tr>\n",
       "    <tr>\n",
       "      <th>50%</th>\n",
       "      <td>7.119988e+17</td>\n",
       "      <td>1.000000</td>\n",
       "      <td>0.588230</td>\n",
       "      <td>1.181810e-01</td>\n",
       "      <td>4.944380e-02</td>\n",
       "    </tr>\n",
       "    <tr>\n",
       "      <th>75%</th>\n",
       "      <td>7.932034e+17</td>\n",
       "      <td>1.000000</td>\n",
       "      <td>0.843855</td>\n",
       "      <td>1.955655e-01</td>\n",
       "      <td>9.180755e-02</td>\n",
       "    </tr>\n",
       "    <tr>\n",
       "      <th>max</th>\n",
       "      <td>8.924206e+17</td>\n",
       "      <td>4.000000</td>\n",
       "      <td>1.000000</td>\n",
       "      <td>4.880140e-01</td>\n",
       "      <td>2.734190e-01</td>\n",
       "    </tr>\n",
       "  </tbody>\n",
       "</table>\n",
       "</div>"
      ],
      "text/plain": [
       "           tweet_id      img_num      p1_conf       p2_conf       p3_conf\n",
       "count  2.075000e+03  2075.000000  2075.000000  2.075000e+03  2.075000e+03\n",
       "mean   7.384514e+17     1.203855     0.594548  1.345886e-01  6.032417e-02\n",
       "std    6.785203e+16     0.561875     0.271174  1.006657e-01  5.090593e-02\n",
       "min    6.660209e+17     1.000000     0.044333  1.011300e-08  1.740170e-10\n",
       "25%    6.764835e+17     1.000000     0.364412  5.388625e-02  1.622240e-02\n",
       "50%    7.119988e+17     1.000000     0.588230  1.181810e-01  4.944380e-02\n",
       "75%    7.932034e+17     1.000000     0.843855  1.955655e-01  9.180755e-02\n",
       "max    8.924206e+17     4.000000     1.000000  4.880140e-01  2.734190e-01"
      ]
     },
     "execution_count": 148,
     "metadata": {},
     "output_type": "execute_result"
    }
   ],
   "source": [
    "# To gather more information about the dataset\n",
    "Image_prediction.describe()"
   ]
  },
  {
   "cell_type": "markdown",
   "id": "4c9c4d1e",
   "metadata": {},
   "source": [
    "**Table 16.0 above shows statistical information about the dataset**"
   ]
  },
  {
   "cell_type": "code",
   "execution_count": 149,
   "id": "371480fc",
   "metadata": {},
   "outputs": [
    {
     "data": {
      "text/html": [
       "<div>\n",
       "<style scoped>\n",
       "    .dataframe tbody tr th:only-of-type {\n",
       "        vertical-align: middle;\n",
       "    }\n",
       "\n",
       "    .dataframe tbody tr th {\n",
       "        vertical-align: top;\n",
       "    }\n",
       "\n",
       "    .dataframe thead th {\n",
       "        text-align: right;\n",
       "    }\n",
       "</style>\n",
       "<table border=\"1\" class=\"dataframe\">\n",
       "  <thead>\n",
       "    <tr style=\"text-align: right;\">\n",
       "      <th></th>\n",
       "      <th>id</th>\n",
       "      <th>in_reply_to_status_id</th>\n",
       "      <th>in_reply_to_user_id</th>\n",
       "      <th>retweet_count</th>\n",
       "      <th>favorite_count</th>\n",
       "      <th>quoted_status_id</th>\n",
       "    </tr>\n",
       "  </thead>\n",
       "  <tbody>\n",
       "    <tr>\n",
       "      <th>count</th>\n",
       "      <td>1.177000e+03</td>\n",
       "      <td>3.800000e+01</td>\n",
       "      <td>3.800000e+01</td>\n",
       "      <td>1177.000000</td>\n",
       "      <td>1177.000000</td>\n",
       "      <td>1.400000e+01</td>\n",
       "    </tr>\n",
       "    <tr>\n",
       "      <th>mean</th>\n",
       "      <td>7.426493e+17</td>\n",
       "      <td>7.594955e+17</td>\n",
       "      <td>2.211968e+16</td>\n",
       "      <td>3107.338997</td>\n",
       "      <td>7901.181818</td>\n",
       "      <td>8.309848e+17</td>\n",
       "    </tr>\n",
       "    <tr>\n",
       "      <th>std</th>\n",
       "      <td>6.851760e+16</td>\n",
       "      <td>7.842538e+16</td>\n",
       "      <td>1.363549e+17</td>\n",
       "      <td>5458.476288</td>\n",
       "      <td>11536.383916</td>\n",
       "      <td>5.251913e+16</td>\n",
       "    </tr>\n",
       "    <tr>\n",
       "      <th>min</th>\n",
       "      <td>6.660209e+17</td>\n",
       "      <td>6.671522e+17</td>\n",
       "      <td>1.185634e+07</td>\n",
       "      <td>2.000000</td>\n",
       "      <td>0.000000</td>\n",
       "      <td>7.099191e+17</td>\n",
       "    </tr>\n",
       "    <tr>\n",
       "      <th>25%</th>\n",
       "      <td>6.783968e+17</td>\n",
       "      <td>6.834783e+17</td>\n",
       "      <td>2.155841e+08</td>\n",
       "      <td>613.000000</td>\n",
       "      <td>1339.000000</td>\n",
       "      <td>8.015683e+17</td>\n",
       "    </tr>\n",
       "    <tr>\n",
       "      <th>50%</th>\n",
       "      <td>7.193678e+17</td>\n",
       "      <td>7.489146e+17</td>\n",
       "      <td>4.196984e+09</td>\n",
       "      <td>1460.000000</td>\n",
       "      <td>3553.000000</td>\n",
       "      <td>8.439624e+17</td>\n",
       "    </tr>\n",
       "    <tr>\n",
       "      <th>75%</th>\n",
       "      <td>7.992971e+17</td>\n",
       "      <td>8.400601e+17</td>\n",
       "      <td>4.196984e+09</td>\n",
       "      <td>3628.000000</td>\n",
       "      <td>9872.000000</td>\n",
       "      <td>8.735790e+17</td>\n",
       "    </tr>\n",
       "    <tr>\n",
       "      <th>max</th>\n",
       "      <td>8.921774e+17</td>\n",
       "      <td>8.862664e+17</td>\n",
       "      <td>8.405479e+17</td>\n",
       "      <td>79515.000000</td>\n",
       "      <td>131075.000000</td>\n",
       "      <td>8.860534e+17</td>\n",
       "    </tr>\n",
       "  </tbody>\n",
       "</table>\n",
       "</div>"
      ],
      "text/plain": [
       "                 id  in_reply_to_status_id  in_reply_to_user_id  \\\n",
       "count  1.177000e+03           3.800000e+01         3.800000e+01   \n",
       "mean   7.426493e+17           7.594955e+17         2.211968e+16   \n",
       "std    6.851760e+16           7.842538e+16         1.363549e+17   \n",
       "min    6.660209e+17           6.671522e+17         1.185634e+07   \n",
       "25%    6.783968e+17           6.834783e+17         2.155841e+08   \n",
       "50%    7.193678e+17           7.489146e+17         4.196984e+09   \n",
       "75%    7.992971e+17           8.400601e+17         4.196984e+09   \n",
       "max    8.921774e+17           8.862664e+17         8.405479e+17   \n",
       "\n",
       "       retweet_count  favorite_count  quoted_status_id  \n",
       "count    1177.000000     1177.000000      1.400000e+01  \n",
       "mean     3107.338997     7901.181818      8.309848e+17  \n",
       "std      5458.476288    11536.383916      5.251913e+16  \n",
       "min         2.000000        0.000000      7.099191e+17  \n",
       "25%       613.000000     1339.000000      8.015683e+17  \n",
       "50%      1460.000000     3553.000000      8.439624e+17  \n",
       "75%      3628.000000     9872.000000      8.735790e+17  \n",
       "max     79515.000000   131075.000000      8.860534e+17  "
      ]
     },
     "execution_count": 149,
     "metadata": {},
     "output_type": "execute_result"
    }
   ],
   "source": [
    "# To gather more information about the dataset\n",
    "Tweet_API.describe()"
   ]
  },
  {
   "cell_type": "markdown",
   "id": "bc82ed8d",
   "metadata": {},
   "source": [
    "**Table 17.0 above shows statistical information about the dataset**"
   ]
  },
  {
   "cell_type": "code",
   "execution_count": 150,
   "id": "56fccba0",
   "metadata": {},
   "outputs": [
    {
     "data": {
      "text/html": [
       "<div>\n",
       "<style scoped>\n",
       "    .dataframe tbody tr th:only-of-type {\n",
       "        vertical-align: middle;\n",
       "    }\n",
       "\n",
       "    .dataframe tbody tr th {\n",
       "        vertical-align: top;\n",
       "    }\n",
       "\n",
       "    .dataframe thead th {\n",
       "        text-align: right;\n",
       "    }\n",
       "</style>\n",
       "<table border=\"1\" class=\"dataframe\">\n",
       "  <thead>\n",
       "    <tr style=\"text-align: right;\">\n",
       "      <th></th>\n",
       "      <th>tweet_id</th>\n",
       "      <th>in_reply_to_status_id</th>\n",
       "      <th>in_reply_to_user_id</th>\n",
       "      <th>timestamp</th>\n",
       "      <th>source</th>\n",
       "      <th>text</th>\n",
       "      <th>retweeted_status_id</th>\n",
       "      <th>retweeted_status_user_id</th>\n",
       "      <th>retweeted_status_timestamp</th>\n",
       "      <th>expanded_urls</th>\n",
       "      <th>rating_numerator</th>\n",
       "      <th>rating_denominator</th>\n",
       "      <th>name</th>\n",
       "      <th>doggo</th>\n",
       "      <th>floofer</th>\n",
       "      <th>pupper</th>\n",
       "      <th>puppo</th>\n",
       "    </tr>\n",
       "  </thead>\n",
       "  <tbody>\n",
       "    <tr>\n",
       "      <th>1989</th>\n",
       "      <td>672828477930868736</td>\n",
       "      <td>NaN</td>\n",
       "      <td>NaN</td>\n",
       "      <td>2015-12-04 17:23:04 +0000</td>\n",
       "      <td>&lt;a href=\"http://twitter.com/download/iphone\" r...</td>\n",
       "      <td>This is Jerry. He's a Timbuk Slytherin. Eats h...</td>\n",
       "      <td>NaN</td>\n",
       "      <td>NaN</td>\n",
       "      <td>NaN</td>\n",
       "      <td>https://twitter.com/dog_rates/status/672828477...</td>\n",
       "      <td>9</td>\n",
       "      <td>10</td>\n",
       "      <td>Jerry</td>\n",
       "      <td>None</td>\n",
       "      <td>None</td>\n",
       "      <td>None</td>\n",
       "      <td>None</td>\n",
       "    </tr>\n",
       "    <tr>\n",
       "      <th>1110</th>\n",
       "      <td>733822306246479872</td>\n",
       "      <td>NaN</td>\n",
       "      <td>NaN</td>\n",
       "      <td>2016-05-21 00:50:46 +0000</td>\n",
       "      <td>&lt;a href=\"http://twitter.com/download/iphone\" r...</td>\n",
       "      <td>This is Moose. He's a Polynesian Floofer. Dapp...</td>\n",
       "      <td>NaN</td>\n",
       "      <td>NaN</td>\n",
       "      <td>NaN</td>\n",
       "      <td>https://twitter.com/dog_rates/status/733822306...</td>\n",
       "      <td>10</td>\n",
       "      <td>10</td>\n",
       "      <td>Moose</td>\n",
       "      <td>None</td>\n",
       "      <td>floofer</td>\n",
       "      <td>None</td>\n",
       "      <td>None</td>\n",
       "    </tr>\n",
       "    <tr>\n",
       "      <th>691</th>\n",
       "      <td>787322443945877504</td>\n",
       "      <td>NaN</td>\n",
       "      <td>NaN</td>\n",
       "      <td>2016-10-15 16:01:13 +0000</td>\n",
       "      <td>&lt;a href=\"http://twitter.com/download/iphone\" r...</td>\n",
       "      <td>This is Lincoln. He forgot to use his blinker ...</td>\n",
       "      <td>NaN</td>\n",
       "      <td>NaN</td>\n",
       "      <td>NaN</td>\n",
       "      <td>https://twitter.com/dog_rates/status/787322443...</td>\n",
       "      <td>10</td>\n",
       "      <td>10</td>\n",
       "      <td>Lincoln</td>\n",
       "      <td>None</td>\n",
       "      <td>None</td>\n",
       "      <td>None</td>\n",
       "      <td>None</td>\n",
       "    </tr>\n",
       "    <tr>\n",
       "      <th>312</th>\n",
       "      <td>835264098648616962</td>\n",
       "      <td>NaN</td>\n",
       "      <td>NaN</td>\n",
       "      <td>2017-02-24 23:04:14 +0000</td>\n",
       "      <td>&lt;a href=\"http://twitter.com/download/iphone\" r...</td>\n",
       "      <td>Meet Lola. Her hobbies include being precious ...</td>\n",
       "      <td>NaN</td>\n",
       "      <td>NaN</td>\n",
       "      <td>NaN</td>\n",
       "      <td>https://www.gofundme.com/lolas-life-saving-sur...</td>\n",
       "      <td>12</td>\n",
       "      <td>10</td>\n",
       "      <td>Lola</td>\n",
       "      <td>None</td>\n",
       "      <td>None</td>\n",
       "      <td>None</td>\n",
       "      <td>None</td>\n",
       "    </tr>\n",
       "    <tr>\n",
       "      <th>1717</th>\n",
       "      <td>680191257256136705</td>\n",
       "      <td>NaN</td>\n",
       "      <td>NaN</td>\n",
       "      <td>2015-12-25 01:00:07 +0000</td>\n",
       "      <td>&lt;a href=\"http://twitter.com/download/iphone\" r...</td>\n",
       "      <td>Here's a sleepy Christmas pupper 11/10 https:/...</td>\n",
       "      <td>NaN</td>\n",
       "      <td>NaN</td>\n",
       "      <td>NaN</td>\n",
       "      <td>https://twitter.com/dog_rates/status/680191257...</td>\n",
       "      <td>11</td>\n",
       "      <td>10</td>\n",
       "      <td>None</td>\n",
       "      <td>None</td>\n",
       "      <td>None</td>\n",
       "      <td>pupper</td>\n",
       "      <td>None</td>\n",
       "    </tr>\n",
       "  </tbody>\n",
       "</table>\n",
       "</div>"
      ],
      "text/plain": [
       "                tweet_id  in_reply_to_status_id  in_reply_to_user_id  \\\n",
       "1989  672828477930868736                    NaN                  NaN   \n",
       "1110  733822306246479872                    NaN                  NaN   \n",
       "691   787322443945877504                    NaN                  NaN   \n",
       "312   835264098648616962                    NaN                  NaN   \n",
       "1717  680191257256136705                    NaN                  NaN   \n",
       "\n",
       "                      timestamp  \\\n",
       "1989  2015-12-04 17:23:04 +0000   \n",
       "1110  2016-05-21 00:50:46 +0000   \n",
       "691   2016-10-15 16:01:13 +0000   \n",
       "312   2017-02-24 23:04:14 +0000   \n",
       "1717  2015-12-25 01:00:07 +0000   \n",
       "\n",
       "                                                 source  \\\n",
       "1989  <a href=\"http://twitter.com/download/iphone\" r...   \n",
       "1110  <a href=\"http://twitter.com/download/iphone\" r...   \n",
       "691   <a href=\"http://twitter.com/download/iphone\" r...   \n",
       "312   <a href=\"http://twitter.com/download/iphone\" r...   \n",
       "1717  <a href=\"http://twitter.com/download/iphone\" r...   \n",
       "\n",
       "                                                   text  retweeted_status_id  \\\n",
       "1989  This is Jerry. He's a Timbuk Slytherin. Eats h...                  NaN   \n",
       "1110  This is Moose. He's a Polynesian Floofer. Dapp...                  NaN   \n",
       "691   This is Lincoln. He forgot to use his blinker ...                  NaN   \n",
       "312   Meet Lola. Her hobbies include being precious ...                  NaN   \n",
       "1717  Here's a sleepy Christmas pupper 11/10 https:/...                  NaN   \n",
       "\n",
       "      retweeted_status_user_id retweeted_status_timestamp  \\\n",
       "1989                       NaN                        NaN   \n",
       "1110                       NaN                        NaN   \n",
       "691                        NaN                        NaN   \n",
       "312                        NaN                        NaN   \n",
       "1717                       NaN                        NaN   \n",
       "\n",
       "                                          expanded_urls  rating_numerator  \\\n",
       "1989  https://twitter.com/dog_rates/status/672828477...                 9   \n",
       "1110  https://twitter.com/dog_rates/status/733822306...                10   \n",
       "691   https://twitter.com/dog_rates/status/787322443...                10   \n",
       "312   https://www.gofundme.com/lolas-life-saving-sur...                12   \n",
       "1717  https://twitter.com/dog_rates/status/680191257...                11   \n",
       "\n",
       "      rating_denominator     name doggo  floofer  pupper puppo  \n",
       "1989                  10    Jerry  None     None    None  None  \n",
       "1110                  10    Moose  None  floofer    None  None  \n",
       "691                   10  Lincoln  None     None    None  None  \n",
       "312                   10     Lola  None     None    None  None  \n",
       "1717                  10     None  None     None  pupper  None  "
      ]
     },
     "execution_count": 150,
     "metadata": {},
     "output_type": "execute_result"
    }
   ],
   "source": [
    "# To print out 5 random samples of the dataset\n",
    "Enhance_twitter.sample(5)"
   ]
  },
  {
   "cell_type": "markdown",
   "id": "c459b405",
   "metadata": {},
   "source": [
    "**Table 18.0 above shows the print out of 5 random sample of the dataset**"
   ]
  },
  {
   "cell_type": "code",
   "execution_count": 151,
   "id": "a8ddb8f9",
   "metadata": {},
   "outputs": [
    {
     "data": {
      "text/html": [
       "<div>\n",
       "<style scoped>\n",
       "    .dataframe tbody tr th:only-of-type {\n",
       "        vertical-align: middle;\n",
       "    }\n",
       "\n",
       "    .dataframe tbody tr th {\n",
       "        vertical-align: top;\n",
       "    }\n",
       "\n",
       "    .dataframe thead th {\n",
       "        text-align: right;\n",
       "    }\n",
       "</style>\n",
       "<table border=\"1\" class=\"dataframe\">\n",
       "  <thead>\n",
       "    <tr style=\"text-align: right;\">\n",
       "      <th></th>\n",
       "      <th>tweet_id</th>\n",
       "      <th>jpg_url</th>\n",
       "      <th>img_num</th>\n",
       "      <th>p1</th>\n",
       "      <th>p1_conf</th>\n",
       "      <th>p1_dog</th>\n",
       "      <th>p2</th>\n",
       "      <th>p2_conf</th>\n",
       "      <th>p2_dog</th>\n",
       "      <th>p3</th>\n",
       "      <th>p3_conf</th>\n",
       "      <th>p3_dog</th>\n",
       "    </tr>\n",
       "  </thead>\n",
       "  <tbody>\n",
       "    <tr>\n",
       "      <th>1519</th>\n",
       "      <td>787717603741622272</td>\n",
       "      <td>https://pbs.twimg.com/media/Cu6I9vvWIAAZG0a.jpg</td>\n",
       "      <td>3</td>\n",
       "      <td>German_shepherd</td>\n",
       "      <td>0.992339</td>\n",
       "      <td>True</td>\n",
       "      <td>malinois</td>\n",
       "      <td>0.004920</td>\n",
       "      <td>True</td>\n",
       "      <td>kelpie</td>\n",
       "      <td>0.000853</td>\n",
       "      <td>True</td>\n",
       "    </tr>\n",
       "    <tr>\n",
       "      <th>1207</th>\n",
       "      <td>742161199639494656</td>\n",
       "      <td>https://pbs.twimg.com/media/CkyvqnNWYAQxQY1.jpg</td>\n",
       "      <td>1</td>\n",
       "      <td>balloon</td>\n",
       "      <td>0.990736</td>\n",
       "      <td>False</td>\n",
       "      <td>punching_bag</td>\n",
       "      <td>0.004754</td>\n",
       "      <td>False</td>\n",
       "      <td>parachute</td>\n",
       "      <td>0.000436</td>\n",
       "      <td>False</td>\n",
       "    </tr>\n",
       "    <tr>\n",
       "      <th>973</th>\n",
       "      <td>706681918348251136</td>\n",
       "      <td>https://pbs.twimg.com/media/Cc6jcYRXIAAFuox.jpg</td>\n",
       "      <td>1</td>\n",
       "      <td>toy_poodle</td>\n",
       "      <td>0.717584</td>\n",
       "      <td>True</td>\n",
       "      <td>miniature_poodle</td>\n",
       "      <td>0.151433</td>\n",
       "      <td>True</td>\n",
       "      <td>Norwich_terrier</td>\n",
       "      <td>0.047087</td>\n",
       "      <td>True</td>\n",
       "    </tr>\n",
       "    <tr>\n",
       "      <th>397</th>\n",
       "      <td>673662677122719744</td>\n",
       "      <td>https://pbs.twimg.com/media/CVlUfBbUwAQyfcD.jpg</td>\n",
       "      <td>1</td>\n",
       "      <td>Labrador_retriever</td>\n",
       "      <td>0.957670</td>\n",
       "      <td>True</td>\n",
       "      <td>beagle</td>\n",
       "      <td>0.012413</td>\n",
       "      <td>True</td>\n",
       "      <td>golden_retriever</td>\n",
       "      <td>0.005689</td>\n",
       "      <td>True</td>\n",
       "    </tr>\n",
       "    <tr>\n",
       "      <th>1063</th>\n",
       "      <td>715342466308784130</td>\n",
       "      <td>https://pbs.twimg.com/media/Ce1oLNqWAAE34w7.jpg</td>\n",
       "      <td>1</td>\n",
       "      <td>West_Highland_white_terrier</td>\n",
       "      <td>0.597111</td>\n",
       "      <td>True</td>\n",
       "      <td>soft-coated_wheaten_terrier</td>\n",
       "      <td>0.142993</td>\n",
       "      <td>True</td>\n",
       "      <td>Lakeland_terrier</td>\n",
       "      <td>0.136712</td>\n",
       "      <td>True</td>\n",
       "    </tr>\n",
       "  </tbody>\n",
       "</table>\n",
       "</div>"
      ],
      "text/plain": [
       "                tweet_id                                          jpg_url  \\\n",
       "1519  787717603741622272  https://pbs.twimg.com/media/Cu6I9vvWIAAZG0a.jpg   \n",
       "1207  742161199639494656  https://pbs.twimg.com/media/CkyvqnNWYAQxQY1.jpg   \n",
       "973   706681918348251136  https://pbs.twimg.com/media/Cc6jcYRXIAAFuox.jpg   \n",
       "397   673662677122719744  https://pbs.twimg.com/media/CVlUfBbUwAQyfcD.jpg   \n",
       "1063  715342466308784130  https://pbs.twimg.com/media/Ce1oLNqWAAE34w7.jpg   \n",
       "\n",
       "      img_num                           p1   p1_conf  p1_dog  \\\n",
       "1519        3              German_shepherd  0.992339    True   \n",
       "1207        1                      balloon  0.990736   False   \n",
       "973         1                   toy_poodle  0.717584    True   \n",
       "397         1           Labrador_retriever  0.957670    True   \n",
       "1063        1  West_Highland_white_terrier  0.597111    True   \n",
       "\n",
       "                               p2   p2_conf  p2_dog                p3  \\\n",
       "1519                     malinois  0.004920    True            kelpie   \n",
       "1207                 punching_bag  0.004754   False         parachute   \n",
       "973              miniature_poodle  0.151433    True   Norwich_terrier   \n",
       "397                        beagle  0.012413    True  golden_retriever   \n",
       "1063  soft-coated_wheaten_terrier  0.142993    True  Lakeland_terrier   \n",
       "\n",
       "       p3_conf  p3_dog  \n",
       "1519  0.000853    True  \n",
       "1207  0.000436   False  \n",
       "973   0.047087    True  \n",
       "397   0.005689    True  \n",
       "1063  0.136712    True  "
      ]
     },
     "execution_count": 151,
     "metadata": {},
     "output_type": "execute_result"
    }
   ],
   "source": [
    "# To print out 5 random samples of the dataset\n",
    "Image_prediction.sample(5)"
   ]
  },
  {
   "cell_type": "markdown",
   "id": "588e8c4f",
   "metadata": {},
   "source": [
    "**Table 19.0 above shows the print out of 5 random sample of the dataset**"
   ]
  },
  {
   "cell_type": "code",
   "execution_count": 152,
   "id": "4fcd2b72",
   "metadata": {},
   "outputs": [
    {
     "data": {
      "text/html": [
       "<div>\n",
       "<style scoped>\n",
       "    .dataframe tbody tr th:only-of-type {\n",
       "        vertical-align: middle;\n",
       "    }\n",
       "\n",
       "    .dataframe tbody tr th {\n",
       "        vertical-align: top;\n",
       "    }\n",
       "\n",
       "    .dataframe thead th {\n",
       "        text-align: right;\n",
       "    }\n",
       "</style>\n",
       "<table border=\"1\" class=\"dataframe\">\n",
       "  <thead>\n",
       "    <tr style=\"text-align: right;\">\n",
       "      <th></th>\n",
       "      <th>created_at</th>\n",
       "      <th>id</th>\n",
       "      <th>id_str</th>\n",
       "      <th>full_text</th>\n",
       "      <th>truncated</th>\n",
       "      <th>display_text_range</th>\n",
       "      <th>entities</th>\n",
       "      <th>extended_entities</th>\n",
       "      <th>source</th>\n",
       "      <th>in_reply_to_status_id</th>\n",
       "      <th>...</th>\n",
       "      <th>favorite_count</th>\n",
       "      <th>favorited</th>\n",
       "      <th>retweeted</th>\n",
       "      <th>possibly_sensitive</th>\n",
       "      <th>possibly_sensitive_appealable</th>\n",
       "      <th>lang</th>\n",
       "      <th>retweeted_status</th>\n",
       "      <th>quoted_status_id</th>\n",
       "      <th>quoted_status_id_str</th>\n",
       "      <th>quoted_status</th>\n",
       "    </tr>\n",
       "  </thead>\n",
       "  <tbody>\n",
       "    <tr>\n",
       "      <th>841</th>\n",
       "      <td>Tue Dec 29 01:52:46 +0000 2015</td>\n",
       "      <td>681654059175129088</td>\n",
       "      <td>681654059175129088</td>\n",
       "      <td>This is Toffee. He's a happy pupper. Appears d...</td>\n",
       "      <td>False</td>\n",
       "      <td>[0, 138]</td>\n",
       "      <td>{'hashtags': [], 'symbols': [], 'user_mentions...</td>\n",
       "      <td>{'media': [{'id': 681654055031189505, 'id_str'...</td>\n",
       "      <td>&lt;a href=\"http://twitter.com/download/iphone\" r...</td>\n",
       "      <td>NaN</td>\n",
       "      <td>...</td>\n",
       "      <td>2903</td>\n",
       "      <td>False</td>\n",
       "      <td>False</td>\n",
       "      <td>False</td>\n",
       "      <td>False</td>\n",
       "      <td>en</td>\n",
       "      <td>NaN</td>\n",
       "      <td>NaN</td>\n",
       "      <td>NaN</td>\n",
       "      <td>NaN</td>\n",
       "    </tr>\n",
       "    <tr>\n",
       "      <th>585</th>\n",
       "      <td>Wed Apr 13 19:59:42 +0000 2016</td>\n",
       "      <td>720340705894408192</td>\n",
       "      <td>720340705894408192</td>\n",
       "      <td>This is Derek. He just got balled on. Can't ev...</td>\n",
       "      <td>False</td>\n",
       "      <td>[0, 119]</td>\n",
       "      <td>{'hashtags': [], 'symbols': [], 'user_mentions...</td>\n",
       "      <td>{'media': [{'id': 720340697887457281, 'id_str'...</td>\n",
       "      <td>&lt;a href=\"http://twitter.com/download/iphone\" r...</td>\n",
       "      <td>NaN</td>\n",
       "      <td>...</td>\n",
       "      <td>3131</td>\n",
       "      <td>False</td>\n",
       "      <td>False</td>\n",
       "      <td>False</td>\n",
       "      <td>False</td>\n",
       "      <td>en</td>\n",
       "      <td>NaN</td>\n",
       "      <td>NaN</td>\n",
       "      <td>NaN</td>\n",
       "      <td>NaN</td>\n",
       "    </tr>\n",
       "    <tr>\n",
       "      <th>258</th>\n",
       "      <td>Mon Dec 19 01:26:42 +0000 2016</td>\n",
       "      <td>810657578271330305</td>\n",
       "      <td>810657578271330305</td>\n",
       "      <td>This is Pavlov. His floatation device has fail...</td>\n",
       "      <td>False</td>\n",
       "      <td>[0, 100]</td>\n",
       "      <td>{'hashtags': [], 'symbols': [], 'user_mentions...</td>\n",
       "      <td>{'media': [{'id': 810657562332954624, 'id_str'...</td>\n",
       "      <td>&lt;a href=\"http://twitter.com/download/iphone\" r...</td>\n",
       "      <td>NaN</td>\n",
       "      <td>...</td>\n",
       "      <td>12192</td>\n",
       "      <td>False</td>\n",
       "      <td>False</td>\n",
       "      <td>False</td>\n",
       "      <td>False</td>\n",
       "      <td>en</td>\n",
       "      <td>NaN</td>\n",
       "      <td>NaN</td>\n",
       "      <td>NaN</td>\n",
       "      <td>NaN</td>\n",
       "    </tr>\n",
       "    <tr>\n",
       "      <th>819</th>\n",
       "      <td>Mon Jan 04 21:23:02 +0000 2016</td>\n",
       "      <td>684122891630342144</td>\n",
       "      <td>684122891630342144</td>\n",
       "      <td>Heartwarming scene of two pups that want nothi...</td>\n",
       "      <td>False</td>\n",
       "      <td>[0, 136]</td>\n",
       "      <td>{'hashtags': [], 'symbols': [], 'user_mentions...</td>\n",
       "      <td>{'media': [{'id': 684122864098885634, 'id_str'...</td>\n",
       "      <td>&lt;a href=\"http://twitter.com/download/iphone\" r...</td>\n",
       "      <td>NaN</td>\n",
       "      <td>...</td>\n",
       "      <td>2176</td>\n",
       "      <td>False</td>\n",
       "      <td>False</td>\n",
       "      <td>False</td>\n",
       "      <td>False</td>\n",
       "      <td>en</td>\n",
       "      <td>NaN</td>\n",
       "      <td>NaN</td>\n",
       "      <td>NaN</td>\n",
       "      <td>NaN</td>\n",
       "    </tr>\n",
       "    <tr>\n",
       "      <th>966</th>\n",
       "      <td>Mon Dec 07 23:33:58 +0000 2015</td>\n",
       "      <td>674008982932058114</td>\n",
       "      <td>674008982932058114</td>\n",
       "      <td>This pup is sad bc he didn't get to be the toy...</td>\n",
       "      <td>False</td>\n",
       "      <td>[0, 140]</td>\n",
       "      <td>{'hashtags': [], 'symbols': [], 'user_mentions...</td>\n",
       "      <td>{'media': [{'id': 674008948689657856, 'id_str'...</td>\n",
       "      <td>&lt;a href=\"http://twitter.com/download/iphone\" r...</td>\n",
       "      <td>NaN</td>\n",
       "      <td>...</td>\n",
       "      <td>1297</td>\n",
       "      <td>False</td>\n",
       "      <td>False</td>\n",
       "      <td>False</td>\n",
       "      <td>False</td>\n",
       "      <td>en</td>\n",
       "      <td>NaN</td>\n",
       "      <td>NaN</td>\n",
       "      <td>NaN</td>\n",
       "      <td>NaN</td>\n",
       "    </tr>\n",
       "  </tbody>\n",
       "</table>\n",
       "<p>5 rows × 31 columns</p>\n",
       "</div>"
      ],
      "text/plain": [
       "                         created_at                  id              id_str  \\\n",
       "841  Tue Dec 29 01:52:46 +0000 2015  681654059175129088  681654059175129088   \n",
       "585  Wed Apr 13 19:59:42 +0000 2016  720340705894408192  720340705894408192   \n",
       "258  Mon Dec 19 01:26:42 +0000 2016  810657578271330305  810657578271330305   \n",
       "819  Mon Jan 04 21:23:02 +0000 2016  684122891630342144  684122891630342144   \n",
       "966  Mon Dec 07 23:33:58 +0000 2015  674008982932058114  674008982932058114   \n",
       "\n",
       "                                             full_text  truncated  \\\n",
       "841  This is Toffee. He's a happy pupper. Appears d...      False   \n",
       "585  This is Derek. He just got balled on. Can't ev...      False   \n",
       "258  This is Pavlov. His floatation device has fail...      False   \n",
       "819  Heartwarming scene of two pups that want nothi...      False   \n",
       "966  This pup is sad bc he didn't get to be the toy...      False   \n",
       "\n",
       "    display_text_range                                           entities  \\\n",
       "841           [0, 138]  {'hashtags': [], 'symbols': [], 'user_mentions...   \n",
       "585           [0, 119]  {'hashtags': [], 'symbols': [], 'user_mentions...   \n",
       "258           [0, 100]  {'hashtags': [], 'symbols': [], 'user_mentions...   \n",
       "819           [0, 136]  {'hashtags': [], 'symbols': [], 'user_mentions...   \n",
       "966           [0, 140]  {'hashtags': [], 'symbols': [], 'user_mentions...   \n",
       "\n",
       "                                     extended_entities  \\\n",
       "841  {'media': [{'id': 681654055031189505, 'id_str'...   \n",
       "585  {'media': [{'id': 720340697887457281, 'id_str'...   \n",
       "258  {'media': [{'id': 810657562332954624, 'id_str'...   \n",
       "819  {'media': [{'id': 684122864098885634, 'id_str'...   \n",
       "966  {'media': [{'id': 674008948689657856, 'id_str'...   \n",
       "\n",
       "                                                source  in_reply_to_status_id  \\\n",
       "841  <a href=\"http://twitter.com/download/iphone\" r...                    NaN   \n",
       "585  <a href=\"http://twitter.com/download/iphone\" r...                    NaN   \n",
       "258  <a href=\"http://twitter.com/download/iphone\" r...                    NaN   \n",
       "819  <a href=\"http://twitter.com/download/iphone\" r...                    NaN   \n",
       "966  <a href=\"http://twitter.com/download/iphone\" r...                    NaN   \n",
       "\n",
       "     ... favorite_count  favorited retweeted possibly_sensitive  \\\n",
       "841  ...           2903      False     False              False   \n",
       "585  ...           3131      False     False              False   \n",
       "258  ...          12192      False     False              False   \n",
       "819  ...           2176      False     False              False   \n",
       "966  ...           1297      False     False              False   \n",
       "\n",
       "    possibly_sensitive_appealable lang retweeted_status quoted_status_id  \\\n",
       "841                         False   en              NaN              NaN   \n",
       "585                         False   en              NaN              NaN   \n",
       "258                         False   en              NaN              NaN   \n",
       "819                         False   en              NaN              NaN   \n",
       "966                         False   en              NaN              NaN   \n",
       "\n",
       "    quoted_status_id_str  quoted_status  \n",
       "841                  NaN            NaN  \n",
       "585                  NaN            NaN  \n",
       "258                  NaN            NaN  \n",
       "819                  NaN            NaN  \n",
       "966                  NaN            NaN  \n",
       "\n",
       "[5 rows x 31 columns]"
      ]
     },
     "execution_count": 152,
     "metadata": {},
     "output_type": "execute_result"
    }
   ],
   "source": [
    "# To print out 5 random samples of the dataset\n",
    "Tweet_API.sample(5)"
   ]
  },
  {
   "cell_type": "markdown",
   "id": "9f1fea3f",
   "metadata": {},
   "source": [
    "**Table 20.0 above shows the print out of 5 random sample of the dataset**"
   ]
  },
  {
   "cell_type": "code",
   "execution_count": 153,
   "id": "fe420495",
   "metadata": {},
   "outputs": [
    {
     "data": {
      "text/plain": [
       "<bound method IndexOpsMixin.value_counts of 0       13\n",
       "1       13\n",
       "2       12\n",
       "3       13\n",
       "4       12\n",
       "        ..\n",
       "2351     5\n",
       "2352     6\n",
       "2353     9\n",
       "2354     7\n",
       "2355     8\n",
       "Name: rating_numerator, Length: 2356, dtype: int64>"
      ]
     },
     "execution_count": 153,
     "metadata": {},
     "output_type": "execute_result"
    }
   ],
   "source": [
    "# To check the values of the rating_ numerator column in the dataset\n",
    "Enhance_twitter.rating_numerator.value_counts"
   ]
  },
  {
   "cell_type": "markdown",
   "id": "5410bd4d",
   "metadata": {},
   "source": [
    "**The Table above is to check for the values of the rating numerator of the dataset for correct rating**"
   ]
  },
  {
   "cell_type": "code",
   "execution_count": 154,
   "id": "3b3cceac",
   "metadata": {},
   "outputs": [
    {
     "data": {
      "text/plain": [
       "<bound method IndexOpsMixin.value_counts of 0       10\n",
       "1       10\n",
       "2       10\n",
       "3       10\n",
       "4       10\n",
       "        ..\n",
       "2351    10\n",
       "2352    10\n",
       "2353    10\n",
       "2354    10\n",
       "2355    10\n",
       "Name: rating_denominator, Length: 2356, dtype: int64>"
      ]
     },
     "execution_count": 154,
     "metadata": {},
     "output_type": "execute_result"
    }
   ],
   "source": [
    "# To check the values of the rating_ numerator column in the dataset\n",
    "Enhance_twitter.rating_denominator.value_counts"
   ]
  },
  {
   "cell_type": "markdown",
   "id": "45ce3429",
   "metadata": {},
   "source": [
    "**The Table above is to check for the values of the rating denominator of the dataset for correct rating**"
   ]
  },
  {
   "cell_type": "markdown",
   "id": "0f26bca9",
   "metadata": {},
   "source": [
    "<li><a href=\"#Cleaning\">DATA CLEANING</a></li>"
   ]
  },
  {
   "cell_type": "markdown",
   "id": "261a41a5",
   "metadata": {},
   "source": [
    "#### DATA QUALITY"
   ]
  },
  {
   "cell_type": "markdown",
   "id": "8d3f8f83",
   "metadata": {},
   "source": [
    "#### Defining the Data Quality problems that needs to be worked on in the Dataset\n",
    "1.  Removal of in reply to status id, in reply to status user id, retweeted status id,retweeted status user id,retweeted status timestamp,lang, retweeted_status, quoted_status_id, quoted_status_id_str, quoted_status, id str, entities extended_entities,display_text_range and truncated column\n",
    "2.  Dropping of the null values in the 3 dataset\n",
    "3.  Data type of Timestamp, created_at are object which supposed to be datetime \n",
    "4.  Renaming timestamp column to Date, create_at to timestamp and id to tweet_id column header p1, p1_conf,p2_conf, p2,p3,p3_conf,p1_dog,p2_dog and p3_dog\n",
    "5.  Stripping off of href infront of source column needs to be removed from Tweet_API_clean and Enhance_twitter_clean\n",
    "6. Stripping off of Time from date in both dataset Enhance_twitter_clean and Tweet_twitter_clean\n",
    "7. Arranging the date and text column in Enhance_twitter_clean and Tweet_API_clean dataset\n",
    "8. Dropping of the null values in the 3 dataset\n",
    "9. Renaming missing values in name column from None to NaN and remove all rows with any NaN values\n",
    "10. Some tweet has no pictures which needs to be removed\n",
    "11. Some rating numerators are incorrect because they are below the range usually given(lower than 10 and greater than 13)\n",
    "12. Remove retweet from the json file by removing all rows where retweet_status is not null\n",
    "\n",
    "\n",
    "\n"
   ]
  },
  {
   "cell_type": "markdown",
   "id": "559bbdf1",
   "metadata": {},
   "source": [
    "### Tidiness"
   ]
  },
  {
   "cell_type": "markdown",
   "id": "06403e32",
   "metadata": {},
   "source": [
    "### Defining the Data Tidiness problems that needs to be worked on in the Dataset\n",
    " \n",
    "1. Merging the three dataset together to be a master dataset.\n",
    "2. Merge each dog status column into a one column and named it Stage and remove the duplicated values\n",
    "3. The rating numerators as well as the denomintaor column need to be a single column called Ratings\n"
   ]
  },
  {
   "cell_type": "markdown",
   "id": "527435ab",
   "metadata": {},
   "source": [
    "## Cleaning Data Quality Problems"
   ]
  },
  {
   "cell_type": "markdown",
   "id": "9cc7fc0e",
   "metadata": {},
   "source": [
    "**Code**"
   ]
  },
  {
   "cell_type": "code",
   "execution_count": 155,
   "id": "e7c5caf5",
   "metadata": {},
   "outputs": [],
   "source": [
    "# To make a copy of the original dataset before cleaning\n",
    "Enhance_twitter_clean=Enhance_twitter.copy()\n",
    "Tweet_API_clean=Tweet_API.copy()\n",
    "Image_prediction_clean=Image_prediction.copy()"
   ]
  },
  {
   "cell_type": "markdown",
   "id": "b1e16678",
   "metadata": {},
   "source": [
    "**Define**\n",
    "- Remove retweet from the json file by removing all rows where retweet_status is not null"
   ]
  },
  {
   "cell_type": "markdown",
   "id": "925b4d85",
   "metadata": {},
   "source": [
    "**Code**"
   ]
  },
  {
   "cell_type": "code",
   "execution_count": 156,
   "id": "8880266a",
   "metadata": {},
   "outputs": [
    {
     "name": "stdout",
     "output_type": "stream",
     "text": [
      "92\n"
     ]
    }
   ],
   "source": [
    "# This removes the retweets in the tweet json by removing all rows where retweet_status is not null. \n",
    "print(Tweet_API_clean['retweeted_status'].notnull().sum())\n",
    "Tweet_API_clean =Tweet_API_clean [Tweet_API_clean['retweeted_status'].isna()]"
   ]
  },
  {
   "cell_type": "markdown",
   "id": "1ded56f0",
   "metadata": {},
   "source": [
    "**Test**"
   ]
  },
  {
   "cell_type": "code",
   "execution_count": 157,
   "id": "31dca3ef",
   "metadata": {},
   "outputs": [
    {
     "data": {
      "text/plain": [
       "0"
      ]
     },
     "execution_count": 157,
     "metadata": {},
     "output_type": "execute_result"
    }
   ],
   "source": [
    "# Below checks the retweets have been effectively removed.\n",
    "Tweet_API_clean['retweeted_status'].notnull().sum()"
   ]
  },
  {
   "cell_type": "markdown",
   "id": "4c2e22d2",
   "metadata": {},
   "source": [
    "***Define***\n",
    "- Removal of in reply to status id, in reply to status user id, retweeted status id,retweeted status user id,retweeted status timestamp"
   ]
  },
  {
   "cell_type": "markdown",
   "id": "dcf8c425",
   "metadata": {},
   "source": [
    "**Code**"
   ]
  },
  {
   "cell_type": "code",
   "execution_count": 158,
   "id": "fce82d99",
   "metadata": {},
   "outputs": [],
   "source": [
    "# This code is to drop some column that is not needed in the dataset\n",
    "Enhance_twitter_clean=Enhance_twitter_clean.drop(['in_reply_to_status_id','in_reply_to_user_id', 'retweeted_status_id', 'retweeted_status_user_id', 'retweeted_status_timestamp', 'expanded_urls'], axis=1 )"
   ]
  },
  {
   "cell_type": "markdown",
   "id": "6e673ce5",
   "metadata": {},
   "source": [
    "**Test**"
   ]
  },
  {
   "cell_type": "code",
   "execution_count": 159,
   "id": "415ad213",
   "metadata": {},
   "outputs": [
    {
     "data": {
      "text/html": [
       "<div>\n",
       "<style scoped>\n",
       "    .dataframe tbody tr th:only-of-type {\n",
       "        vertical-align: middle;\n",
       "    }\n",
       "\n",
       "    .dataframe tbody tr th {\n",
       "        vertical-align: top;\n",
       "    }\n",
       "\n",
       "    .dataframe thead th {\n",
       "        text-align: right;\n",
       "    }\n",
       "</style>\n",
       "<table border=\"1\" class=\"dataframe\">\n",
       "  <thead>\n",
       "    <tr style=\"text-align: right;\">\n",
       "      <th></th>\n",
       "      <th>tweet_id</th>\n",
       "      <th>timestamp</th>\n",
       "      <th>source</th>\n",
       "      <th>text</th>\n",
       "      <th>rating_numerator</th>\n",
       "      <th>rating_denominator</th>\n",
       "      <th>name</th>\n",
       "      <th>doggo</th>\n",
       "      <th>floofer</th>\n",
       "      <th>pupper</th>\n",
       "      <th>puppo</th>\n",
       "    </tr>\n",
       "  </thead>\n",
       "  <tbody>\n",
       "    <tr>\n",
       "      <th>0</th>\n",
       "      <td>892420643555336193</td>\n",
       "      <td>2017-08-01 16:23:56 +0000</td>\n",
       "      <td>&lt;a href=\"http://twitter.com/download/iphone\" r...</td>\n",
       "      <td>This is Phineas. He's a mystical boy. Only eve...</td>\n",
       "      <td>13</td>\n",
       "      <td>10</td>\n",
       "      <td>Phineas</td>\n",
       "      <td>None</td>\n",
       "      <td>None</td>\n",
       "      <td>None</td>\n",
       "      <td>None</td>\n",
       "    </tr>\n",
       "    <tr>\n",
       "      <th>1</th>\n",
       "      <td>892177421306343426</td>\n",
       "      <td>2017-08-01 00:17:27 +0000</td>\n",
       "      <td>&lt;a href=\"http://twitter.com/download/iphone\" r...</td>\n",
       "      <td>This is Tilly. She's just checking pup on you....</td>\n",
       "      <td>13</td>\n",
       "      <td>10</td>\n",
       "      <td>Tilly</td>\n",
       "      <td>None</td>\n",
       "      <td>None</td>\n",
       "      <td>None</td>\n",
       "      <td>None</td>\n",
       "    </tr>\n",
       "    <tr>\n",
       "      <th>2</th>\n",
       "      <td>891815181378084864</td>\n",
       "      <td>2017-07-31 00:18:03 +0000</td>\n",
       "      <td>&lt;a href=\"http://twitter.com/download/iphone\" r...</td>\n",
       "      <td>This is Archie. He is a rare Norwegian Pouncin...</td>\n",
       "      <td>12</td>\n",
       "      <td>10</td>\n",
       "      <td>Archie</td>\n",
       "      <td>None</td>\n",
       "      <td>None</td>\n",
       "      <td>None</td>\n",
       "      <td>None</td>\n",
       "    </tr>\n",
       "  </tbody>\n",
       "</table>\n",
       "</div>"
      ],
      "text/plain": [
       "             tweet_id                  timestamp  \\\n",
       "0  892420643555336193  2017-08-01 16:23:56 +0000   \n",
       "1  892177421306343426  2017-08-01 00:17:27 +0000   \n",
       "2  891815181378084864  2017-07-31 00:18:03 +0000   \n",
       "\n",
       "                                              source  \\\n",
       "0  <a href=\"http://twitter.com/download/iphone\" r...   \n",
       "1  <a href=\"http://twitter.com/download/iphone\" r...   \n",
       "2  <a href=\"http://twitter.com/download/iphone\" r...   \n",
       "\n",
       "                                                text  rating_numerator  \\\n",
       "0  This is Phineas. He's a mystical boy. Only eve...                13   \n",
       "1  This is Tilly. She's just checking pup on you....                13   \n",
       "2  This is Archie. He is a rare Norwegian Pouncin...                12   \n",
       "\n",
       "   rating_denominator     name doggo floofer pupper puppo  \n",
       "0                  10  Phineas  None    None   None  None  \n",
       "1                  10    Tilly  None    None   None  None  \n",
       "2                  10   Archie  None    None   None  None  "
      ]
     },
     "execution_count": 159,
     "metadata": {},
     "output_type": "execute_result"
    }
   ],
   "source": [
    "Enhance_twitter_clean.head(3)"
   ]
  },
  {
   "cell_type": "markdown",
   "id": "50cd3438",
   "metadata": {},
   "source": [
    "**Table 21.0 above shows the print out of the remaining columns in the dataset after dropping some columns**"
   ]
  },
  {
   "cell_type": "markdown",
   "id": "c23076a2",
   "metadata": {},
   "source": [
    "***Define***\n",
    "- Dropping of lang, retweeted_status, quoted_status_id, quoted_status_id_str, quoted_status, id str, entities extended_entities,display_text_range and truncated column"
   ]
  },
  {
   "cell_type": "markdown",
   "id": "502511ec",
   "metadata": {},
   "source": [
    "**Code**"
   ]
  },
  {
   "cell_type": "code",
   "execution_count": 160,
   "id": "6075adfd",
   "metadata": {},
   "outputs": [],
   "source": [
    "# This code is to drop some column that is not needed in the dataset\n",
    "Tweet_API_clean=Tweet_API_clean.drop(['truncated','display_text_range','entities', 'extended_entities', 'id_str' , 'in_reply_to_status_id', 'lang', 'retweeted_status', 'quoted_status_id', 'quoted_status_id_str', 'quoted_status', 'user', 'coordinates', 'is_quote_status', 'in_reply_to_screen_name', 'in_reply_to_user_id_str', 'in_reply_to_user_id', 'in_reply_to_status_id_str','geo','place','contributors' ], axis=1)"
   ]
  },
  {
   "cell_type": "markdown",
   "id": "47230df8",
   "metadata": {},
   "source": [
    "**Test**"
   ]
  },
  {
   "cell_type": "code",
   "execution_count": 161,
   "id": "b682cf18",
   "metadata": {},
   "outputs": [
    {
     "data": {
      "text/html": [
       "<div>\n",
       "<style scoped>\n",
       "    .dataframe tbody tr th:only-of-type {\n",
       "        vertical-align: middle;\n",
       "    }\n",
       "\n",
       "    .dataframe tbody tr th {\n",
       "        vertical-align: top;\n",
       "    }\n",
       "\n",
       "    .dataframe thead th {\n",
       "        text-align: right;\n",
       "    }\n",
       "</style>\n",
       "<table border=\"1\" class=\"dataframe\">\n",
       "  <thead>\n",
       "    <tr style=\"text-align: right;\">\n",
       "      <th></th>\n",
       "      <th>created_at</th>\n",
       "      <th>id</th>\n",
       "      <th>full_text</th>\n",
       "      <th>source</th>\n",
       "      <th>retweet_count</th>\n",
       "      <th>favorite_count</th>\n",
       "      <th>favorited</th>\n",
       "      <th>retweeted</th>\n",
       "      <th>possibly_sensitive</th>\n",
       "      <th>possibly_sensitive_appealable</th>\n",
       "    </tr>\n",
       "  </thead>\n",
       "  <tbody>\n",
       "    <tr>\n",
       "      <th>0</th>\n",
       "      <td>Tue Aug 01 00:17:27 +0000 2017</td>\n",
       "      <td>892177421306343426</td>\n",
       "      <td>This is Tilly. She's just checking pup on you....</td>\n",
       "      <td>&lt;a href=\"http://twitter.com/download/iphone\" r...</td>\n",
       "      <td>6514</td>\n",
       "      <td>33819</td>\n",
       "      <td>False</td>\n",
       "      <td>False</td>\n",
       "      <td>False</td>\n",
       "      <td>False</td>\n",
       "    </tr>\n",
       "  </tbody>\n",
       "</table>\n",
       "</div>"
      ],
      "text/plain": [
       "                       created_at                  id  \\\n",
       "0  Tue Aug 01 00:17:27 +0000 2017  892177421306343426   \n",
       "\n",
       "                                           full_text  \\\n",
       "0  This is Tilly. She's just checking pup on you....   \n",
       "\n",
       "                                              source  retweet_count  \\\n",
       "0  <a href=\"http://twitter.com/download/iphone\" r...           6514   \n",
       "\n",
       "   favorite_count  favorited  retweeted possibly_sensitive  \\\n",
       "0           33819      False      False              False   \n",
       "\n",
       "  possibly_sensitive_appealable  \n",
       "0                         False  "
      ]
     },
     "execution_count": 161,
     "metadata": {},
     "output_type": "execute_result"
    }
   ],
   "source": [
    "#This code is to display the result of column dropped \n",
    "Tweet_API_clean.head(1)"
   ]
  },
  {
   "cell_type": "markdown",
   "id": "cbd0004c",
   "metadata": {},
   "source": [
    "**Table 22.0 above shows the print out of the remaining columns in the dataset after dropping some columns**"
   ]
  },
  {
   "cell_type": "markdown",
   "id": "bc1b5aa8",
   "metadata": {},
   "source": [
    "***Define***\n",
    "- Dropping of the null values in the 3 dataset"
   ]
  },
  {
   "cell_type": "markdown",
   "id": "73d82e80",
   "metadata": {},
   "source": [
    "**Code**"
   ]
  },
  {
   "cell_type": "code",
   "execution_count": 162,
   "id": "f806da75",
   "metadata": {},
   "outputs": [],
   "source": [
    "# drop rows with any null values\n",
    "Enhance_twitter_clean=Enhance_twitter_clean.dropna(axis=1)"
   ]
  },
  {
   "cell_type": "markdown",
   "id": "3d526d37",
   "metadata": {},
   "source": [
    "**Test**"
   ]
  },
  {
   "cell_type": "code",
   "execution_count": 163,
   "id": "888ddaca",
   "metadata": {},
   "outputs": [
    {
     "data": {
      "text/html": [
       "<div>\n",
       "<style scoped>\n",
       "    .dataframe tbody tr th:only-of-type {\n",
       "        vertical-align: middle;\n",
       "    }\n",
       "\n",
       "    .dataframe tbody tr th {\n",
       "        vertical-align: top;\n",
       "    }\n",
       "\n",
       "    .dataframe thead th {\n",
       "        text-align: right;\n",
       "    }\n",
       "</style>\n",
       "<table border=\"1\" class=\"dataframe\">\n",
       "  <thead>\n",
       "    <tr style=\"text-align: right;\">\n",
       "      <th></th>\n",
       "      <th>tweet_id</th>\n",
       "      <th>timestamp</th>\n",
       "      <th>source</th>\n",
       "      <th>text</th>\n",
       "      <th>rating_numerator</th>\n",
       "      <th>rating_denominator</th>\n",
       "      <th>name</th>\n",
       "      <th>doggo</th>\n",
       "      <th>floofer</th>\n",
       "      <th>pupper</th>\n",
       "      <th>puppo</th>\n",
       "    </tr>\n",
       "  </thead>\n",
       "  <tbody>\n",
       "    <tr>\n",
       "      <th>0</th>\n",
       "      <td>892420643555336193</td>\n",
       "      <td>2017-08-01 16:23:56 +0000</td>\n",
       "      <td>&lt;a href=\"http://twitter.com/download/iphone\" r...</td>\n",
       "      <td>This is Phineas. He's a mystical boy. Only eve...</td>\n",
       "      <td>13</td>\n",
       "      <td>10</td>\n",
       "      <td>Phineas</td>\n",
       "      <td>None</td>\n",
       "      <td>None</td>\n",
       "      <td>None</td>\n",
       "      <td>None</td>\n",
       "    </tr>\n",
       "    <tr>\n",
       "      <th>1</th>\n",
       "      <td>892177421306343426</td>\n",
       "      <td>2017-08-01 00:17:27 +0000</td>\n",
       "      <td>&lt;a href=\"http://twitter.com/download/iphone\" r...</td>\n",
       "      <td>This is Tilly. She's just checking pup on you....</td>\n",
       "      <td>13</td>\n",
       "      <td>10</td>\n",
       "      <td>Tilly</td>\n",
       "      <td>None</td>\n",
       "      <td>None</td>\n",
       "      <td>None</td>\n",
       "      <td>None</td>\n",
       "    </tr>\n",
       "    <tr>\n",
       "      <th>2</th>\n",
       "      <td>891815181378084864</td>\n",
       "      <td>2017-07-31 00:18:03 +0000</td>\n",
       "      <td>&lt;a href=\"http://twitter.com/download/iphone\" r...</td>\n",
       "      <td>This is Archie. He is a rare Norwegian Pouncin...</td>\n",
       "      <td>12</td>\n",
       "      <td>10</td>\n",
       "      <td>Archie</td>\n",
       "      <td>None</td>\n",
       "      <td>None</td>\n",
       "      <td>None</td>\n",
       "      <td>None</td>\n",
       "    </tr>\n",
       "    <tr>\n",
       "      <th>3</th>\n",
       "      <td>891689557279858688</td>\n",
       "      <td>2017-07-30 15:58:51 +0000</td>\n",
       "      <td>&lt;a href=\"http://twitter.com/download/iphone\" r...</td>\n",
       "      <td>This is Darla. She commenced a snooze mid meal...</td>\n",
       "      <td>13</td>\n",
       "      <td>10</td>\n",
       "      <td>Darla</td>\n",
       "      <td>None</td>\n",
       "      <td>None</td>\n",
       "      <td>None</td>\n",
       "      <td>None</td>\n",
       "    </tr>\n",
       "  </tbody>\n",
       "</table>\n",
       "</div>"
      ],
      "text/plain": [
       "             tweet_id                  timestamp  \\\n",
       "0  892420643555336193  2017-08-01 16:23:56 +0000   \n",
       "1  892177421306343426  2017-08-01 00:17:27 +0000   \n",
       "2  891815181378084864  2017-07-31 00:18:03 +0000   \n",
       "3  891689557279858688  2017-07-30 15:58:51 +0000   \n",
       "\n",
       "                                              source  \\\n",
       "0  <a href=\"http://twitter.com/download/iphone\" r...   \n",
       "1  <a href=\"http://twitter.com/download/iphone\" r...   \n",
       "2  <a href=\"http://twitter.com/download/iphone\" r...   \n",
       "3  <a href=\"http://twitter.com/download/iphone\" r...   \n",
       "\n",
       "                                                text  rating_numerator  \\\n",
       "0  This is Phineas. He's a mystical boy. Only eve...                13   \n",
       "1  This is Tilly. She's just checking pup on you....                13   \n",
       "2  This is Archie. He is a rare Norwegian Pouncin...                12   \n",
       "3  This is Darla. She commenced a snooze mid meal...                13   \n",
       "\n",
       "   rating_denominator     name doggo floofer pupper puppo  \n",
       "0                  10  Phineas  None    None   None  None  \n",
       "1                  10    Tilly  None    None   None  None  \n",
       "2                  10   Archie  None    None   None  None  \n",
       "3                  10    Darla  None    None   None  None  "
      ]
     },
     "execution_count": 163,
     "metadata": {},
     "output_type": "execute_result"
    }
   ],
   "source": [
    "# To display the result of change made\n",
    "Enhance_twitter_clean.head(4)"
   ]
  },
  {
   "cell_type": "markdown",
   "id": "effae69f",
   "metadata": {},
   "source": [
    "**Table 23.0 above shows the print out of checking the NaN values in dataset**"
   ]
  },
  {
   "cell_type": "markdown",
   "id": "db5fd3ab",
   "metadata": {},
   "source": [
    "**Code**"
   ]
  },
  {
   "cell_type": "code",
   "execution_count": 164,
   "id": "66180ea5",
   "metadata": {},
   "outputs": [],
   "source": [
    "# drop rows with any null values\n",
    "Tweet_API_clean=Tweet_API_clean.dropna(axis=1)"
   ]
  },
  {
   "cell_type": "markdown",
   "id": "beacb288",
   "metadata": {},
   "source": [
    "**Test**"
   ]
  },
  {
   "cell_type": "code",
   "execution_count": 165,
   "id": "9f33a2fc",
   "metadata": {},
   "outputs": [
    {
     "data": {
      "text/html": [
       "<div>\n",
       "<style scoped>\n",
       "    .dataframe tbody tr th:only-of-type {\n",
       "        vertical-align: middle;\n",
       "    }\n",
       "\n",
       "    .dataframe tbody tr th {\n",
       "        vertical-align: top;\n",
       "    }\n",
       "\n",
       "    .dataframe thead th {\n",
       "        text-align: right;\n",
       "    }\n",
       "</style>\n",
       "<table border=\"1\" class=\"dataframe\">\n",
       "  <thead>\n",
       "    <tr style=\"text-align: right;\">\n",
       "      <th></th>\n",
       "      <th>created_at</th>\n",
       "      <th>id</th>\n",
       "      <th>full_text</th>\n",
       "      <th>source</th>\n",
       "      <th>retweet_count</th>\n",
       "      <th>favorite_count</th>\n",
       "      <th>favorited</th>\n",
       "      <th>retweeted</th>\n",
       "    </tr>\n",
       "  </thead>\n",
       "  <tbody>\n",
       "    <tr>\n",
       "      <th>0</th>\n",
       "      <td>Tue Aug 01 00:17:27 +0000 2017</td>\n",
       "      <td>892177421306343426</td>\n",
       "      <td>This is Tilly. She's just checking pup on you....</td>\n",
       "      <td>&lt;a href=\"http://twitter.com/download/iphone\" r...</td>\n",
       "      <td>6514</td>\n",
       "      <td>33819</td>\n",
       "      <td>False</td>\n",
       "      <td>False</td>\n",
       "    </tr>\n",
       "    <tr>\n",
       "      <th>1</th>\n",
       "      <td>Sun Jul 30 15:58:51 +0000 2017</td>\n",
       "      <td>891689557279858688</td>\n",
       "      <td>This is Darla. She commenced a snooze mid meal...</td>\n",
       "      <td>&lt;a href=\"http://twitter.com/download/iphone\" r...</td>\n",
       "      <td>8964</td>\n",
       "      <td>42908</td>\n",
       "      <td>False</td>\n",
       "      <td>False</td>\n",
       "    </tr>\n",
       "    <tr>\n",
       "      <th>2</th>\n",
       "      <td>Sat Jul 29 00:08:17 +0000 2017</td>\n",
       "      <td>891087950875897856</td>\n",
       "      <td>Here we have a majestic great white breaching ...</td>\n",
       "      <td>&lt;a href=\"http://twitter.com/download/iphone\" r...</td>\n",
       "      <td>3261</td>\n",
       "      <td>20562</td>\n",
       "      <td>False</td>\n",
       "      <td>False</td>\n",
       "    </tr>\n",
       "    <tr>\n",
       "      <th>3</th>\n",
       "      <td>Fri Jul 28 00:22:40 +0000 2017</td>\n",
       "      <td>890729181411237888</td>\n",
       "      <td>When you watch your owner call another dog a g...</td>\n",
       "      <td>&lt;a href=\"http://twitter.com/download/iphone\" r...</td>\n",
       "      <td>16716</td>\n",
       "      <td>56848</td>\n",
       "      <td>False</td>\n",
       "      <td>False</td>\n",
       "    </tr>\n",
       "    <tr>\n",
       "      <th>4</th>\n",
       "      <td>Wed Jul 26 15:59:51 +0000 2017</td>\n",
       "      <td>890240255349198849</td>\n",
       "      <td>This is Cassie. She is a college pup. Studying...</td>\n",
       "      <td>&lt;a href=\"http://twitter.com/download/iphone\" r...</td>\n",
       "      <td>7711</td>\n",
       "      <td>32467</td>\n",
       "      <td>False</td>\n",
       "      <td>False</td>\n",
       "    </tr>\n",
       "    <tr>\n",
       "      <th>...</th>\n",
       "      <td>...</td>\n",
       "      <td>...</td>\n",
       "      <td>...</td>\n",
       "      <td>...</td>\n",
       "      <td>...</td>\n",
       "      <td>...</td>\n",
       "      <td>...</td>\n",
       "      <td>...</td>\n",
       "    </tr>\n",
       "    <tr>\n",
       "      <th>1172</th>\n",
       "      <td>Mon Nov 16 00:55:59 +0000 2015</td>\n",
       "      <td>666057090499244032</td>\n",
       "      <td>My oh my. This is a rare blond Canadian terrie...</td>\n",
       "      <td>&lt;a href=\"http://twitter.com/download/iphone\" r...</td>\n",
       "      <td>146</td>\n",
       "      <td>304</td>\n",
       "      <td>False</td>\n",
       "      <td>False</td>\n",
       "    </tr>\n",
       "    <tr>\n",
       "      <th>1173</th>\n",
       "      <td>Mon Nov 16 00:35:11 +0000 2015</td>\n",
       "      <td>666051853826850816</td>\n",
       "      <td>This is an odd dog. Hard on the outside but lo...</td>\n",
       "      <td>&lt;a href=\"http://twitter.com/download/iphone\" r...</td>\n",
       "      <td>879</td>\n",
       "      <td>1253</td>\n",
       "      <td>False</td>\n",
       "      <td>False</td>\n",
       "    </tr>\n",
       "    <tr>\n",
       "      <th>1174</th>\n",
       "      <td>Mon Nov 16 00:24:50 +0000 2015</td>\n",
       "      <td>666049248165822465</td>\n",
       "      <td>Here we have a 1949 1st generation vulpix. Enj...</td>\n",
       "      <td>&lt;a href=\"http://twitter.com/download/iphone\" r...</td>\n",
       "      <td>41</td>\n",
       "      <td>111</td>\n",
       "      <td>False</td>\n",
       "      <td>False</td>\n",
       "    </tr>\n",
       "    <tr>\n",
       "      <th>1175</th>\n",
       "      <td>Sun Nov 15 23:21:54 +0000 2015</td>\n",
       "      <td>666033412701032449</td>\n",
       "      <td>Here is a very happy pup. Big fan of well-main...</td>\n",
       "      <td>&lt;a href=\"http://twitter.com/download/iphone\" r...</td>\n",
       "      <td>47</td>\n",
       "      <td>128</td>\n",
       "      <td>False</td>\n",
       "      <td>False</td>\n",
       "    </tr>\n",
       "    <tr>\n",
       "      <th>1176</th>\n",
       "      <td>Sun Nov 15 22:32:08 +0000 2015</td>\n",
       "      <td>666020888022790149</td>\n",
       "      <td>Here we have a Japanese Irish Setter. Lost eye...</td>\n",
       "      <td>&lt;a href=\"http://twitter.com/download/iphone\" r...</td>\n",
       "      <td>532</td>\n",
       "      <td>2535</td>\n",
       "      <td>False</td>\n",
       "      <td>False</td>\n",
       "    </tr>\n",
       "  </tbody>\n",
       "</table>\n",
       "<p>1085 rows × 8 columns</p>\n",
       "</div>"
      ],
      "text/plain": [
       "                          created_at                  id  \\\n",
       "0     Tue Aug 01 00:17:27 +0000 2017  892177421306343426   \n",
       "1     Sun Jul 30 15:58:51 +0000 2017  891689557279858688   \n",
       "2     Sat Jul 29 00:08:17 +0000 2017  891087950875897856   \n",
       "3     Fri Jul 28 00:22:40 +0000 2017  890729181411237888   \n",
       "4     Wed Jul 26 15:59:51 +0000 2017  890240255349198849   \n",
       "...                              ...                 ...   \n",
       "1172  Mon Nov 16 00:55:59 +0000 2015  666057090499244032   \n",
       "1173  Mon Nov 16 00:35:11 +0000 2015  666051853826850816   \n",
       "1174  Mon Nov 16 00:24:50 +0000 2015  666049248165822465   \n",
       "1175  Sun Nov 15 23:21:54 +0000 2015  666033412701032449   \n",
       "1176  Sun Nov 15 22:32:08 +0000 2015  666020888022790149   \n",
       "\n",
       "                                              full_text  \\\n",
       "0     This is Tilly. She's just checking pup on you....   \n",
       "1     This is Darla. She commenced a snooze mid meal...   \n",
       "2     Here we have a majestic great white breaching ...   \n",
       "3     When you watch your owner call another dog a g...   \n",
       "4     This is Cassie. She is a college pup. Studying...   \n",
       "...                                                 ...   \n",
       "1172  My oh my. This is a rare blond Canadian terrie...   \n",
       "1173  This is an odd dog. Hard on the outside but lo...   \n",
       "1174  Here we have a 1949 1st generation vulpix. Enj...   \n",
       "1175  Here is a very happy pup. Big fan of well-main...   \n",
       "1176  Here we have a Japanese Irish Setter. Lost eye...   \n",
       "\n",
       "                                                 source  retweet_count  \\\n",
       "0     <a href=\"http://twitter.com/download/iphone\" r...           6514   \n",
       "1     <a href=\"http://twitter.com/download/iphone\" r...           8964   \n",
       "2     <a href=\"http://twitter.com/download/iphone\" r...           3261   \n",
       "3     <a href=\"http://twitter.com/download/iphone\" r...          16716   \n",
       "4     <a href=\"http://twitter.com/download/iphone\" r...           7711   \n",
       "...                                                 ...            ...   \n",
       "1172  <a href=\"http://twitter.com/download/iphone\" r...            146   \n",
       "1173  <a href=\"http://twitter.com/download/iphone\" r...            879   \n",
       "1174  <a href=\"http://twitter.com/download/iphone\" r...             41   \n",
       "1175  <a href=\"http://twitter.com/download/iphone\" r...             47   \n",
       "1176  <a href=\"http://twitter.com/download/iphone\" r...            532   \n",
       "\n",
       "      favorite_count  favorited  retweeted  \n",
       "0              33819      False      False  \n",
       "1              42908      False      False  \n",
       "2              20562      False      False  \n",
       "3              56848      False      False  \n",
       "4              32467      False      False  \n",
       "...              ...        ...        ...  \n",
       "1172             304      False      False  \n",
       "1173            1253      False      False  \n",
       "1174             111      False      False  \n",
       "1175             128      False      False  \n",
       "1176            2535      False      False  \n",
       "\n",
       "[1085 rows x 8 columns]"
      ]
     },
     "execution_count": 165,
     "metadata": {},
     "output_type": "execute_result"
    }
   ],
   "source": [
    "Tweet_API_clean"
   ]
  },
  {
   "cell_type": "markdown",
   "id": "32481ada",
   "metadata": {},
   "source": [
    "**Table 24.0 above shows the print out of checking the NaN values in dataset**"
   ]
  },
  {
   "cell_type": "markdown",
   "id": "67332834",
   "metadata": {},
   "source": [
    "**Code**"
   ]
  },
  {
   "cell_type": "code",
   "execution_count": 166,
   "id": "d79ef60b",
   "metadata": {
    "scrolled": true
   },
   "outputs": [],
   "source": [
    "# drop rows with any null values\n",
    "Image_prediction_clean=Image_prediction_clean.dropna(axis=1)"
   ]
  },
  {
   "cell_type": "markdown",
   "id": "47f86603",
   "metadata": {},
   "source": [
    "**Test**"
   ]
  },
  {
   "cell_type": "code",
   "execution_count": 167,
   "id": "8de325aa",
   "metadata": {},
   "outputs": [
    {
     "data": {
      "text/html": [
       "<div>\n",
       "<style scoped>\n",
       "    .dataframe tbody tr th:only-of-type {\n",
       "        vertical-align: middle;\n",
       "    }\n",
       "\n",
       "    .dataframe tbody tr th {\n",
       "        vertical-align: top;\n",
       "    }\n",
       "\n",
       "    .dataframe thead th {\n",
       "        text-align: right;\n",
       "    }\n",
       "</style>\n",
       "<table border=\"1\" class=\"dataframe\">\n",
       "  <thead>\n",
       "    <tr style=\"text-align: right;\">\n",
       "      <th></th>\n",
       "      <th>tweet_id</th>\n",
       "      <th>jpg_url</th>\n",
       "      <th>img_num</th>\n",
       "      <th>p1</th>\n",
       "      <th>p1_conf</th>\n",
       "      <th>p1_dog</th>\n",
       "      <th>p2</th>\n",
       "      <th>p2_conf</th>\n",
       "      <th>p2_dog</th>\n",
       "      <th>p3</th>\n",
       "      <th>p3_conf</th>\n",
       "      <th>p3_dog</th>\n",
       "    </tr>\n",
       "  </thead>\n",
       "  <tbody>\n",
       "    <tr>\n",
       "      <th>0</th>\n",
       "      <td>666020888022790149</td>\n",
       "      <td>https://pbs.twimg.com/media/CT4udn0WwAA0aMy.jpg</td>\n",
       "      <td>1</td>\n",
       "      <td>Welsh_springer_spaniel</td>\n",
       "      <td>0.465074</td>\n",
       "      <td>True</td>\n",
       "      <td>collie</td>\n",
       "      <td>0.156665</td>\n",
       "      <td>True</td>\n",
       "      <td>Shetland_sheepdog</td>\n",
       "      <td>0.061428</td>\n",
       "      <td>True</td>\n",
       "    </tr>\n",
       "    <tr>\n",
       "      <th>1</th>\n",
       "      <td>666029285002620928</td>\n",
       "      <td>https://pbs.twimg.com/media/CT42GRgUYAA5iDo.jpg</td>\n",
       "      <td>1</td>\n",
       "      <td>redbone</td>\n",
       "      <td>0.506826</td>\n",
       "      <td>True</td>\n",
       "      <td>miniature_pinscher</td>\n",
       "      <td>0.074192</td>\n",
       "      <td>True</td>\n",
       "      <td>Rhodesian_ridgeback</td>\n",
       "      <td>0.072010</td>\n",
       "      <td>True</td>\n",
       "    </tr>\n",
       "    <tr>\n",
       "      <th>2</th>\n",
       "      <td>666033412701032449</td>\n",
       "      <td>https://pbs.twimg.com/media/CT4521TWwAEvMyu.jpg</td>\n",
       "      <td>1</td>\n",
       "      <td>German_shepherd</td>\n",
       "      <td>0.596461</td>\n",
       "      <td>True</td>\n",
       "      <td>malinois</td>\n",
       "      <td>0.138584</td>\n",
       "      <td>True</td>\n",
       "      <td>bloodhound</td>\n",
       "      <td>0.116197</td>\n",
       "      <td>True</td>\n",
       "    </tr>\n",
       "    <tr>\n",
       "      <th>3</th>\n",
       "      <td>666044226329800704</td>\n",
       "      <td>https://pbs.twimg.com/media/CT5Dr8HUEAA-lEu.jpg</td>\n",
       "      <td>1</td>\n",
       "      <td>Rhodesian_ridgeback</td>\n",
       "      <td>0.408143</td>\n",
       "      <td>True</td>\n",
       "      <td>redbone</td>\n",
       "      <td>0.360687</td>\n",
       "      <td>True</td>\n",
       "      <td>miniature_pinscher</td>\n",
       "      <td>0.222752</td>\n",
       "      <td>True</td>\n",
       "    </tr>\n",
       "    <tr>\n",
       "      <th>4</th>\n",
       "      <td>666049248165822465</td>\n",
       "      <td>https://pbs.twimg.com/media/CT5IQmsXIAAKY4A.jpg</td>\n",
       "      <td>1</td>\n",
       "      <td>miniature_pinscher</td>\n",
       "      <td>0.560311</td>\n",
       "      <td>True</td>\n",
       "      <td>Rottweiler</td>\n",
       "      <td>0.243682</td>\n",
       "      <td>True</td>\n",
       "      <td>Doberman</td>\n",
       "      <td>0.154629</td>\n",
       "      <td>True</td>\n",
       "    </tr>\n",
       "    <tr>\n",
       "      <th>...</th>\n",
       "      <td>...</td>\n",
       "      <td>...</td>\n",
       "      <td>...</td>\n",
       "      <td>...</td>\n",
       "      <td>...</td>\n",
       "      <td>...</td>\n",
       "      <td>...</td>\n",
       "      <td>...</td>\n",
       "      <td>...</td>\n",
       "      <td>...</td>\n",
       "      <td>...</td>\n",
       "      <td>...</td>\n",
       "    </tr>\n",
       "    <tr>\n",
       "      <th>2070</th>\n",
       "      <td>891327558926688256</td>\n",
       "      <td>https://pbs.twimg.com/media/DF6hr6BUMAAzZgT.jpg</td>\n",
       "      <td>2</td>\n",
       "      <td>basset</td>\n",
       "      <td>0.555712</td>\n",
       "      <td>True</td>\n",
       "      <td>English_springer</td>\n",
       "      <td>0.225770</td>\n",
       "      <td>True</td>\n",
       "      <td>German_short-haired_pointer</td>\n",
       "      <td>0.175219</td>\n",
       "      <td>True</td>\n",
       "    </tr>\n",
       "    <tr>\n",
       "      <th>2071</th>\n",
       "      <td>891689557279858688</td>\n",
       "      <td>https://pbs.twimg.com/media/DF_q7IAWsAEuuN8.jpg</td>\n",
       "      <td>1</td>\n",
       "      <td>paper_towel</td>\n",
       "      <td>0.170278</td>\n",
       "      <td>False</td>\n",
       "      <td>Labrador_retriever</td>\n",
       "      <td>0.168086</td>\n",
       "      <td>True</td>\n",
       "      <td>spatula</td>\n",
       "      <td>0.040836</td>\n",
       "      <td>False</td>\n",
       "    </tr>\n",
       "    <tr>\n",
       "      <th>2072</th>\n",
       "      <td>891815181378084864</td>\n",
       "      <td>https://pbs.twimg.com/media/DGBdLU1WsAANxJ9.jpg</td>\n",
       "      <td>1</td>\n",
       "      <td>Chihuahua</td>\n",
       "      <td>0.716012</td>\n",
       "      <td>True</td>\n",
       "      <td>malamute</td>\n",
       "      <td>0.078253</td>\n",
       "      <td>True</td>\n",
       "      <td>kelpie</td>\n",
       "      <td>0.031379</td>\n",
       "      <td>True</td>\n",
       "    </tr>\n",
       "    <tr>\n",
       "      <th>2073</th>\n",
       "      <td>892177421306343426</td>\n",
       "      <td>https://pbs.twimg.com/media/DGGmoV4XsAAUL6n.jpg</td>\n",
       "      <td>1</td>\n",
       "      <td>Chihuahua</td>\n",
       "      <td>0.323581</td>\n",
       "      <td>True</td>\n",
       "      <td>Pekinese</td>\n",
       "      <td>0.090647</td>\n",
       "      <td>True</td>\n",
       "      <td>papillon</td>\n",
       "      <td>0.068957</td>\n",
       "      <td>True</td>\n",
       "    </tr>\n",
       "    <tr>\n",
       "      <th>2074</th>\n",
       "      <td>892420643555336193</td>\n",
       "      <td>https://pbs.twimg.com/media/DGKD1-bXoAAIAUK.jpg</td>\n",
       "      <td>1</td>\n",
       "      <td>orange</td>\n",
       "      <td>0.097049</td>\n",
       "      <td>False</td>\n",
       "      <td>bagel</td>\n",
       "      <td>0.085851</td>\n",
       "      <td>False</td>\n",
       "      <td>banana</td>\n",
       "      <td>0.076110</td>\n",
       "      <td>False</td>\n",
       "    </tr>\n",
       "  </tbody>\n",
       "</table>\n",
       "<p>2075 rows × 12 columns</p>\n",
       "</div>"
      ],
      "text/plain": [
       "                tweet_id                                          jpg_url  \\\n",
       "0     666020888022790149  https://pbs.twimg.com/media/CT4udn0WwAA0aMy.jpg   \n",
       "1     666029285002620928  https://pbs.twimg.com/media/CT42GRgUYAA5iDo.jpg   \n",
       "2     666033412701032449  https://pbs.twimg.com/media/CT4521TWwAEvMyu.jpg   \n",
       "3     666044226329800704  https://pbs.twimg.com/media/CT5Dr8HUEAA-lEu.jpg   \n",
       "4     666049248165822465  https://pbs.twimg.com/media/CT5IQmsXIAAKY4A.jpg   \n",
       "...                  ...                                              ...   \n",
       "2070  891327558926688256  https://pbs.twimg.com/media/DF6hr6BUMAAzZgT.jpg   \n",
       "2071  891689557279858688  https://pbs.twimg.com/media/DF_q7IAWsAEuuN8.jpg   \n",
       "2072  891815181378084864  https://pbs.twimg.com/media/DGBdLU1WsAANxJ9.jpg   \n",
       "2073  892177421306343426  https://pbs.twimg.com/media/DGGmoV4XsAAUL6n.jpg   \n",
       "2074  892420643555336193  https://pbs.twimg.com/media/DGKD1-bXoAAIAUK.jpg   \n",
       "\n",
       "      img_num                      p1   p1_conf  p1_dog                  p2  \\\n",
       "0           1  Welsh_springer_spaniel  0.465074    True              collie   \n",
       "1           1                 redbone  0.506826    True  miniature_pinscher   \n",
       "2           1         German_shepherd  0.596461    True            malinois   \n",
       "3           1     Rhodesian_ridgeback  0.408143    True             redbone   \n",
       "4           1      miniature_pinscher  0.560311    True          Rottweiler   \n",
       "...       ...                     ...       ...     ...                 ...   \n",
       "2070        2                  basset  0.555712    True    English_springer   \n",
       "2071        1             paper_towel  0.170278   False  Labrador_retriever   \n",
       "2072        1               Chihuahua  0.716012    True            malamute   \n",
       "2073        1               Chihuahua  0.323581    True            Pekinese   \n",
       "2074        1                  orange  0.097049   False               bagel   \n",
       "\n",
       "       p2_conf  p2_dog                           p3   p3_conf  p3_dog  \n",
       "0     0.156665    True            Shetland_sheepdog  0.061428    True  \n",
       "1     0.074192    True          Rhodesian_ridgeback  0.072010    True  \n",
       "2     0.138584    True                   bloodhound  0.116197    True  \n",
       "3     0.360687    True           miniature_pinscher  0.222752    True  \n",
       "4     0.243682    True                     Doberman  0.154629    True  \n",
       "...        ...     ...                          ...       ...     ...  \n",
       "2070  0.225770    True  German_short-haired_pointer  0.175219    True  \n",
       "2071  0.168086    True                      spatula  0.040836   False  \n",
       "2072  0.078253    True                       kelpie  0.031379    True  \n",
       "2073  0.090647    True                     papillon  0.068957    True  \n",
       "2074  0.085851   False                       banana  0.076110   False  \n",
       "\n",
       "[2075 rows x 12 columns]"
      ]
     },
     "execution_count": 167,
     "metadata": {},
     "output_type": "execute_result"
    }
   ],
   "source": [
    "Image_prediction_clean"
   ]
  },
  {
   "cell_type": "markdown",
   "id": "538c16e7",
   "metadata": {},
   "source": [
    "**Table 25.0 above shows the print out of checking the NaN values in dataset**"
   ]
  },
  {
   "cell_type": "markdown",
   "id": "3d1578dc",
   "metadata": {},
   "source": [
    "***Define*** \n",
    "- Data type of Timestamp is object which supposed to be datetime"
   ]
  },
  {
   "cell_type": "markdown",
   "id": "1c4fcde0",
   "metadata": {},
   "source": [
    "**Code**"
   ]
  },
  {
   "cell_type": "code",
   "execution_count": 168,
   "id": "bd2eb817",
   "metadata": {},
   "outputs": [],
   "source": [
    "# This code is to convert timestamp column from object to datetime format\n",
    "timestamp=Enhance_twitter_clean['timestamp']= pd.to_datetime(Enhance_twitter_clean['timestamp'])"
   ]
  },
  {
   "cell_type": "markdown",
   "id": "f291ad6e",
   "metadata": {},
   "source": [
    "**Test**"
   ]
  },
  {
   "cell_type": "code",
   "execution_count": 169,
   "id": "a53a96e0",
   "metadata": {},
   "outputs": [
    {
     "data": {
      "text/plain": [
       "0      2017-08-01 16:23:56+00:00\n",
       "1      2017-08-01 00:17:27+00:00\n",
       "2      2017-07-31 00:18:03+00:00\n",
       "3      2017-07-30 15:58:51+00:00\n",
       "4      2017-07-29 16:00:24+00:00\n",
       "                  ...           \n",
       "2351   2015-11-16 00:24:50+00:00\n",
       "2352   2015-11-16 00:04:52+00:00\n",
       "2353   2015-11-15 23:21:54+00:00\n",
       "2354   2015-11-15 23:05:30+00:00\n",
       "2355   2015-11-15 22:32:08+00:00\n",
       "Name: timestamp, Length: 2356, dtype: datetime64[ns, UTC]"
      ]
     },
     "execution_count": 169,
     "metadata": {},
     "output_type": "execute_result"
    }
   ],
   "source": [
    "# This code is to display of the change in converting the timestamp column from oject to datetime format\n",
    "Enhance_twitter_clean['timestamp']"
   ]
  },
  {
   "cell_type": "markdown",
   "id": "3853907b",
   "metadata": {},
   "source": [
    "**Table 26.0 above shows the print out of the change made on timestamp data type**"
   ]
  },
  {
   "cell_type": "markdown",
   "id": "216bdfff",
   "metadata": {},
   "source": [
    "***Define***\n",
    "- Data type of created_at is object which supposed to be datetime"
   ]
  },
  {
   "cell_type": "markdown",
   "id": "9e5dcc6a",
   "metadata": {},
   "source": [
    "**Code**"
   ]
  },
  {
   "cell_type": "code",
   "execution_count": 170,
   "id": "90681aeb",
   "metadata": {},
   "outputs": [],
   "source": [
    "# This code is to convert created_at column from object to datetime format\n",
    "Tweet_API_clean['created_at'] =Tweet_API_clean['created_at'].astype('datetime64[ns]')"
   ]
  },
  {
   "cell_type": "markdown",
   "id": "ecc53816",
   "metadata": {},
   "source": [
    "**Test**"
   ]
  },
  {
   "cell_type": "code",
   "execution_count": 171,
   "id": "2e200b1d",
   "metadata": {},
   "outputs": [
    {
     "data": {
      "text/html": [
       "<div>\n",
       "<style scoped>\n",
       "    .dataframe tbody tr th:only-of-type {\n",
       "        vertical-align: middle;\n",
       "    }\n",
       "\n",
       "    .dataframe tbody tr th {\n",
       "        vertical-align: top;\n",
       "    }\n",
       "\n",
       "    .dataframe thead th {\n",
       "        text-align: right;\n",
       "    }\n",
       "</style>\n",
       "<table border=\"1\" class=\"dataframe\">\n",
       "  <thead>\n",
       "    <tr style=\"text-align: right;\">\n",
       "      <th></th>\n",
       "      <th>created_at</th>\n",
       "      <th>id</th>\n",
       "      <th>full_text</th>\n",
       "      <th>source</th>\n",
       "      <th>retweet_count</th>\n",
       "      <th>favorite_count</th>\n",
       "      <th>favorited</th>\n",
       "      <th>retweeted</th>\n",
       "    </tr>\n",
       "  </thead>\n",
       "  <tbody>\n",
       "    <tr>\n",
       "      <th>0</th>\n",
       "      <td>2017-08-01 00:17:27</td>\n",
       "      <td>892177421306343426</td>\n",
       "      <td>This is Tilly. She's just checking pup on you....</td>\n",
       "      <td>&lt;a href=\"http://twitter.com/download/iphone\" r...</td>\n",
       "      <td>6514</td>\n",
       "      <td>33819</td>\n",
       "      <td>False</td>\n",
       "      <td>False</td>\n",
       "    </tr>\n",
       "    <tr>\n",
       "      <th>1</th>\n",
       "      <td>2017-07-30 15:58:51</td>\n",
       "      <td>891689557279858688</td>\n",
       "      <td>This is Darla. She commenced a snooze mid meal...</td>\n",
       "      <td>&lt;a href=\"http://twitter.com/download/iphone\" r...</td>\n",
       "      <td>8964</td>\n",
       "      <td>42908</td>\n",
       "      <td>False</td>\n",
       "      <td>False</td>\n",
       "    </tr>\n",
       "  </tbody>\n",
       "</table>\n",
       "</div>"
      ],
      "text/plain": [
       "           created_at                  id  \\\n",
       "0 2017-08-01 00:17:27  892177421306343426   \n",
       "1 2017-07-30 15:58:51  891689557279858688   \n",
       "\n",
       "                                           full_text  \\\n",
       "0  This is Tilly. She's just checking pup on you....   \n",
       "1  This is Darla. She commenced a snooze mid meal...   \n",
       "\n",
       "                                              source  retweet_count  \\\n",
       "0  <a href=\"http://twitter.com/download/iphone\" r...           6514   \n",
       "1  <a href=\"http://twitter.com/download/iphone\" r...           8964   \n",
       "\n",
       "   favorite_count  favorited  retweeted  \n",
       "0           33819      False      False  \n",
       "1           42908      False      False  "
      ]
     },
     "execution_count": 171,
     "metadata": {},
     "output_type": "execute_result"
    }
   ],
   "source": [
    "# This code is to display of the change in converting the created_at column from oject to datetime format\n",
    "Tweet_API_clean.head(2)"
   ]
  },
  {
   "cell_type": "markdown",
   "id": "275d2aa5",
   "metadata": {},
   "source": [
    "**Table 27.0 above shows the print out of the data type conversion done on created_at column in the dataset**"
   ]
  },
  {
   "cell_type": "markdown",
   "id": "f7d2545d",
   "metadata": {},
   "source": [
    "***Define***\n",
    "- Renaming timestamp column to Date"
   ]
  },
  {
   "cell_type": "markdown",
   "id": "fdbf8fa8",
   "metadata": {},
   "source": [
    "**Code**"
   ]
  },
  {
   "cell_type": "code",
   "execution_count": 172,
   "id": "cddf81bc",
   "metadata": {},
   "outputs": [],
   "source": [
    "# This code is to rename tweet_id to id\n",
    "tweet_id=Enhance_twitter_clean.rename(columns={ 'timestamp' : 'date'}, inplace=True)"
   ]
  },
  {
   "cell_type": "markdown",
   "id": "e9bf3912",
   "metadata": {},
   "source": [
    "**Test**"
   ]
  },
  {
   "cell_type": "code",
   "execution_count": 173,
   "id": "6c7d10dc",
   "metadata": {},
   "outputs": [
    {
     "data": {
      "text/html": [
       "<div>\n",
       "<style scoped>\n",
       "    .dataframe tbody tr th:only-of-type {\n",
       "        vertical-align: middle;\n",
       "    }\n",
       "\n",
       "    .dataframe tbody tr th {\n",
       "        vertical-align: top;\n",
       "    }\n",
       "\n",
       "    .dataframe thead th {\n",
       "        text-align: right;\n",
       "    }\n",
       "</style>\n",
       "<table border=\"1\" class=\"dataframe\">\n",
       "  <thead>\n",
       "    <tr style=\"text-align: right;\">\n",
       "      <th></th>\n",
       "      <th>tweet_id</th>\n",
       "      <th>date</th>\n",
       "      <th>source</th>\n",
       "      <th>text</th>\n",
       "      <th>rating_numerator</th>\n",
       "      <th>rating_denominator</th>\n",
       "      <th>name</th>\n",
       "      <th>doggo</th>\n",
       "      <th>floofer</th>\n",
       "      <th>pupper</th>\n",
       "      <th>puppo</th>\n",
       "    </tr>\n",
       "  </thead>\n",
       "  <tbody>\n",
       "    <tr>\n",
       "      <th>0</th>\n",
       "      <td>892420643555336193</td>\n",
       "      <td>2017-08-01 16:23:56+00:00</td>\n",
       "      <td>&lt;a href=\"http://twitter.com/download/iphone\" r...</td>\n",
       "      <td>This is Phineas. He's a mystical boy. Only eve...</td>\n",
       "      <td>13</td>\n",
       "      <td>10</td>\n",
       "      <td>Phineas</td>\n",
       "      <td>None</td>\n",
       "      <td>None</td>\n",
       "      <td>None</td>\n",
       "      <td>None</td>\n",
       "    </tr>\n",
       "  </tbody>\n",
       "</table>\n",
       "</div>"
      ],
      "text/plain": [
       "             tweet_id                      date  \\\n",
       "0  892420643555336193 2017-08-01 16:23:56+00:00   \n",
       "\n",
       "                                              source  \\\n",
       "0  <a href=\"http://twitter.com/download/iphone\" r...   \n",
       "\n",
       "                                                text  rating_numerator  \\\n",
       "0  This is Phineas. He's a mystical boy. Only eve...                13   \n",
       "\n",
       "   rating_denominator     name doggo floofer pupper puppo  \n",
       "0                  10  Phineas  None    None   None  None  "
      ]
     },
     "execution_count": 173,
     "metadata": {},
     "output_type": "execute_result"
    }
   ],
   "source": [
    "# This code is to display the change of renaming tweet_id to id\n",
    "Enhance_twitter_clean.head(1)"
   ]
  },
  {
   "cell_type": "markdown",
   "id": "9bd1ced2",
   "metadata": {},
   "source": [
    "**Table 28.0 above shows the print out of the renaming done on timestamp column dataset**"
   ]
  },
  {
   "cell_type": "markdown",
   "id": "de2b1564",
   "metadata": {},
   "source": [
    "***Define***\n",
    "- Renaning of create_at to timestamp and id to tweet_id"
   ]
  },
  {
   "cell_type": "markdown",
   "id": "0a89899b",
   "metadata": {},
   "source": [
    "**Code**"
   ]
  },
  {
   "cell_type": "code",
   "execution_count": 174,
   "id": "62ef0658",
   "metadata": {},
   "outputs": [],
   "source": [
    "# This code is to rename create_at and id columns respectively in the dataset\n",
    "created_at=Tweet_API_clean.rename(columns={'created_at' : 'date', 'id' :'tweet_id'}, inplace=True)"
   ]
  },
  {
   "cell_type": "markdown",
   "id": "d87283fa",
   "metadata": {},
   "source": [
    "**Test**"
   ]
  },
  {
   "cell_type": "code",
   "execution_count": 175,
   "id": "0079d6b5",
   "metadata": {},
   "outputs": [
    {
     "data": {
      "text/html": [
       "<div>\n",
       "<style scoped>\n",
       "    .dataframe tbody tr th:only-of-type {\n",
       "        vertical-align: middle;\n",
       "    }\n",
       "\n",
       "    .dataframe tbody tr th {\n",
       "        vertical-align: top;\n",
       "    }\n",
       "\n",
       "    .dataframe thead th {\n",
       "        text-align: right;\n",
       "    }\n",
       "</style>\n",
       "<table border=\"1\" class=\"dataframe\">\n",
       "  <thead>\n",
       "    <tr style=\"text-align: right;\">\n",
       "      <th></th>\n",
       "      <th>date</th>\n",
       "      <th>tweet_id</th>\n",
       "      <th>full_text</th>\n",
       "      <th>source</th>\n",
       "      <th>retweet_count</th>\n",
       "      <th>favorite_count</th>\n",
       "      <th>favorited</th>\n",
       "      <th>retweeted</th>\n",
       "    </tr>\n",
       "  </thead>\n",
       "  <tbody>\n",
       "    <tr>\n",
       "      <th>0</th>\n",
       "      <td>2017-08-01 00:17:27</td>\n",
       "      <td>892177421306343426</td>\n",
       "      <td>This is Tilly. She's just checking pup on you....</td>\n",
       "      <td>&lt;a href=\"http://twitter.com/download/iphone\" r...</td>\n",
       "      <td>6514</td>\n",
       "      <td>33819</td>\n",
       "      <td>False</td>\n",
       "      <td>False</td>\n",
       "    </tr>\n",
       "  </tbody>\n",
       "</table>\n",
       "</div>"
      ],
      "text/plain": [
       "                 date            tweet_id  \\\n",
       "0 2017-08-01 00:17:27  892177421306343426   \n",
       "\n",
       "                                           full_text  \\\n",
       "0  This is Tilly. She's just checking pup on you....   \n",
       "\n",
       "                                              source  retweet_count  \\\n",
       "0  <a href=\"http://twitter.com/download/iphone\" r...           6514   \n",
       "\n",
       "   favorite_count  favorited  retweeted  \n",
       "0           33819      False      False  "
      ]
     },
     "execution_count": 175,
     "metadata": {},
     "output_type": "execute_result"
    }
   ],
   "source": [
    "#This code is to display the renamining change\n",
    "Tweet_API_clean.head(1)"
   ]
  },
  {
   "cell_type": "markdown",
   "id": "07692397",
   "metadata": {},
   "source": [
    "**Table 29.0 above shows the print out of the renaming done on created_at to date and id to tweet_id column respectively in the dataset**"
   ]
  },
  {
   "cell_type": "markdown",
   "id": "05287b25",
   "metadata": {},
   "source": [
    "***Define***\n",
    "-  Renaming of column header  p1, p1_conf,p2_conf, p2,p3,p3_conf,p1_dog,p2_dog and p3_dog"
   ]
  },
  {
   "cell_type": "markdown",
   "id": "da6250d0",
   "metadata": {},
   "source": [
    "**Code**"
   ]
  },
  {
   "cell_type": "code",
   "execution_count": 176,
   "id": "5070506a",
   "metadata": {},
   "outputs": [],
   "source": [
    "# This code is to rename some columns in the dataset\n",
    "Image_prediction_clean=Image_prediction_clean.rename(columns={'p1' : 'prediction_image', 'p1_conf':'prediction1_confidence', 'p2_conf':'prediction2_confidence', 'p1_dog':'prediction1_dog','p2':'prediction2_image','p2_conf':'prediction2_confidence','p2_dog':'prediction2_dog','jpg_url':'image_url', 'p3':'Prediction3_image','p3_conf':'prediction3_confidence', 'p3_dog':'prediction3_dog',})"
   ]
  },
  {
   "cell_type": "markdown",
   "id": "fcf29fe0",
   "metadata": {},
   "source": [
    "**Test**"
   ]
  },
  {
   "cell_type": "code",
   "execution_count": 177,
   "id": "2b42c3d2",
   "metadata": {},
   "outputs": [
    {
     "data": {
      "text/html": [
       "<div>\n",
       "<style scoped>\n",
       "    .dataframe tbody tr th:only-of-type {\n",
       "        vertical-align: middle;\n",
       "    }\n",
       "\n",
       "    .dataframe tbody tr th {\n",
       "        vertical-align: top;\n",
       "    }\n",
       "\n",
       "    .dataframe thead th {\n",
       "        text-align: right;\n",
       "    }\n",
       "</style>\n",
       "<table border=\"1\" class=\"dataframe\">\n",
       "  <thead>\n",
       "    <tr style=\"text-align: right;\">\n",
       "      <th></th>\n",
       "      <th>tweet_id</th>\n",
       "      <th>image_url</th>\n",
       "      <th>img_num</th>\n",
       "      <th>prediction_image</th>\n",
       "      <th>prediction1_confidence</th>\n",
       "      <th>prediction1_dog</th>\n",
       "      <th>prediction2_image</th>\n",
       "      <th>prediction2_confidence</th>\n",
       "      <th>prediction2_dog</th>\n",
       "      <th>Prediction3_image</th>\n",
       "      <th>prediction3_confidence</th>\n",
       "      <th>prediction3_dog</th>\n",
       "    </tr>\n",
       "  </thead>\n",
       "  <tbody>\n",
       "    <tr>\n",
       "      <th>0</th>\n",
       "      <td>666020888022790149</td>\n",
       "      <td>https://pbs.twimg.com/media/CT4udn0WwAA0aMy.jpg</td>\n",
       "      <td>1</td>\n",
       "      <td>Welsh_springer_spaniel</td>\n",
       "      <td>0.465074</td>\n",
       "      <td>True</td>\n",
       "      <td>collie</td>\n",
       "      <td>0.156665</td>\n",
       "      <td>True</td>\n",
       "      <td>Shetland_sheepdog</td>\n",
       "      <td>0.061428</td>\n",
       "      <td>True</td>\n",
       "    </tr>\n",
       "  </tbody>\n",
       "</table>\n",
       "</div>"
      ],
      "text/plain": [
       "             tweet_id                                        image_url  \\\n",
       "0  666020888022790149  https://pbs.twimg.com/media/CT4udn0WwAA0aMy.jpg   \n",
       "\n",
       "   img_num        prediction_image  prediction1_confidence  prediction1_dog  \\\n",
       "0        1  Welsh_springer_spaniel                0.465074             True   \n",
       "\n",
       "  prediction2_image  prediction2_confidence  prediction2_dog  \\\n",
       "0            collie                0.156665             True   \n",
       "\n",
       "   Prediction3_image  prediction3_confidence  prediction3_dog  \n",
       "0  Shetland_sheepdog                0.061428             True  "
      ]
     },
     "execution_count": 177,
     "metadata": {},
     "output_type": "execute_result"
    }
   ],
   "source": [
    "#This code is to display the renamining change \n",
    "Image_prediction_clean.head(1)"
   ]
  },
  {
   "cell_type": "markdown",
   "id": "f27681d2",
   "metadata": {},
   "source": [
    "**Table 30.0 Table 26.0 above shows the print out of the renaming done on some columns in the dataset**"
   ]
  },
  {
   "cell_type": "markdown",
   "id": "15fc70b8",
   "metadata": {},
   "source": [
    "***Define***\n",
    "- Stripping off of href infront of source column needs to be removed from Tweet_API_clean and Enhance_twitter_clean"
   ]
  },
  {
   "cell_type": "markdown",
   "id": "07552a58",
   "metadata": {},
   "source": [
    "**Code**"
   ]
  },
  {
   "cell_type": "code",
   "execution_count": 178,
   "id": "63fc6291",
   "metadata": {},
   "outputs": [],
   "source": [
    "# To strip off the href infron of source url\n",
    "Tweet_API_clean['source'] = Tweet_API_clean['source'].str[8:]"
   ]
  },
  {
   "cell_type": "markdown",
   "id": "e7f96a3b",
   "metadata": {},
   "source": [
    "**Test**"
   ]
  },
  {
   "cell_type": "code",
   "execution_count": 179,
   "id": "5753a2d9",
   "metadata": {},
   "outputs": [
    {
     "data": {
      "text/html": [
       "<div>\n",
       "<style scoped>\n",
       "    .dataframe tbody tr th:only-of-type {\n",
       "        vertical-align: middle;\n",
       "    }\n",
       "\n",
       "    .dataframe tbody tr th {\n",
       "        vertical-align: top;\n",
       "    }\n",
       "\n",
       "    .dataframe thead th {\n",
       "        text-align: right;\n",
       "    }\n",
       "</style>\n",
       "<table border=\"1\" class=\"dataframe\">\n",
       "  <thead>\n",
       "    <tr style=\"text-align: right;\">\n",
       "      <th></th>\n",
       "      <th>date</th>\n",
       "      <th>tweet_id</th>\n",
       "      <th>full_text</th>\n",
       "      <th>source</th>\n",
       "      <th>retweet_count</th>\n",
       "      <th>favorite_count</th>\n",
       "      <th>favorited</th>\n",
       "      <th>retweeted</th>\n",
       "    </tr>\n",
       "  </thead>\n",
       "  <tbody>\n",
       "    <tr>\n",
       "      <th>0</th>\n",
       "      <td>2017-08-01 00:17:27</td>\n",
       "      <td>892177421306343426</td>\n",
       "      <td>This is Tilly. She's just checking pup on you....</td>\n",
       "      <td>\"http://twitter.com/download/iphone\" rel=\"nofo...</td>\n",
       "      <td>6514</td>\n",
       "      <td>33819</td>\n",
       "      <td>False</td>\n",
       "      <td>False</td>\n",
       "    </tr>\n",
       "  </tbody>\n",
       "</table>\n",
       "</div>"
      ],
      "text/plain": [
       "                 date            tweet_id  \\\n",
       "0 2017-08-01 00:17:27  892177421306343426   \n",
       "\n",
       "                                           full_text  \\\n",
       "0  This is Tilly. She's just checking pup on you....   \n",
       "\n",
       "                                              source  retweet_count  \\\n",
       "0  \"http://twitter.com/download/iphone\" rel=\"nofo...           6514   \n",
       "\n",
       "   favorite_count  favorited  retweeted  \n",
       "0           33819      False      False  "
      ]
     },
     "execution_count": 179,
     "metadata": {},
     "output_type": "execute_result"
    }
   ],
   "source": [
    "# To display the result of change made\n",
    "Tweet_API_clean.head(1)"
   ]
  },
  {
   "cell_type": "markdown",
   "id": "52e179e9",
   "metadata": {},
   "source": [
    "**Table 31.0 above shows the print out of the stripping off of href done on source columns in the dataset**"
   ]
  },
  {
   "cell_type": "markdown",
   "id": "c325071a",
   "metadata": {},
   "source": [
    "**Code**"
   ]
  },
  {
   "cell_type": "code",
   "execution_count": 180,
   "id": "51c5e4cf",
   "metadata": {},
   "outputs": [],
   "source": [
    "# To strip off the href infron of source url\n",
    "Enhance_twitter_clean['source'] = Enhance_twitter_clean['source'].str[8:]"
   ]
  },
  {
   "cell_type": "markdown",
   "id": "cccd87d4",
   "metadata": {},
   "source": [
    "**Test**"
   ]
  },
  {
   "cell_type": "code",
   "execution_count": 181,
   "id": "b956d787",
   "metadata": {},
   "outputs": [
    {
     "data": {
      "text/html": [
       "<div>\n",
       "<style scoped>\n",
       "    .dataframe tbody tr th:only-of-type {\n",
       "        vertical-align: middle;\n",
       "    }\n",
       "\n",
       "    .dataframe tbody tr th {\n",
       "        vertical-align: top;\n",
       "    }\n",
       "\n",
       "    .dataframe thead th {\n",
       "        text-align: right;\n",
       "    }\n",
       "</style>\n",
       "<table border=\"1\" class=\"dataframe\">\n",
       "  <thead>\n",
       "    <tr style=\"text-align: right;\">\n",
       "      <th></th>\n",
       "      <th>tweet_id</th>\n",
       "      <th>date</th>\n",
       "      <th>source</th>\n",
       "      <th>text</th>\n",
       "      <th>rating_numerator</th>\n",
       "      <th>rating_denominator</th>\n",
       "      <th>name</th>\n",
       "      <th>doggo</th>\n",
       "      <th>floofer</th>\n",
       "      <th>pupper</th>\n",
       "      <th>puppo</th>\n",
       "    </tr>\n",
       "  </thead>\n",
       "  <tbody>\n",
       "    <tr>\n",
       "      <th>0</th>\n",
       "      <td>892420643555336193</td>\n",
       "      <td>2017-08-01 16:23:56+00:00</td>\n",
       "      <td>\"http://twitter.com/download/iphone\" rel=\"nofo...</td>\n",
       "      <td>This is Phineas. He's a mystical boy. Only eve...</td>\n",
       "      <td>13</td>\n",
       "      <td>10</td>\n",
       "      <td>Phineas</td>\n",
       "      <td>None</td>\n",
       "      <td>None</td>\n",
       "      <td>None</td>\n",
       "      <td>None</td>\n",
       "    </tr>\n",
       "  </tbody>\n",
       "</table>\n",
       "</div>"
      ],
      "text/plain": [
       "             tweet_id                      date  \\\n",
       "0  892420643555336193 2017-08-01 16:23:56+00:00   \n",
       "\n",
       "                                              source  \\\n",
       "0  \"http://twitter.com/download/iphone\" rel=\"nofo...   \n",
       "\n",
       "                                                text  rating_numerator  \\\n",
       "0  This is Phineas. He's a mystical boy. Only eve...                13   \n",
       "\n",
       "   rating_denominator     name doggo floofer pupper puppo  \n",
       "0                  10  Phineas  None    None   None  None  "
      ]
     },
     "execution_count": 181,
     "metadata": {},
     "output_type": "execute_result"
    }
   ],
   "source": [
    "# To display the result of change made\n",
    "Enhance_twitter_clean.head(1)"
   ]
  },
  {
   "cell_type": "markdown",
   "id": "71251318",
   "metadata": {},
   "source": [
    "**Table 32.0 above shows the print out of the stripping off of href done on source columns in the dataset**"
   ]
  },
  {
   "cell_type": "markdown",
   "id": "6b80d6e7",
   "metadata": {},
   "source": [
    "***Define***\n",
    "- Stripping off of Time from date in both dataset Enhance_twitter_clean and Tweet_twitter_clean"
   ]
  },
  {
   "cell_type": "markdown",
   "id": "dbe75f0a",
   "metadata": {},
   "source": [
    "**Code**"
   ]
  },
  {
   "cell_type": "code",
   "execution_count": 182,
   "id": "60a3ebfc",
   "metadata": {},
   "outputs": [],
   "source": [
    "# To strip off time date in Tweet_API_clean dataset\n",
    "Tweet_API_clean['date'] = pd.to_datetime(Tweet_API_clean['date'], errors='coerce').dt.date"
   ]
  },
  {
   "cell_type": "markdown",
   "id": "a2f7d60f",
   "metadata": {},
   "source": [
    "**Test**"
   ]
  },
  {
   "cell_type": "code",
   "execution_count": 183,
   "id": "ccb302a3",
   "metadata": {},
   "outputs": [
    {
     "data": {
      "text/html": [
       "<div>\n",
       "<style scoped>\n",
       "    .dataframe tbody tr th:only-of-type {\n",
       "        vertical-align: middle;\n",
       "    }\n",
       "\n",
       "    .dataframe tbody tr th {\n",
       "        vertical-align: top;\n",
       "    }\n",
       "\n",
       "    .dataframe thead th {\n",
       "        text-align: right;\n",
       "    }\n",
       "</style>\n",
       "<table border=\"1\" class=\"dataframe\">\n",
       "  <thead>\n",
       "    <tr style=\"text-align: right;\">\n",
       "      <th></th>\n",
       "      <th>date</th>\n",
       "      <th>tweet_id</th>\n",
       "      <th>full_text</th>\n",
       "      <th>source</th>\n",
       "      <th>retweet_count</th>\n",
       "      <th>favorite_count</th>\n",
       "      <th>favorited</th>\n",
       "      <th>retweeted</th>\n",
       "    </tr>\n",
       "  </thead>\n",
       "  <tbody>\n",
       "    <tr>\n",
       "      <th>0</th>\n",
       "      <td>2017-08-01</td>\n",
       "      <td>892177421306343426</td>\n",
       "      <td>This is Tilly. She's just checking pup on you....</td>\n",
       "      <td>\"http://twitter.com/download/iphone\" rel=\"nofo...</td>\n",
       "      <td>6514</td>\n",
       "      <td>33819</td>\n",
       "      <td>False</td>\n",
       "      <td>False</td>\n",
       "    </tr>\n",
       "  </tbody>\n",
       "</table>\n",
       "</div>"
      ],
      "text/plain": [
       "         date            tweet_id  \\\n",
       "0  2017-08-01  892177421306343426   \n",
       "\n",
       "                                           full_text  \\\n",
       "0  This is Tilly. She's just checking pup on you....   \n",
       "\n",
       "                                              source  retweet_count  \\\n",
       "0  \"http://twitter.com/download/iphone\" rel=\"nofo...           6514   \n",
       "\n",
       "   favorite_count  favorited  retweeted  \n",
       "0           33819      False      False  "
      ]
     },
     "execution_count": 183,
     "metadata": {},
     "output_type": "execute_result"
    }
   ],
   "source": [
    "# To display the result of the change made \n",
    "Tweet_API_clean.head(1)"
   ]
  },
  {
   "cell_type": "markdown",
   "id": "17cda48d",
   "metadata": {},
   "source": [
    "**Table 33.0 above shows the print out of the stripping off of time done on date columns in the dataset**"
   ]
  },
  {
   "cell_type": "markdown",
   "id": "e2066f8c",
   "metadata": {},
   "source": [
    "**Code**"
   ]
  },
  {
   "cell_type": "code",
   "execution_count": 184,
   "id": "22c81105",
   "metadata": {},
   "outputs": [],
   "source": [
    "# To strip off time date in Enhance_twitter_clean dataset\n",
    "Enhance_twitter_clean['date'] = pd.to_datetime(Enhance_twitter_clean['date'], errors='coerce').dt.date"
   ]
  },
  {
   "cell_type": "markdown",
   "id": "08233290",
   "metadata": {},
   "source": [
    "**Test**"
   ]
  },
  {
   "cell_type": "code",
   "execution_count": 185,
   "id": "ecd21237",
   "metadata": {},
   "outputs": [
    {
     "data": {
      "text/html": [
       "<div>\n",
       "<style scoped>\n",
       "    .dataframe tbody tr th:only-of-type {\n",
       "        vertical-align: middle;\n",
       "    }\n",
       "\n",
       "    .dataframe tbody tr th {\n",
       "        vertical-align: top;\n",
       "    }\n",
       "\n",
       "    .dataframe thead th {\n",
       "        text-align: right;\n",
       "    }\n",
       "</style>\n",
       "<table border=\"1\" class=\"dataframe\">\n",
       "  <thead>\n",
       "    <tr style=\"text-align: right;\">\n",
       "      <th></th>\n",
       "      <th>tweet_id</th>\n",
       "      <th>date</th>\n",
       "      <th>source</th>\n",
       "      <th>text</th>\n",
       "      <th>rating_numerator</th>\n",
       "      <th>rating_denominator</th>\n",
       "      <th>name</th>\n",
       "      <th>doggo</th>\n",
       "      <th>floofer</th>\n",
       "      <th>pupper</th>\n",
       "      <th>puppo</th>\n",
       "    </tr>\n",
       "  </thead>\n",
       "  <tbody>\n",
       "    <tr>\n",
       "      <th>0</th>\n",
       "      <td>892420643555336193</td>\n",
       "      <td>2017-08-01</td>\n",
       "      <td>\"http://twitter.com/download/iphone\" rel=\"nofo...</td>\n",
       "      <td>This is Phineas. He's a mystical boy. Only eve...</td>\n",
       "      <td>13</td>\n",
       "      <td>10</td>\n",
       "      <td>Phineas</td>\n",
       "      <td>None</td>\n",
       "      <td>None</td>\n",
       "      <td>None</td>\n",
       "      <td>None</td>\n",
       "    </tr>\n",
       "  </tbody>\n",
       "</table>\n",
       "</div>"
      ],
      "text/plain": [
       "             tweet_id        date  \\\n",
       "0  892420643555336193  2017-08-01   \n",
       "\n",
       "                                              source  \\\n",
       "0  \"http://twitter.com/download/iphone\" rel=\"nofo...   \n",
       "\n",
       "                                                text  rating_numerator  \\\n",
       "0  This is Phineas. He's a mystical boy. Only eve...                13   \n",
       "\n",
       "   rating_denominator     name doggo floofer pupper puppo  \n",
       "0                  10  Phineas  None    None   None  None  "
      ]
     },
     "execution_count": 185,
     "metadata": {},
     "output_type": "execute_result"
    }
   ],
   "source": [
    "# To display the reuslt of the change made\n",
    "Enhance_twitter_clean.head(1)"
   ]
  },
  {
   "cell_type": "markdown",
   "id": "105603ff",
   "metadata": {},
   "source": [
    "**Table 34.0 above shows the print out of the stripping off of time done on date columns in the dataset**"
   ]
  },
  {
   "cell_type": "markdown",
   "id": "f38ebc1f",
   "metadata": {},
   "source": [
    "***Define***\n",
    "- Arranging the date and text column in Enhance_twitter_clean and Tweet_API_clean dataset"
   ]
  },
  {
   "cell_type": "markdown",
   "id": "dc5ab53e",
   "metadata": {},
   "source": [
    "**Code**"
   ]
  },
  {
   "cell_type": "code",
   "execution_count": 186,
   "id": "1bcdc603",
   "metadata": {},
   "outputs": [],
   "source": [
    "# To move date column to the right\n",
    "column_to_move = Tweet_API_clean.pop(\"date\")\n",
    "Tweet_API_clean.insert(1, \"date\", column_to_move)"
   ]
  },
  {
   "cell_type": "markdown",
   "id": "becc15d3",
   "metadata": {},
   "source": [
    "**Test**"
   ]
  },
  {
   "cell_type": "code",
   "execution_count": 187,
   "id": "abb325e9",
   "metadata": {},
   "outputs": [
    {
     "data": {
      "text/html": [
       "<div>\n",
       "<style scoped>\n",
       "    .dataframe tbody tr th:only-of-type {\n",
       "        vertical-align: middle;\n",
       "    }\n",
       "\n",
       "    .dataframe tbody tr th {\n",
       "        vertical-align: top;\n",
       "    }\n",
       "\n",
       "    .dataframe thead th {\n",
       "        text-align: right;\n",
       "    }\n",
       "</style>\n",
       "<table border=\"1\" class=\"dataframe\">\n",
       "  <thead>\n",
       "    <tr style=\"text-align: right;\">\n",
       "      <th></th>\n",
       "      <th>tweet_id</th>\n",
       "      <th>date</th>\n",
       "      <th>full_text</th>\n",
       "      <th>source</th>\n",
       "      <th>retweet_count</th>\n",
       "      <th>favorite_count</th>\n",
       "      <th>favorited</th>\n",
       "      <th>retweeted</th>\n",
       "    </tr>\n",
       "  </thead>\n",
       "  <tbody>\n",
       "    <tr>\n",
       "      <th>0</th>\n",
       "      <td>892177421306343426</td>\n",
       "      <td>2017-08-01</td>\n",
       "      <td>This is Tilly. She's just checking pup on you....</td>\n",
       "      <td>\"http://twitter.com/download/iphone\" rel=\"nofo...</td>\n",
       "      <td>6514</td>\n",
       "      <td>33819</td>\n",
       "      <td>False</td>\n",
       "      <td>False</td>\n",
       "    </tr>\n",
       "  </tbody>\n",
       "</table>\n",
       "</div>"
      ],
      "text/plain": [
       "             tweet_id        date  \\\n",
       "0  892177421306343426  2017-08-01   \n",
       "\n",
       "                                           full_text  \\\n",
       "0  This is Tilly. She's just checking pup on you....   \n",
       "\n",
       "                                              source  retweet_count  \\\n",
       "0  \"http://twitter.com/download/iphone\" rel=\"nofo...           6514   \n",
       "\n",
       "   favorite_count  favorited  retweeted  \n",
       "0           33819      False      False  "
      ]
     },
     "execution_count": 187,
     "metadata": {},
     "output_type": "execute_result"
    }
   ],
   "source": [
    "# To display the change made\n",
    "Tweet_API_clean.head(1)"
   ]
  },
  {
   "cell_type": "markdown",
   "id": "9cdf8ef6",
   "metadata": {},
   "source": [
    "**Table 35.0 above shows the print out of date column moved to the right in the dataset**"
   ]
  },
  {
   "cell_type": "markdown",
   "id": "42149627",
   "metadata": {},
   "source": [
    "**Code**"
   ]
  },
  {
   "cell_type": "code",
   "execution_count": 188,
   "id": "93ce303c",
   "metadata": {},
   "outputs": [],
   "source": [
    "# To move date column to the right\n",
    "column_to_move = Enhance_twitter_clean.pop(\"text\")\n",
    "Enhance_twitter_clean.insert(2, \"text\", column_to_move)"
   ]
  },
  {
   "cell_type": "markdown",
   "id": "a9a135eb",
   "metadata": {},
   "source": [
    "**Test**"
   ]
  },
  {
   "cell_type": "code",
   "execution_count": 189,
   "id": "d0e43f99",
   "metadata": {},
   "outputs": [
    {
     "data": {
      "text/html": [
       "<div>\n",
       "<style scoped>\n",
       "    .dataframe tbody tr th:only-of-type {\n",
       "        vertical-align: middle;\n",
       "    }\n",
       "\n",
       "    .dataframe tbody tr th {\n",
       "        vertical-align: top;\n",
       "    }\n",
       "\n",
       "    .dataframe thead th {\n",
       "        text-align: right;\n",
       "    }\n",
       "</style>\n",
       "<table border=\"1\" class=\"dataframe\">\n",
       "  <thead>\n",
       "    <tr style=\"text-align: right;\">\n",
       "      <th></th>\n",
       "      <th>tweet_id</th>\n",
       "      <th>date</th>\n",
       "      <th>text</th>\n",
       "      <th>source</th>\n",
       "      <th>rating_numerator</th>\n",
       "      <th>rating_denominator</th>\n",
       "      <th>name</th>\n",
       "      <th>doggo</th>\n",
       "      <th>floofer</th>\n",
       "      <th>pupper</th>\n",
       "      <th>puppo</th>\n",
       "    </tr>\n",
       "  </thead>\n",
       "  <tbody>\n",
       "    <tr>\n",
       "      <th>0</th>\n",
       "      <td>892420643555336193</td>\n",
       "      <td>2017-08-01</td>\n",
       "      <td>This is Phineas. He's a mystical boy. Only eve...</td>\n",
       "      <td>\"http://twitter.com/download/iphone\" rel=\"nofo...</td>\n",
       "      <td>13</td>\n",
       "      <td>10</td>\n",
       "      <td>Phineas</td>\n",
       "      <td>None</td>\n",
       "      <td>None</td>\n",
       "      <td>None</td>\n",
       "      <td>None</td>\n",
       "    </tr>\n",
       "  </tbody>\n",
       "</table>\n",
       "</div>"
      ],
      "text/plain": [
       "             tweet_id        date  \\\n",
       "0  892420643555336193  2017-08-01   \n",
       "\n",
       "                                                text  \\\n",
       "0  This is Phineas. He's a mystical boy. Only eve...   \n",
       "\n",
       "                                              source  rating_numerator  \\\n",
       "0  \"http://twitter.com/download/iphone\" rel=\"nofo...                13   \n",
       "\n",
       "   rating_denominator     name doggo floofer pupper puppo  \n",
       "0                  10  Phineas  None    None   None  None  "
      ]
     },
     "execution_count": 189,
     "metadata": {},
     "output_type": "execute_result"
    }
   ],
   "source": [
    "# To display the change made\n",
    "Enhance_twitter_clean.head(1)"
   ]
  },
  {
   "cell_type": "markdown",
   "id": "9f66a1ac",
   "metadata": {},
   "source": [
    "**Table 36.0 above shows the print out of date column moved to the right in the dataset**"
   ]
  },
  {
   "cell_type": "markdown",
   "id": "b20427db",
   "metadata": {},
   "source": [
    "**Define**\n",
    "-  Some rating numerators are incorrect because they are below the range usually given(lower than 10 and greater than 13)"
   ]
  },
  {
   "cell_type": "markdown",
   "id": "724051e8",
   "metadata": {},
   "source": [
    "**Code**"
   ]
  },
  {
   "cell_type": "code",
   "execution_count": 190,
   "id": "4043fbeb",
   "metadata": {},
   "outputs": [],
   "source": [
    "# To correct the wrong rating values in both numerator and denumerator columns\n",
    "Enhance_twitter_clean=Enhance_twitter_clean[Enhance_twitter_clean.rating_numerator>9]\n",
    "Enhance_twitter_clean=Enhance_twitter_clean[Enhance_twitter_clean.rating_numerator<13]"
   ]
  },
  {
   "cell_type": "markdown",
   "id": "0bc22adb",
   "metadata": {},
   "source": [
    "**Test**"
   ]
  },
  {
   "cell_type": "code",
   "execution_count": 191,
   "id": "5f4925b3",
   "metadata": {},
   "outputs": [
    {
     "data": {
      "text/plain": [
       "12    558\n",
       "11    464\n",
       "10    461\n",
       "Name: rating_numerator, dtype: int64"
      ]
     },
     "execution_count": 191,
     "metadata": {},
     "output_type": "execute_result"
    }
   ],
   "source": [
    "# To check the result of the correction made\n",
    "Enhance_twitter_clean.rating_numerator.value_counts()"
   ]
  },
  {
   "cell_type": "markdown",
   "id": "74b0acb5",
   "metadata": {},
   "source": [
    "## Cleaning Data Tidiness Problem"
   ]
  },
  {
   "cell_type": "markdown",
   "id": "aff66675",
   "metadata": {},
   "source": [
    "***Define***\n",
    "- Merging the three dataset together to be a master dataset."
   ]
  },
  {
   "cell_type": "markdown",
   "id": "2fa960dd",
   "metadata": {},
   "source": [
    "**Code**"
   ]
  },
  {
   "cell_type": "code",
   "execution_count": 192,
   "id": "d754453a",
   "metadata": {},
   "outputs": [],
   "source": [
    "# To Merge Enhance_twitter_clean and Tweet_API_clean together\n",
    "Master_clean=pd.merge(Enhance_twitter_clean, Tweet_API_clean, on=['tweet_id'], how='right')"
   ]
  },
  {
   "cell_type": "code",
   "execution_count": 193,
   "id": "0316899b",
   "metadata": {},
   "outputs": [],
   "source": [
    "# To merge Master_clean and Image_prediction_clean together\n",
    "Final_Master_clean=pd.merge(Master_clean, Image_prediction_clean, on=['tweet_id'], how='right')"
   ]
  },
  {
   "cell_type": "markdown",
   "id": "1f5ff2cc",
   "metadata": {},
   "source": [
    "**Test**"
   ]
  },
  {
   "cell_type": "code",
   "execution_count": 194,
   "id": "d10e8c07",
   "metadata": {},
   "outputs": [
    {
     "data": {
      "text/html": [
       "<div>\n",
       "<style scoped>\n",
       "    .dataframe tbody tr th:only-of-type {\n",
       "        vertical-align: middle;\n",
       "    }\n",
       "\n",
       "    .dataframe tbody tr th {\n",
       "        vertical-align: top;\n",
       "    }\n",
       "\n",
       "    .dataframe thead th {\n",
       "        text-align: right;\n",
       "    }\n",
       "</style>\n",
       "<table border=\"1\" class=\"dataframe\">\n",
       "  <thead>\n",
       "    <tr style=\"text-align: right;\">\n",
       "      <th></th>\n",
       "      <th>tweet_id</th>\n",
       "      <th>date_x</th>\n",
       "      <th>text</th>\n",
       "      <th>source_x</th>\n",
       "      <th>rating_numerator</th>\n",
       "      <th>rating_denominator</th>\n",
       "      <th>name</th>\n",
       "      <th>doggo</th>\n",
       "      <th>floofer</th>\n",
       "      <th>pupper</th>\n",
       "      <th>...</th>\n",
       "      <th>img_num</th>\n",
       "      <th>prediction_image</th>\n",
       "      <th>prediction1_confidence</th>\n",
       "      <th>prediction1_dog</th>\n",
       "      <th>prediction2_image</th>\n",
       "      <th>prediction2_confidence</th>\n",
       "      <th>prediction2_dog</th>\n",
       "      <th>Prediction3_image</th>\n",
       "      <th>prediction3_confidence</th>\n",
       "      <th>prediction3_dog</th>\n",
       "    </tr>\n",
       "  </thead>\n",
       "  <tbody>\n",
       "    <tr>\n",
       "      <th>0</th>\n",
       "      <td>666020888022790149</td>\n",
       "      <td>NaN</td>\n",
       "      <td>NaN</td>\n",
       "      <td>NaN</td>\n",
       "      <td>NaN</td>\n",
       "      <td>NaN</td>\n",
       "      <td>NaN</td>\n",
       "      <td>NaN</td>\n",
       "      <td>NaN</td>\n",
       "      <td>NaN</td>\n",
       "      <td>...</td>\n",
       "      <td>1</td>\n",
       "      <td>Welsh_springer_spaniel</td>\n",
       "      <td>0.465074</td>\n",
       "      <td>True</td>\n",
       "      <td>collie</td>\n",
       "      <td>0.156665</td>\n",
       "      <td>True</td>\n",
       "      <td>Shetland_sheepdog</td>\n",
       "      <td>0.061428</td>\n",
       "      <td>True</td>\n",
       "    </tr>\n",
       "    <tr>\n",
       "      <th>1</th>\n",
       "      <td>666029285002620928</td>\n",
       "      <td>NaN</td>\n",
       "      <td>NaN</td>\n",
       "      <td>NaN</td>\n",
       "      <td>NaN</td>\n",
       "      <td>NaN</td>\n",
       "      <td>NaN</td>\n",
       "      <td>NaN</td>\n",
       "      <td>NaN</td>\n",
       "      <td>NaN</td>\n",
       "      <td>...</td>\n",
       "      <td>1</td>\n",
       "      <td>redbone</td>\n",
       "      <td>0.506826</td>\n",
       "      <td>True</td>\n",
       "      <td>miniature_pinscher</td>\n",
       "      <td>0.074192</td>\n",
       "      <td>True</td>\n",
       "      <td>Rhodesian_ridgeback</td>\n",
       "      <td>0.072010</td>\n",
       "      <td>True</td>\n",
       "    </tr>\n",
       "    <tr>\n",
       "      <th>2</th>\n",
       "      <td>666033412701032449</td>\n",
       "      <td>NaN</td>\n",
       "      <td>NaN</td>\n",
       "      <td>NaN</td>\n",
       "      <td>NaN</td>\n",
       "      <td>NaN</td>\n",
       "      <td>NaN</td>\n",
       "      <td>NaN</td>\n",
       "      <td>NaN</td>\n",
       "      <td>NaN</td>\n",
       "      <td>...</td>\n",
       "      <td>1</td>\n",
       "      <td>German_shepherd</td>\n",
       "      <td>0.596461</td>\n",
       "      <td>True</td>\n",
       "      <td>malinois</td>\n",
       "      <td>0.138584</td>\n",
       "      <td>True</td>\n",
       "      <td>bloodhound</td>\n",
       "      <td>0.116197</td>\n",
       "      <td>True</td>\n",
       "    </tr>\n",
       "    <tr>\n",
       "      <th>3</th>\n",
       "      <td>666044226329800704</td>\n",
       "      <td>NaN</td>\n",
       "      <td>NaN</td>\n",
       "      <td>NaN</td>\n",
       "      <td>NaN</td>\n",
       "      <td>NaN</td>\n",
       "      <td>NaN</td>\n",
       "      <td>NaN</td>\n",
       "      <td>NaN</td>\n",
       "      <td>NaN</td>\n",
       "      <td>...</td>\n",
       "      <td>1</td>\n",
       "      <td>Rhodesian_ridgeback</td>\n",
       "      <td>0.408143</td>\n",
       "      <td>True</td>\n",
       "      <td>redbone</td>\n",
       "      <td>0.360687</td>\n",
       "      <td>True</td>\n",
       "      <td>miniature_pinscher</td>\n",
       "      <td>0.222752</td>\n",
       "      <td>True</td>\n",
       "    </tr>\n",
       "    <tr>\n",
       "      <th>4</th>\n",
       "      <td>666049248165822465</td>\n",
       "      <td>NaN</td>\n",
       "      <td>NaN</td>\n",
       "      <td>NaN</td>\n",
       "      <td>NaN</td>\n",
       "      <td>NaN</td>\n",
       "      <td>NaN</td>\n",
       "      <td>NaN</td>\n",
       "      <td>NaN</td>\n",
       "      <td>NaN</td>\n",
       "      <td>...</td>\n",
       "      <td>1</td>\n",
       "      <td>miniature_pinscher</td>\n",
       "      <td>0.560311</td>\n",
       "      <td>True</td>\n",
       "      <td>Rottweiler</td>\n",
       "      <td>0.243682</td>\n",
       "      <td>True</td>\n",
       "      <td>Doberman</td>\n",
       "      <td>0.154629</td>\n",
       "      <td>True</td>\n",
       "    </tr>\n",
       "  </tbody>\n",
       "</table>\n",
       "<p>5 rows × 29 columns</p>\n",
       "</div>"
      ],
      "text/plain": [
       "             tweet_id date_x text source_x  rating_numerator  \\\n",
       "0  666020888022790149    NaN  NaN      NaN               NaN   \n",
       "1  666029285002620928    NaN  NaN      NaN               NaN   \n",
       "2  666033412701032449    NaN  NaN      NaN               NaN   \n",
       "3  666044226329800704    NaN  NaN      NaN               NaN   \n",
       "4  666049248165822465    NaN  NaN      NaN               NaN   \n",
       "\n",
       "   rating_denominator name doggo floofer pupper  ... img_num  \\\n",
       "0                 NaN  NaN   NaN     NaN    NaN  ...       1   \n",
       "1                 NaN  NaN   NaN     NaN    NaN  ...       1   \n",
       "2                 NaN  NaN   NaN     NaN    NaN  ...       1   \n",
       "3                 NaN  NaN   NaN     NaN    NaN  ...       1   \n",
       "4                 NaN  NaN   NaN     NaN    NaN  ...       1   \n",
       "\n",
       "         prediction_image prediction1_confidence prediction1_dog  \\\n",
       "0  Welsh_springer_spaniel               0.465074            True   \n",
       "1                 redbone               0.506826            True   \n",
       "2         German_shepherd               0.596461            True   \n",
       "3     Rhodesian_ridgeback               0.408143            True   \n",
       "4      miniature_pinscher               0.560311            True   \n",
       "\n",
       "    prediction2_image  prediction2_confidence prediction2_dog  \\\n",
       "0              collie                0.156665            True   \n",
       "1  miniature_pinscher                0.074192            True   \n",
       "2            malinois                0.138584            True   \n",
       "3             redbone                0.360687            True   \n",
       "4          Rottweiler                0.243682            True   \n",
       "\n",
       "     Prediction3_image prediction3_confidence  prediction3_dog  \n",
       "0    Shetland_sheepdog               0.061428             True  \n",
       "1  Rhodesian_ridgeback               0.072010             True  \n",
       "2           bloodhound               0.116197             True  \n",
       "3   miniature_pinscher               0.222752             True  \n",
       "4             Doberman               0.154629             True  \n",
       "\n",
       "[5 rows x 29 columns]"
      ]
     },
     "execution_count": 194,
     "metadata": {},
     "output_type": "execute_result"
    }
   ],
   "source": [
    "# To display the Final master Dataset\n",
    "Final_Master_clean.head(5)"
   ]
  },
  {
   "cell_type": "markdown",
   "id": "f35e7c47",
   "metadata": {},
   "source": [
    "**Table 37.0 above shows the print out of the final merged clean dataset**"
   ]
  },
  {
   "cell_type": "markdown",
   "id": "a9f45e39",
   "metadata": {},
   "source": [
    "***Define***\n",
    "- Dropping of the null values in the 3 dataset"
   ]
  },
  {
   "cell_type": "markdown",
   "id": "3716120c",
   "metadata": {},
   "source": [
    "**Code**"
   ]
  },
  {
   "cell_type": "code",
   "execution_count": 195,
   "id": "e644439a",
   "metadata": {},
   "outputs": [],
   "source": [
    "Final_Master_clean.dropna(inplace=True)"
   ]
  },
  {
   "cell_type": "markdown",
   "id": "dc3a337e",
   "metadata": {},
   "source": [
    "**Test**"
   ]
  },
  {
   "cell_type": "code",
   "execution_count": 196,
   "id": "1fd7ebf6",
   "metadata": {},
   "outputs": [
    {
     "data": {
      "text/plain": [
       "tweet_id                  0\n",
       "date_x                    0\n",
       "text                      0\n",
       "source_x                  0\n",
       "rating_numerator          0\n",
       "rating_denominator        0\n",
       "name                      0\n",
       "doggo                     0\n",
       "floofer                   0\n",
       "pupper                    0\n",
       "puppo                     0\n",
       "date_y                    0\n",
       "full_text                 0\n",
       "source_y                  0\n",
       "retweet_count             0\n",
       "favorite_count            0\n",
       "favorited                 0\n",
       "retweeted                 0\n",
       "image_url                 0\n",
       "img_num                   0\n",
       "prediction_image          0\n",
       "prediction1_confidence    0\n",
       "prediction1_dog           0\n",
       "prediction2_image         0\n",
       "prediction2_confidence    0\n",
       "prediction2_dog           0\n",
       "Prediction3_image         0\n",
       "prediction3_confidence    0\n",
       "prediction3_dog           0\n",
       "dtype: int64"
      ]
     },
     "execution_count": 196,
     "metadata": {},
     "output_type": "execute_result"
    }
   ],
   "source": [
    "Final_Master_clean.isnull().sum()"
   ]
  },
  {
   "cell_type": "markdown",
   "id": "f358e58d",
   "metadata": {},
   "source": [
    "**Test**"
   ]
  },
  {
   "cell_type": "code",
   "execution_count": 197,
   "id": "90a0dd4f",
   "metadata": {},
   "outputs": [
    {
     "data": {
      "text/html": [
       "<div>\n",
       "<style scoped>\n",
       "    .dataframe tbody tr th:only-of-type {\n",
       "        vertical-align: middle;\n",
       "    }\n",
       "\n",
       "    .dataframe tbody tr th {\n",
       "        vertical-align: top;\n",
       "    }\n",
       "\n",
       "    .dataframe thead th {\n",
       "        text-align: right;\n",
       "    }\n",
       "</style>\n",
       "<table border=\"1\" class=\"dataframe\">\n",
       "  <thead>\n",
       "    <tr style=\"text-align: right;\">\n",
       "      <th></th>\n",
       "      <th>tweet_id</th>\n",
       "      <th>date_x</th>\n",
       "      <th>text</th>\n",
       "      <th>source_x</th>\n",
       "      <th>rating_numerator</th>\n",
       "      <th>rating_denominator</th>\n",
       "      <th>name</th>\n",
       "      <th>doggo</th>\n",
       "      <th>floofer</th>\n",
       "      <th>pupper</th>\n",
       "      <th>...</th>\n",
       "      <th>img_num</th>\n",
       "      <th>prediction_image</th>\n",
       "      <th>prediction1_confidence</th>\n",
       "      <th>prediction1_dog</th>\n",
       "      <th>prediction2_image</th>\n",
       "      <th>prediction2_confidence</th>\n",
       "      <th>prediction2_dog</th>\n",
       "      <th>Prediction3_image</th>\n",
       "      <th>prediction3_confidence</th>\n",
       "      <th>prediction3_dog</th>\n",
       "    </tr>\n",
       "  </thead>\n",
       "  <tbody>\n",
       "    <tr>\n",
       "      <th>10</th>\n",
       "      <td>666063827256086533</td>\n",
       "      <td>2015-11-16</td>\n",
       "      <td>This is the happiest dog you will ever see. Ve...</td>\n",
       "      <td>\"http://twitter.com/download/iphone\" rel=\"nofo...</td>\n",
       "      <td>10.0</td>\n",
       "      <td>10.0</td>\n",
       "      <td>the</td>\n",
       "      <td>None</td>\n",
       "      <td>None</td>\n",
       "      <td>None</td>\n",
       "      <td>...</td>\n",
       "      <td>1</td>\n",
       "      <td>golden_retriever</td>\n",
       "      <td>0.775930</td>\n",
       "      <td>True</td>\n",
       "      <td>Tibetan_mastiff</td>\n",
       "      <td>0.093718</td>\n",
       "      <td>True</td>\n",
       "      <td>Labrador_retriever</td>\n",
       "      <td>0.072427</td>\n",
       "      <td>True</td>\n",
       "    </tr>\n",
       "    <tr>\n",
       "      <th>12</th>\n",
       "      <td>666073100786774016</td>\n",
       "      <td>2015-11-16</td>\n",
       "      <td>Let's hope this flight isn't Malaysian (lol). ...</td>\n",
       "      <td>\"http://twitter.com/download/iphone\" rel=\"nofo...</td>\n",
       "      <td>10.0</td>\n",
       "      <td>10.0</td>\n",
       "      <td>None</td>\n",
       "      <td>None</td>\n",
       "      <td>None</td>\n",
       "      <td>None</td>\n",
       "      <td>...</td>\n",
       "      <td>1</td>\n",
       "      <td>Walker_hound</td>\n",
       "      <td>0.260857</td>\n",
       "      <td>True</td>\n",
       "      <td>English_foxhound</td>\n",
       "      <td>0.175382</td>\n",
       "      <td>True</td>\n",
       "      <td>Ibizan_hound</td>\n",
       "      <td>0.097471</td>\n",
       "      <td>True</td>\n",
       "    </tr>\n",
       "    <tr>\n",
       "      <th>16</th>\n",
       "      <td>666102155909144576</td>\n",
       "      <td>2015-11-16</td>\n",
       "      <td>Oh my. Here you are seeing an Adobe Setter giv...</td>\n",
       "      <td>\"http://twitter.com/download/iphone\" rel=\"nofo...</td>\n",
       "      <td>11.0</td>\n",
       "      <td>10.0</td>\n",
       "      <td>None</td>\n",
       "      <td>None</td>\n",
       "      <td>None</td>\n",
       "      <td>None</td>\n",
       "      <td>...</td>\n",
       "      <td>1</td>\n",
       "      <td>English_setter</td>\n",
       "      <td>0.298617</td>\n",
       "      <td>True</td>\n",
       "      <td>Newfoundland</td>\n",
       "      <td>0.149842</td>\n",
       "      <td>True</td>\n",
       "      <td>borzoi</td>\n",
       "      <td>0.133649</td>\n",
       "      <td>True</td>\n",
       "    </tr>\n",
       "    <tr>\n",
       "      <th>18</th>\n",
       "      <td>666268910803644416</td>\n",
       "      <td>2015-11-16</td>\n",
       "      <td>Very concerned about fellow dog trapped in com...</td>\n",
       "      <td>\"http://twitter.com/download/iphone\" rel=\"nofo...</td>\n",
       "      <td>10.0</td>\n",
       "      <td>10.0</td>\n",
       "      <td>None</td>\n",
       "      <td>None</td>\n",
       "      <td>None</td>\n",
       "      <td>None</td>\n",
       "      <td>...</td>\n",
       "      <td>1</td>\n",
       "      <td>desktop_computer</td>\n",
       "      <td>0.086502</td>\n",
       "      <td>False</td>\n",
       "      <td>desk</td>\n",
       "      <td>0.085547</td>\n",
       "      <td>False</td>\n",
       "      <td>bookcase</td>\n",
       "      <td>0.079480</td>\n",
       "      <td>False</td>\n",
       "    </tr>\n",
       "    <tr>\n",
       "      <th>26</th>\n",
       "      <td>666373753744588802</td>\n",
       "      <td>2015-11-16</td>\n",
       "      <td>Those are sunglasses and a jean jacket. 11/10 ...</td>\n",
       "      <td>\"http://twitter.com/download/iphone\" rel=\"nofo...</td>\n",
       "      <td>11.0</td>\n",
       "      <td>10.0</td>\n",
       "      <td>None</td>\n",
       "      <td>None</td>\n",
       "      <td>None</td>\n",
       "      <td>None</td>\n",
       "      <td>...</td>\n",
       "      <td>1</td>\n",
       "      <td>soft-coated_wheaten_terrier</td>\n",
       "      <td>0.326467</td>\n",
       "      <td>True</td>\n",
       "      <td>Afghan_hound</td>\n",
       "      <td>0.259551</td>\n",
       "      <td>True</td>\n",
       "      <td>briard</td>\n",
       "      <td>0.206803</td>\n",
       "      <td>True</td>\n",
       "    </tr>\n",
       "  </tbody>\n",
       "</table>\n",
       "<p>5 rows × 29 columns</p>\n",
       "</div>"
      ],
      "text/plain": [
       "              tweet_id      date_x  \\\n",
       "10  666063827256086533  2015-11-16   \n",
       "12  666073100786774016  2015-11-16   \n",
       "16  666102155909144576  2015-11-16   \n",
       "18  666268910803644416  2015-11-16   \n",
       "26  666373753744588802  2015-11-16   \n",
       "\n",
       "                                                 text  \\\n",
       "10  This is the happiest dog you will ever see. Ve...   \n",
       "12  Let's hope this flight isn't Malaysian (lol). ...   \n",
       "16  Oh my. Here you are seeing an Adobe Setter giv...   \n",
       "18  Very concerned about fellow dog trapped in com...   \n",
       "26  Those are sunglasses and a jean jacket. 11/10 ...   \n",
       "\n",
       "                                             source_x  rating_numerator  \\\n",
       "10  \"http://twitter.com/download/iphone\" rel=\"nofo...              10.0   \n",
       "12  \"http://twitter.com/download/iphone\" rel=\"nofo...              10.0   \n",
       "16  \"http://twitter.com/download/iphone\" rel=\"nofo...              11.0   \n",
       "18  \"http://twitter.com/download/iphone\" rel=\"nofo...              10.0   \n",
       "26  \"http://twitter.com/download/iphone\" rel=\"nofo...              11.0   \n",
       "\n",
       "    rating_denominator  name doggo floofer pupper  ... img_num  \\\n",
       "10                10.0   the  None    None   None  ...       1   \n",
       "12                10.0  None  None    None   None  ...       1   \n",
       "16                10.0  None  None    None   None  ...       1   \n",
       "18                10.0  None  None    None   None  ...       1   \n",
       "26                10.0  None  None    None   None  ...       1   \n",
       "\n",
       "               prediction_image prediction1_confidence prediction1_dog  \\\n",
       "10             golden_retriever               0.775930            True   \n",
       "12                 Walker_hound               0.260857            True   \n",
       "16               English_setter               0.298617            True   \n",
       "18             desktop_computer               0.086502           False   \n",
       "26  soft-coated_wheaten_terrier               0.326467            True   \n",
       "\n",
       "    prediction2_image  prediction2_confidence prediction2_dog  \\\n",
       "10    Tibetan_mastiff                0.093718            True   \n",
       "12   English_foxhound                0.175382            True   \n",
       "16       Newfoundland                0.149842            True   \n",
       "18               desk                0.085547           False   \n",
       "26       Afghan_hound                0.259551            True   \n",
       "\n",
       "     Prediction3_image prediction3_confidence  prediction3_dog  \n",
       "10  Labrador_retriever               0.072427             True  \n",
       "12        Ibizan_hound               0.097471             True  \n",
       "16              borzoi               0.133649             True  \n",
       "18            bookcase               0.079480            False  \n",
       "26              briard               0.206803             True  \n",
       "\n",
       "[5 rows x 29 columns]"
      ]
     },
     "execution_count": 197,
     "metadata": {},
     "output_type": "execute_result"
    }
   ],
   "source": [
    "Final_Master_clean.head(5)"
   ]
  },
  {
   "cell_type": "markdown",
   "id": "ebfff1e0",
   "metadata": {},
   "source": [
    "**Table 38.0 above shows the print out of the NaN values removed from dataset**"
   ]
  },
  {
   "cell_type": "markdown",
   "id": "5b26b329",
   "metadata": {},
   "source": [
    "**Define**\n",
    "- Some tweet has no pictures which needs to be removed"
   ]
  },
  {
   "cell_type": "markdown",
   "id": "1f65d4c2",
   "metadata": {},
   "source": [
    "***Code***"
   ]
  },
  {
   "cell_type": "code",
   "execution_count": 198,
   "id": "5ceb0c0b",
   "metadata": {},
   "outputs": [],
   "source": [
    "\n",
    "# Removing tweets with no pictures in the dataset\n",
    "Final_Master_clean = Final_Master_clean.dropna(subset = ['image_url'])\n",
    "\n"
   ]
  },
  {
   "cell_type": "markdown",
   "id": "502ccc06",
   "metadata": {},
   "source": [
    "**Test**"
   ]
  },
  {
   "cell_type": "code",
   "execution_count": 199,
   "id": "9fdafaac",
   "metadata": {},
   "outputs": [
    {
     "data": {
      "text/plain": [
       "0"
      ]
     },
     "execution_count": 199,
     "metadata": {},
     "output_type": "execute_result"
    }
   ],
   "source": [
    "Final_Master_clean.image_url.isnull().sum()"
   ]
  },
  {
   "cell_type": "markdown",
   "id": "4b2e4939",
   "metadata": {},
   "source": [
    "**Define**\n",
    "- Renaming missing values in name column from None to NaN and remove all rows with any NaN values"
   ]
  },
  {
   "cell_type": "markdown",
   "id": "2fe98d18",
   "metadata": {},
   "source": [
    "**Code**"
   ]
  },
  {
   "cell_type": "code",
   "execution_count": 200,
   "id": "a2b996e6",
   "metadata": {},
   "outputs": [],
   "source": [
    "# Renaming missing values in name column from None to NaN \n",
    "Final_Master_clean['name'] = Final_Master_clean['name'].replace('None', np.NaN)"
   ]
  },
  {
   "cell_type": "code",
   "execution_count": 201,
   "id": "55bcea22",
   "metadata": {},
   "outputs": [],
   "source": [
    "# Dropping all the rows with any na values \n",
    "Final_Master_clean=Final_Master_clean.dropna(axis=0, how='any')"
   ]
  },
  {
   "cell_type": "markdown",
   "id": "0398bad1",
   "metadata": {},
   "source": [
    "**Test**"
   ]
  },
  {
   "cell_type": "code",
   "execution_count": 202,
   "id": "a85f8697",
   "metadata": {},
   "outputs": [
    {
     "data": {
      "text/html": [
       "<div>\n",
       "<style scoped>\n",
       "    .dataframe tbody tr th:only-of-type {\n",
       "        vertical-align: middle;\n",
       "    }\n",
       "\n",
       "    .dataframe tbody tr th {\n",
       "        vertical-align: top;\n",
       "    }\n",
       "\n",
       "    .dataframe thead th {\n",
       "        text-align: right;\n",
       "    }\n",
       "</style>\n",
       "<table border=\"1\" class=\"dataframe\">\n",
       "  <thead>\n",
       "    <tr style=\"text-align: right;\">\n",
       "      <th></th>\n",
       "      <th>tweet_id</th>\n",
       "      <th>date_x</th>\n",
       "      <th>text</th>\n",
       "      <th>source_x</th>\n",
       "      <th>rating_numerator</th>\n",
       "      <th>rating_denominator</th>\n",
       "      <th>name</th>\n",
       "      <th>doggo</th>\n",
       "      <th>floofer</th>\n",
       "      <th>pupper</th>\n",
       "      <th>...</th>\n",
       "      <th>img_num</th>\n",
       "      <th>prediction_image</th>\n",
       "      <th>prediction1_confidence</th>\n",
       "      <th>prediction1_dog</th>\n",
       "      <th>prediction2_image</th>\n",
       "      <th>prediction2_confidence</th>\n",
       "      <th>prediction2_dog</th>\n",
       "      <th>Prediction3_image</th>\n",
       "      <th>prediction3_confidence</th>\n",
       "      <th>prediction3_dog</th>\n",
       "    </tr>\n",
       "  </thead>\n",
       "  <tbody>\n",
       "    <tr>\n",
       "      <th>10</th>\n",
       "      <td>666063827256086533</td>\n",
       "      <td>2015-11-16</td>\n",
       "      <td>This is the happiest dog you will ever see. Ve...</td>\n",
       "      <td>\"http://twitter.com/download/iphone\" rel=\"nofo...</td>\n",
       "      <td>10.0</td>\n",
       "      <td>10.0</td>\n",
       "      <td>the</td>\n",
       "      <td>None</td>\n",
       "      <td>None</td>\n",
       "      <td>None</td>\n",
       "      <td>...</td>\n",
       "      <td>1</td>\n",
       "      <td>golden_retriever</td>\n",
       "      <td>0.775930</td>\n",
       "      <td>True</td>\n",
       "      <td>Tibetan_mastiff</td>\n",
       "      <td>0.093718</td>\n",
       "      <td>True</td>\n",
       "      <td>Labrador_retriever</td>\n",
       "      <td>0.072427</td>\n",
       "      <td>True</td>\n",
       "    </tr>\n",
       "    <tr>\n",
       "      <th>30</th>\n",
       "      <td>666418789513326592</td>\n",
       "      <td>2015-11-17</td>\n",
       "      <td>This is Walter. He is an Alaskan Terrapin. Lov...</td>\n",
       "      <td>\"http://twitter.com/download/iphone\" rel=\"nofo...</td>\n",
       "      <td>10.0</td>\n",
       "      <td>10.0</td>\n",
       "      <td>Walter</td>\n",
       "      <td>None</td>\n",
       "      <td>None</td>\n",
       "      <td>None</td>\n",
       "      <td>...</td>\n",
       "      <td>1</td>\n",
       "      <td>toy_terrier</td>\n",
       "      <td>0.149680</td>\n",
       "      <td>True</td>\n",
       "      <td>papillon</td>\n",
       "      <td>0.148258</td>\n",
       "      <td>True</td>\n",
       "      <td>Chihuahua</td>\n",
       "      <td>0.142860</td>\n",
       "      <td>True</td>\n",
       "    </tr>\n",
       "    <tr>\n",
       "      <th>42</th>\n",
       "      <td>666739327293083650</td>\n",
       "      <td>2015-11-17</td>\n",
       "      <td>This is Lugan. He is a Bohemian Rhapsody. Very...</td>\n",
       "      <td>\"http://twitter.com/download/iphone\" rel=\"nofo...</td>\n",
       "      <td>10.0</td>\n",
       "      <td>10.0</td>\n",
       "      <td>Lugan</td>\n",
       "      <td>None</td>\n",
       "      <td>None</td>\n",
       "      <td>None</td>\n",
       "      <td>...</td>\n",
       "      <td>1</td>\n",
       "      <td>miniature_poodle</td>\n",
       "      <td>0.546933</td>\n",
       "      <td>True</td>\n",
       "      <td>cocker_spaniel</td>\n",
       "      <td>0.165255</td>\n",
       "      <td>True</td>\n",
       "      <td>toy_poodle</td>\n",
       "      <td>0.095959</td>\n",
       "      <td>True</td>\n",
       "    </tr>\n",
       "    <tr>\n",
       "      <th>44</th>\n",
       "      <td>666781792255496192</td>\n",
       "      <td>2015-11-18</td>\n",
       "      <td>This is a purebred Bacardi named Octaviath. Ca...</td>\n",
       "      <td>\"http://twitter.com/download/iphone\" rel=\"nofo...</td>\n",
       "      <td>10.0</td>\n",
       "      <td>10.0</td>\n",
       "      <td>a</td>\n",
       "      <td>None</td>\n",
       "      <td>None</td>\n",
       "      <td>None</td>\n",
       "      <td>...</td>\n",
       "      <td>1</td>\n",
       "      <td>Italian_greyhound</td>\n",
       "      <td>0.618316</td>\n",
       "      <td>True</td>\n",
       "      <td>Weimaraner</td>\n",
       "      <td>0.151363</td>\n",
       "      <td>True</td>\n",
       "      <td>vizsla</td>\n",
       "      <td>0.085989</td>\n",
       "      <td>True</td>\n",
       "    </tr>\n",
       "    <tr>\n",
       "      <th>52</th>\n",
       "      <td>666996132027977728</td>\n",
       "      <td>2015-11-18</td>\n",
       "      <td>This is Carll. He wants to be a donkey. But al...</td>\n",
       "      <td>\"http://twitter.com/download/iphone\" rel=\"nofo...</td>\n",
       "      <td>10.0</td>\n",
       "      <td>10.0</td>\n",
       "      <td>Carll</td>\n",
       "      <td>None</td>\n",
       "      <td>None</td>\n",
       "      <td>None</td>\n",
       "      <td>...</td>\n",
       "      <td>1</td>\n",
       "      <td>hay</td>\n",
       "      <td>0.507637</td>\n",
       "      <td>False</td>\n",
       "      <td>Rottweiler</td>\n",
       "      <td>0.062490</td>\n",
       "      <td>True</td>\n",
       "      <td>water_buffalo</td>\n",
       "      <td>0.048425</td>\n",
       "      <td>False</td>\n",
       "    </tr>\n",
       "    <tr>\n",
       "      <th>...</th>\n",
       "      <td>...</td>\n",
       "      <td>...</td>\n",
       "      <td>...</td>\n",
       "      <td>...</td>\n",
       "      <td>...</td>\n",
       "      <td>...</td>\n",
       "      <td>...</td>\n",
       "      <td>...</td>\n",
       "      <td>...</td>\n",
       "      <td>...</td>\n",
       "      <td>...</td>\n",
       "      <td>...</td>\n",
       "      <td>...</td>\n",
       "      <td>...</td>\n",
       "      <td>...</td>\n",
       "      <td>...</td>\n",
       "      <td>...</td>\n",
       "      <td>...</td>\n",
       "      <td>...</td>\n",
       "      <td>...</td>\n",
       "      <td>...</td>\n",
       "    </tr>\n",
       "    <tr>\n",
       "      <th>2019</th>\n",
       "      <td>880465832366813184</td>\n",
       "      <td>2017-06-29</td>\n",
       "      <td>This is Bella. She had her first beach experie...</td>\n",
       "      <td>\"http://twitter.com/download/iphone\" rel=\"nofo...</td>\n",
       "      <td>12.0</td>\n",
       "      <td>10.0</td>\n",
       "      <td>Bella</td>\n",
       "      <td>None</td>\n",
       "      <td>None</td>\n",
       "      <td>None</td>\n",
       "      <td>...</td>\n",
       "      <td>1</td>\n",
       "      <td>golden_retriever</td>\n",
       "      <td>0.913255</td>\n",
       "      <td>True</td>\n",
       "      <td>Labrador_retriever</td>\n",
       "      <td>0.026329</td>\n",
       "      <td>True</td>\n",
       "      <td>cocker_spaniel</td>\n",
       "      <td>0.009371</td>\n",
       "      <td>True</td>\n",
       "    </tr>\n",
       "    <tr>\n",
       "      <th>2034</th>\n",
       "      <td>883838122936631299</td>\n",
       "      <td>2017-07-09</td>\n",
       "      <td>This is Noah. He can't believe someone made th...</td>\n",
       "      <td>\"http://twitter.com/download/iphone\" rel=\"nofo...</td>\n",
       "      <td>12.0</td>\n",
       "      <td>10.0</td>\n",
       "      <td>Noah</td>\n",
       "      <td>None</td>\n",
       "      <td>None</td>\n",
       "      <td>None</td>\n",
       "      <td>...</td>\n",
       "      <td>1</td>\n",
       "      <td>Doberman</td>\n",
       "      <td>0.610946</td>\n",
       "      <td>True</td>\n",
       "      <td>miniature_pinscher</td>\n",
       "      <td>0.299603</td>\n",
       "      <td>True</td>\n",
       "      <td>kelpie</td>\n",
       "      <td>0.063020</td>\n",
       "      <td>True</td>\n",
       "    </tr>\n",
       "    <tr>\n",
       "      <th>2039</th>\n",
       "      <td>884925521741709313</td>\n",
       "      <td>2017-07-12</td>\n",
       "      <td>This is Earl. He found a hat. Nervous about wh...</td>\n",
       "      <td>\"http://twitter.com/download/iphone\" rel=\"nofo...</td>\n",
       "      <td>12.0</td>\n",
       "      <td>10.0</td>\n",
       "      <td>Earl</td>\n",
       "      <td>None</td>\n",
       "      <td>None</td>\n",
       "      <td>None</td>\n",
       "      <td>...</td>\n",
       "      <td>1</td>\n",
       "      <td>Italian_greyhound</td>\n",
       "      <td>0.259916</td>\n",
       "      <td>True</td>\n",
       "      <td>American_Staffordshire_terrier</td>\n",
       "      <td>0.198451</td>\n",
       "      <td>True</td>\n",
       "      <td>Staffordshire_bullterrier</td>\n",
       "      <td>0.127725</td>\n",
       "      <td>True</td>\n",
       "    </tr>\n",
       "    <tr>\n",
       "      <th>2054</th>\n",
       "      <td>888078434458587136</td>\n",
       "      <td>2017-07-20</td>\n",
       "      <td>This is Gerald. He was just told he didn't get...</td>\n",
       "      <td>\"http://twitter.com/download/iphone\" rel=\"nofo...</td>\n",
       "      <td>12.0</td>\n",
       "      <td>10.0</td>\n",
       "      <td>Gerald</td>\n",
       "      <td>None</td>\n",
       "      <td>None</td>\n",
       "      <td>None</td>\n",
       "      <td>...</td>\n",
       "      <td>1</td>\n",
       "      <td>French_bulldog</td>\n",
       "      <td>0.995026</td>\n",
       "      <td>True</td>\n",
       "      <td>pug</td>\n",
       "      <td>0.000932</td>\n",
       "      <td>True</td>\n",
       "      <td>bull_mastiff</td>\n",
       "      <td>0.000903</td>\n",
       "      <td>True</td>\n",
       "    </tr>\n",
       "    <tr>\n",
       "      <th>2061</th>\n",
       "      <td>889638837579907072</td>\n",
       "      <td>2017-07-25</td>\n",
       "      <td>This is Ted. He does his best. Sometimes that'...</td>\n",
       "      <td>\"http://twitter.com/download/iphone\" rel=\"nofo...</td>\n",
       "      <td>12.0</td>\n",
       "      <td>10.0</td>\n",
       "      <td>Ted</td>\n",
       "      <td>None</td>\n",
       "      <td>None</td>\n",
       "      <td>None</td>\n",
       "      <td>...</td>\n",
       "      <td>1</td>\n",
       "      <td>French_bulldog</td>\n",
       "      <td>0.991650</td>\n",
       "      <td>True</td>\n",
       "      <td>boxer</td>\n",
       "      <td>0.002129</td>\n",
       "      <td>True</td>\n",
       "      <td>Staffordshire_bullterrier</td>\n",
       "      <td>0.001498</td>\n",
       "      <td>True</td>\n",
       "    </tr>\n",
       "  </tbody>\n",
       "</table>\n",
       "<p>491 rows × 29 columns</p>\n",
       "</div>"
      ],
      "text/plain": [
       "                tweet_id      date_x  \\\n",
       "10    666063827256086533  2015-11-16   \n",
       "30    666418789513326592  2015-11-17   \n",
       "42    666739327293083650  2015-11-17   \n",
       "44    666781792255496192  2015-11-18   \n",
       "52    666996132027977728  2015-11-18   \n",
       "...                  ...         ...   \n",
       "2019  880465832366813184  2017-06-29   \n",
       "2034  883838122936631299  2017-07-09   \n",
       "2039  884925521741709313  2017-07-12   \n",
       "2054  888078434458587136  2017-07-20   \n",
       "2061  889638837579907072  2017-07-25   \n",
       "\n",
       "                                                   text  \\\n",
       "10    This is the happiest dog you will ever see. Ve...   \n",
       "30    This is Walter. He is an Alaskan Terrapin. Lov...   \n",
       "42    This is Lugan. He is a Bohemian Rhapsody. Very...   \n",
       "44    This is a purebred Bacardi named Octaviath. Ca...   \n",
       "52    This is Carll. He wants to be a donkey. But al...   \n",
       "...                                                 ...   \n",
       "2019  This is Bella. She had her first beach experie...   \n",
       "2034  This is Noah. He can't believe someone made th...   \n",
       "2039  This is Earl. He found a hat. Nervous about wh...   \n",
       "2054  This is Gerald. He was just told he didn't get...   \n",
       "2061  This is Ted. He does his best. Sometimes that'...   \n",
       "\n",
       "                                               source_x  rating_numerator  \\\n",
       "10    \"http://twitter.com/download/iphone\" rel=\"nofo...              10.0   \n",
       "30    \"http://twitter.com/download/iphone\" rel=\"nofo...              10.0   \n",
       "42    \"http://twitter.com/download/iphone\" rel=\"nofo...              10.0   \n",
       "44    \"http://twitter.com/download/iphone\" rel=\"nofo...              10.0   \n",
       "52    \"http://twitter.com/download/iphone\" rel=\"nofo...              10.0   \n",
       "...                                                 ...               ...   \n",
       "2019  \"http://twitter.com/download/iphone\" rel=\"nofo...              12.0   \n",
       "2034  \"http://twitter.com/download/iphone\" rel=\"nofo...              12.0   \n",
       "2039  \"http://twitter.com/download/iphone\" rel=\"nofo...              12.0   \n",
       "2054  \"http://twitter.com/download/iphone\" rel=\"nofo...              12.0   \n",
       "2061  \"http://twitter.com/download/iphone\" rel=\"nofo...              12.0   \n",
       "\n",
       "      rating_denominator    name doggo floofer pupper  ... img_num  \\\n",
       "10                  10.0     the  None    None   None  ...       1   \n",
       "30                  10.0  Walter  None    None   None  ...       1   \n",
       "42                  10.0   Lugan  None    None   None  ...       1   \n",
       "44                  10.0       a  None    None   None  ...       1   \n",
       "52                  10.0   Carll  None    None   None  ...       1   \n",
       "...                  ...     ...   ...     ...    ...  ...     ...   \n",
       "2019                10.0   Bella  None    None   None  ...       1   \n",
       "2034                10.0    Noah  None    None   None  ...       1   \n",
       "2039                10.0    Earl  None    None   None  ...       1   \n",
       "2054                10.0  Gerald  None    None   None  ...       1   \n",
       "2061                10.0     Ted  None    None   None  ...       1   \n",
       "\n",
       "       prediction_image prediction1_confidence prediction1_dog  \\\n",
       "10     golden_retriever               0.775930            True   \n",
       "30          toy_terrier               0.149680            True   \n",
       "42     miniature_poodle               0.546933            True   \n",
       "44    Italian_greyhound               0.618316            True   \n",
       "52                  hay               0.507637           False   \n",
       "...                 ...                    ...             ...   \n",
       "2019   golden_retriever               0.913255            True   \n",
       "2034           Doberman               0.610946            True   \n",
       "2039  Italian_greyhound               0.259916            True   \n",
       "2054     French_bulldog               0.995026            True   \n",
       "2061     French_bulldog               0.991650            True   \n",
       "\n",
       "                   prediction2_image  prediction2_confidence prediction2_dog  \\\n",
       "10                   Tibetan_mastiff                0.093718            True   \n",
       "30                          papillon                0.148258            True   \n",
       "42                    cocker_spaniel                0.165255            True   \n",
       "44                        Weimaraner                0.151363            True   \n",
       "52                        Rottweiler                0.062490            True   \n",
       "...                              ...                     ...             ...   \n",
       "2019              Labrador_retriever                0.026329            True   \n",
       "2034              miniature_pinscher                0.299603            True   \n",
       "2039  American_Staffordshire_terrier                0.198451            True   \n",
       "2054                             pug                0.000932            True   \n",
       "2061                           boxer                0.002129            True   \n",
       "\n",
       "              Prediction3_image prediction3_confidence  prediction3_dog  \n",
       "10           Labrador_retriever               0.072427             True  \n",
       "30                    Chihuahua               0.142860             True  \n",
       "42                   toy_poodle               0.095959             True  \n",
       "44                       vizsla               0.085989             True  \n",
       "52                water_buffalo               0.048425            False  \n",
       "...                         ...                    ...              ...  \n",
       "2019             cocker_spaniel               0.009371             True  \n",
       "2034                     kelpie               0.063020             True  \n",
       "2039  Staffordshire_bullterrier               0.127725             True  \n",
       "2054               bull_mastiff               0.000903             True  \n",
       "2061  Staffordshire_bullterrier               0.001498             True  \n",
       "\n",
       "[491 rows x 29 columns]"
      ]
     },
     "execution_count": 202,
     "metadata": {},
     "output_type": "execute_result"
    }
   ],
   "source": [
    "Final_Master_clean"
   ]
  },
  {
   "cell_type": "markdown",
   "id": "183a5eaa",
   "metadata": {},
   "source": [
    "**Table 39.0 above show the print out of renaming made as well as missing Values removed from the whole dataset**"
   ]
  },
  {
   "cell_type": "markdown",
   "id": "91dfb465",
   "metadata": {},
   "source": [
    "**Define**\n",
    "- Merge each dog status column into a one column and named it Stage and remove the duplicated values"
   ]
  },
  {
   "cell_type": "markdown",
   "id": "a2938e9b",
   "metadata": {},
   "source": [
    "**Code**"
   ]
  },
  {
   "cell_type": "code",
   "execution_count": 203,
   "id": "a21b6d68",
   "metadata": {},
   "outputs": [],
   "source": [
    "# merge dog status columns into one column in the dataset\n",
    "columnsmelt = ['doggo', 'floofer', 'pupper', 'puppo']\n",
    "\n",
    "columns=[]\n",
    "for e in Final_Master_clean.columns.tolist():\n",
    "    if e not in columnsmelt:\n",
    "        columns.append(e)\n",
    "        \n",
    "# Melt the four columns into values in the dataset\n",
    "Final_Master_clean = pd.melt(Final_Master_clean, id_vars = columns, value_vars = columnsmelt, \n",
    "                         var_name = 'stages', value_name = 'dog_stage_values')"
   ]
  },
  {
   "cell_type": "markdown",
   "id": "d4677918",
   "metadata": {},
   "source": [
    "**Test**"
   ]
  },
  {
   "cell_type": "code",
   "execution_count": 204,
   "id": "b9f7ab1f",
   "metadata": {},
   "outputs": [
    {
     "data": {
      "text/html": [
       "<div>\n",
       "<style scoped>\n",
       "    .dataframe tbody tr th:only-of-type {\n",
       "        vertical-align: middle;\n",
       "    }\n",
       "\n",
       "    .dataframe tbody tr th {\n",
       "        vertical-align: top;\n",
       "    }\n",
       "\n",
       "    .dataframe thead th {\n",
       "        text-align: right;\n",
       "    }\n",
       "</style>\n",
       "<table border=\"1\" class=\"dataframe\">\n",
       "  <thead>\n",
       "    <tr style=\"text-align: right;\">\n",
       "      <th></th>\n",
       "      <th>tweet_id</th>\n",
       "      <th>date_x</th>\n",
       "      <th>text</th>\n",
       "      <th>source_x</th>\n",
       "      <th>rating_numerator</th>\n",
       "      <th>rating_denominator</th>\n",
       "      <th>name</th>\n",
       "      <th>date_y</th>\n",
       "      <th>full_text</th>\n",
       "      <th>source_y</th>\n",
       "      <th>...</th>\n",
       "      <th>prediction1_confidence</th>\n",
       "      <th>prediction1_dog</th>\n",
       "      <th>prediction2_image</th>\n",
       "      <th>prediction2_confidence</th>\n",
       "      <th>prediction2_dog</th>\n",
       "      <th>Prediction3_image</th>\n",
       "      <th>prediction3_confidence</th>\n",
       "      <th>prediction3_dog</th>\n",
       "      <th>stages</th>\n",
       "      <th>dog_stage_values</th>\n",
       "    </tr>\n",
       "  </thead>\n",
       "  <tbody>\n",
       "    <tr>\n",
       "      <th>0</th>\n",
       "      <td>666063827256086533</td>\n",
       "      <td>2015-11-16</td>\n",
       "      <td>This is the happiest dog you will ever see. Ve...</td>\n",
       "      <td>\"http://twitter.com/download/iphone\" rel=\"nofo...</td>\n",
       "      <td>10.0</td>\n",
       "      <td>10.0</td>\n",
       "      <td>the</td>\n",
       "      <td>2015-11-16</td>\n",
       "      <td>This is the happiest dog you will ever see. Ve...</td>\n",
       "      <td>\"http://twitter.com/download/iphone\" rel=\"nofo...</td>\n",
       "      <td>...</td>\n",
       "      <td>0.775930</td>\n",
       "      <td>True</td>\n",
       "      <td>Tibetan_mastiff</td>\n",
       "      <td>0.093718</td>\n",
       "      <td>True</td>\n",
       "      <td>Labrador_retriever</td>\n",
       "      <td>0.072427</td>\n",
       "      <td>True</td>\n",
       "      <td>doggo</td>\n",
       "      <td>None</td>\n",
       "    </tr>\n",
       "    <tr>\n",
       "      <th>1</th>\n",
       "      <td>666418789513326592</td>\n",
       "      <td>2015-11-17</td>\n",
       "      <td>This is Walter. He is an Alaskan Terrapin. Lov...</td>\n",
       "      <td>\"http://twitter.com/download/iphone\" rel=\"nofo...</td>\n",
       "      <td>10.0</td>\n",
       "      <td>10.0</td>\n",
       "      <td>Walter</td>\n",
       "      <td>2015-11-17</td>\n",
       "      <td>This is Walter. He is an Alaskan Terrapin. Lov...</td>\n",
       "      <td>\"http://twitter.com/download/iphone\" rel=\"nofo...</td>\n",
       "      <td>...</td>\n",
       "      <td>0.149680</td>\n",
       "      <td>True</td>\n",
       "      <td>papillon</td>\n",
       "      <td>0.148258</td>\n",
       "      <td>True</td>\n",
       "      <td>Chihuahua</td>\n",
       "      <td>0.142860</td>\n",
       "      <td>True</td>\n",
       "      <td>doggo</td>\n",
       "      <td>None</td>\n",
       "    </tr>\n",
       "    <tr>\n",
       "      <th>2</th>\n",
       "      <td>666739327293083650</td>\n",
       "      <td>2015-11-17</td>\n",
       "      <td>This is Lugan. He is a Bohemian Rhapsody. Very...</td>\n",
       "      <td>\"http://twitter.com/download/iphone\" rel=\"nofo...</td>\n",
       "      <td>10.0</td>\n",
       "      <td>10.0</td>\n",
       "      <td>Lugan</td>\n",
       "      <td>2015-11-17</td>\n",
       "      <td>This is Lugan. He is a Bohemian Rhapsody. Very...</td>\n",
       "      <td>\"http://twitter.com/download/iphone\" rel=\"nofo...</td>\n",
       "      <td>...</td>\n",
       "      <td>0.546933</td>\n",
       "      <td>True</td>\n",
       "      <td>cocker_spaniel</td>\n",
       "      <td>0.165255</td>\n",
       "      <td>True</td>\n",
       "      <td>toy_poodle</td>\n",
       "      <td>0.095959</td>\n",
       "      <td>True</td>\n",
       "      <td>doggo</td>\n",
       "      <td>None</td>\n",
       "    </tr>\n",
       "    <tr>\n",
       "      <th>3</th>\n",
       "      <td>666781792255496192</td>\n",
       "      <td>2015-11-18</td>\n",
       "      <td>This is a purebred Bacardi named Octaviath. Ca...</td>\n",
       "      <td>\"http://twitter.com/download/iphone\" rel=\"nofo...</td>\n",
       "      <td>10.0</td>\n",
       "      <td>10.0</td>\n",
       "      <td>a</td>\n",
       "      <td>2015-11-18</td>\n",
       "      <td>This is a purebred Bacardi named Octaviath. Ca...</td>\n",
       "      <td>\"http://twitter.com/download/iphone\" rel=\"nofo...</td>\n",
       "      <td>...</td>\n",
       "      <td>0.618316</td>\n",
       "      <td>True</td>\n",
       "      <td>Weimaraner</td>\n",
       "      <td>0.151363</td>\n",
       "      <td>True</td>\n",
       "      <td>vizsla</td>\n",
       "      <td>0.085989</td>\n",
       "      <td>True</td>\n",
       "      <td>doggo</td>\n",
       "      <td>None</td>\n",
       "    </tr>\n",
       "    <tr>\n",
       "      <th>4</th>\n",
       "      <td>666996132027977728</td>\n",
       "      <td>2015-11-18</td>\n",
       "      <td>This is Carll. He wants to be a donkey. But al...</td>\n",
       "      <td>\"http://twitter.com/download/iphone\" rel=\"nofo...</td>\n",
       "      <td>10.0</td>\n",
       "      <td>10.0</td>\n",
       "      <td>Carll</td>\n",
       "      <td>2015-11-18</td>\n",
       "      <td>This is Carll. He wants to be a donkey. But al...</td>\n",
       "      <td>\"http://twitter.com/download/iphone\" rel=\"nofo...</td>\n",
       "      <td>...</td>\n",
       "      <td>0.507637</td>\n",
       "      <td>False</td>\n",
       "      <td>Rottweiler</td>\n",
       "      <td>0.062490</td>\n",
       "      <td>True</td>\n",
       "      <td>water_buffalo</td>\n",
       "      <td>0.048425</td>\n",
       "      <td>False</td>\n",
       "      <td>doggo</td>\n",
       "      <td>None</td>\n",
       "    </tr>\n",
       "    <tr>\n",
       "      <th>5</th>\n",
       "      <td>667073648344346624</td>\n",
       "      <td>2015-11-18</td>\n",
       "      <td>Here is Dave. He is actually just a skinny leg...</td>\n",
       "      <td>\"http://twitter.com/download/iphone\" rel=\"nofo...</td>\n",
       "      <td>10.0</td>\n",
       "      <td>10.0</td>\n",
       "      <td>Dave</td>\n",
       "      <td>2015-11-18</td>\n",
       "      <td>Here is Dave. He is actually just a skinny leg...</td>\n",
       "      <td>\"http://twitter.com/download/iphone\" rel=\"nofo...</td>\n",
       "      <td>...</td>\n",
       "      <td>0.483682</td>\n",
       "      <td>True</td>\n",
       "      <td>pug</td>\n",
       "      <td>0.092494</td>\n",
       "      <td>True</td>\n",
       "      <td>Brabancon_griffon</td>\n",
       "      <td>0.057495</td>\n",
       "      <td>True</td>\n",
       "      <td>doggo</td>\n",
       "      <td>None</td>\n",
       "    </tr>\n",
       "    <tr>\n",
       "      <th>6</th>\n",
       "      <td>667119796878725120</td>\n",
       "      <td>2015-11-18</td>\n",
       "      <td>This is Gabe. He is a southern Baklava. Gabe h...</td>\n",
       "      <td>\"http://twitter.com/download/iphone\" rel=\"nofo...</td>\n",
       "      <td>10.0</td>\n",
       "      <td>10.0</td>\n",
       "      <td>Gabe</td>\n",
       "      <td>2015-11-18</td>\n",
       "      <td>This is Gabe. He is a southern Baklava. Gabe h...</td>\n",
       "      <td>\"http://twitter.com/download/iphone\" rel=\"nofo...</td>\n",
       "      <td>...</td>\n",
       "      <td>0.741563</td>\n",
       "      <td>True</td>\n",
       "      <td>Chihuahua</td>\n",
       "      <td>0.057866</td>\n",
       "      <td>True</td>\n",
       "      <td>toy_poodle</td>\n",
       "      <td>0.039125</td>\n",
       "      <td>True</td>\n",
       "      <td>doggo</td>\n",
       "      <td>None</td>\n",
       "    </tr>\n",
       "    <tr>\n",
       "      <th>7</th>\n",
       "      <td>667152164079423490</td>\n",
       "      <td>2015-11-19</td>\n",
       "      <td>This is Pipsy. He is a fluffball. Enjoys trave...</td>\n",
       "      <td>\"http://twitter.com/download/iphone\" rel=\"nofo...</td>\n",
       "      <td>12.0</td>\n",
       "      <td>10.0</td>\n",
       "      <td>Pipsy</td>\n",
       "      <td>2015-11-19</td>\n",
       "      <td>This is Pipsy. He is a fluffball. Enjoys trave...</td>\n",
       "      <td>\"http://twitter.com/download/iphone\" rel=\"nofo...</td>\n",
       "      <td>...</td>\n",
       "      <td>0.535411</td>\n",
       "      <td>True</td>\n",
       "      <td>Pomeranian</td>\n",
       "      <td>0.087544</td>\n",
       "      <td>True</td>\n",
       "      <td>miniature_poodle</td>\n",
       "      <td>0.062050</td>\n",
       "      <td>True</td>\n",
       "      <td>doggo</td>\n",
       "      <td>None</td>\n",
       "    </tr>\n",
       "    <tr>\n",
       "      <th>8</th>\n",
       "      <td>667165590075940865</td>\n",
       "      <td>2015-11-19</td>\n",
       "      <td>This is Churlie. AKA Fetty Woof. Lost eye savi...</td>\n",
       "      <td>\"http://twitter.com/download/iphone\" rel=\"nofo...</td>\n",
       "      <td>10.0</td>\n",
       "      <td>10.0</td>\n",
       "      <td>Churlie</td>\n",
       "      <td>2015-11-19</td>\n",
       "      <td>This is Churlie. AKA Fetty Woof. Lost eye savi...</td>\n",
       "      <td>\"http://twitter.com/download/iphone\" rel=\"nofo...</td>\n",
       "      <td>...</td>\n",
       "      <td>0.140173</td>\n",
       "      <td>True</td>\n",
       "      <td>Rottweiler</td>\n",
       "      <td>0.134094</td>\n",
       "      <td>True</td>\n",
       "      <td>beagle</td>\n",
       "      <td>0.081900</td>\n",
       "      <td>True</td>\n",
       "      <td>doggo</td>\n",
       "      <td>None</td>\n",
       "    </tr>\n",
       "    <tr>\n",
       "      <th>9</th>\n",
       "      <td>667200525029539841</td>\n",
       "      <td>2015-11-19</td>\n",
       "      <td>This is Joshwa. He is a fuckboy supreme. He cl...</td>\n",
       "      <td>\"http://twitter.com/download/iphone\" rel=\"nofo...</td>\n",
       "      <td>11.0</td>\n",
       "      <td>10.0</td>\n",
       "      <td>Joshwa</td>\n",
       "      <td>2015-11-19</td>\n",
       "      <td>This is Joshwa. He is a fuckboy supreme. He cl...</td>\n",
       "      <td>\"http://twitter.com/download/iphone\" rel=\"nofo...</td>\n",
       "      <td>...</td>\n",
       "      <td>0.694904</td>\n",
       "      <td>True</td>\n",
       "      <td>malamute</td>\n",
       "      <td>0.232006</td>\n",
       "      <td>True</td>\n",
       "      <td>Eskimo_dog</td>\n",
       "      <td>0.050635</td>\n",
       "      <td>True</td>\n",
       "      <td>doggo</td>\n",
       "      <td>None</td>\n",
       "    </tr>\n",
       "  </tbody>\n",
       "</table>\n",
       "<p>10 rows × 27 columns</p>\n",
       "</div>"
      ],
      "text/plain": [
       "             tweet_id      date_x  \\\n",
       "0  666063827256086533  2015-11-16   \n",
       "1  666418789513326592  2015-11-17   \n",
       "2  666739327293083650  2015-11-17   \n",
       "3  666781792255496192  2015-11-18   \n",
       "4  666996132027977728  2015-11-18   \n",
       "5  667073648344346624  2015-11-18   \n",
       "6  667119796878725120  2015-11-18   \n",
       "7  667152164079423490  2015-11-19   \n",
       "8  667165590075940865  2015-11-19   \n",
       "9  667200525029539841  2015-11-19   \n",
       "\n",
       "                                                text  \\\n",
       "0  This is the happiest dog you will ever see. Ve...   \n",
       "1  This is Walter. He is an Alaskan Terrapin. Lov...   \n",
       "2  This is Lugan. He is a Bohemian Rhapsody. Very...   \n",
       "3  This is a purebred Bacardi named Octaviath. Ca...   \n",
       "4  This is Carll. He wants to be a donkey. But al...   \n",
       "5  Here is Dave. He is actually just a skinny leg...   \n",
       "6  This is Gabe. He is a southern Baklava. Gabe h...   \n",
       "7  This is Pipsy. He is a fluffball. Enjoys trave...   \n",
       "8  This is Churlie. AKA Fetty Woof. Lost eye savi...   \n",
       "9  This is Joshwa. He is a fuckboy supreme. He cl...   \n",
       "\n",
       "                                            source_x  rating_numerator  \\\n",
       "0  \"http://twitter.com/download/iphone\" rel=\"nofo...              10.0   \n",
       "1  \"http://twitter.com/download/iphone\" rel=\"nofo...              10.0   \n",
       "2  \"http://twitter.com/download/iphone\" rel=\"nofo...              10.0   \n",
       "3  \"http://twitter.com/download/iphone\" rel=\"nofo...              10.0   \n",
       "4  \"http://twitter.com/download/iphone\" rel=\"nofo...              10.0   \n",
       "5  \"http://twitter.com/download/iphone\" rel=\"nofo...              10.0   \n",
       "6  \"http://twitter.com/download/iphone\" rel=\"nofo...              10.0   \n",
       "7  \"http://twitter.com/download/iphone\" rel=\"nofo...              12.0   \n",
       "8  \"http://twitter.com/download/iphone\" rel=\"nofo...              10.0   \n",
       "9  \"http://twitter.com/download/iphone\" rel=\"nofo...              11.0   \n",
       "\n",
       "   rating_denominator     name      date_y  \\\n",
       "0                10.0      the  2015-11-16   \n",
       "1                10.0   Walter  2015-11-17   \n",
       "2                10.0    Lugan  2015-11-17   \n",
       "3                10.0        a  2015-11-18   \n",
       "4                10.0    Carll  2015-11-18   \n",
       "5                10.0     Dave  2015-11-18   \n",
       "6                10.0     Gabe  2015-11-18   \n",
       "7                10.0    Pipsy  2015-11-19   \n",
       "8                10.0  Churlie  2015-11-19   \n",
       "9                10.0   Joshwa  2015-11-19   \n",
       "\n",
       "                                           full_text  \\\n",
       "0  This is the happiest dog you will ever see. Ve...   \n",
       "1  This is Walter. He is an Alaskan Terrapin. Lov...   \n",
       "2  This is Lugan. He is a Bohemian Rhapsody. Very...   \n",
       "3  This is a purebred Bacardi named Octaviath. Ca...   \n",
       "4  This is Carll. He wants to be a donkey. But al...   \n",
       "5  Here is Dave. He is actually just a skinny leg...   \n",
       "6  This is Gabe. He is a southern Baklava. Gabe h...   \n",
       "7  This is Pipsy. He is a fluffball. Enjoys trave...   \n",
       "8  This is Churlie. AKA Fetty Woof. Lost eye savi...   \n",
       "9  This is Joshwa. He is a fuckboy supreme. He cl...   \n",
       "\n",
       "                                            source_y  ...  \\\n",
       "0  \"http://twitter.com/download/iphone\" rel=\"nofo...  ...   \n",
       "1  \"http://twitter.com/download/iphone\" rel=\"nofo...  ...   \n",
       "2  \"http://twitter.com/download/iphone\" rel=\"nofo...  ...   \n",
       "3  \"http://twitter.com/download/iphone\" rel=\"nofo...  ...   \n",
       "4  \"http://twitter.com/download/iphone\" rel=\"nofo...  ...   \n",
       "5  \"http://twitter.com/download/iphone\" rel=\"nofo...  ...   \n",
       "6  \"http://twitter.com/download/iphone\" rel=\"nofo...  ...   \n",
       "7  \"http://twitter.com/download/iphone\" rel=\"nofo...  ...   \n",
       "8  \"http://twitter.com/download/iphone\" rel=\"nofo...  ...   \n",
       "9  \"http://twitter.com/download/iphone\" rel=\"nofo...  ...   \n",
       "\n",
       "   prediction1_confidence  prediction1_dog prediction2_image  \\\n",
       "0                0.775930             True   Tibetan_mastiff   \n",
       "1                0.149680             True          papillon   \n",
       "2                0.546933             True    cocker_spaniel   \n",
       "3                0.618316             True        Weimaraner   \n",
       "4                0.507637            False        Rottweiler   \n",
       "5                0.483682             True               pug   \n",
       "6                0.741563             True         Chihuahua   \n",
       "7                0.535411             True        Pomeranian   \n",
       "8                0.140173             True        Rottweiler   \n",
       "9                0.694904             True          malamute   \n",
       "\n",
       "  prediction2_confidence prediction2_dog   Prediction3_image  \\\n",
       "0               0.093718            True  Labrador_retriever   \n",
       "1               0.148258            True           Chihuahua   \n",
       "2               0.165255            True          toy_poodle   \n",
       "3               0.151363            True              vizsla   \n",
       "4               0.062490            True       water_buffalo   \n",
       "5               0.092494            True   Brabancon_griffon   \n",
       "6               0.057866            True          toy_poodle   \n",
       "7               0.087544            True    miniature_poodle   \n",
       "8               0.134094            True              beagle   \n",
       "9               0.232006            True          Eskimo_dog   \n",
       "\n",
       "  prediction3_confidence  prediction3_dog  stages dog_stage_values  \n",
       "0               0.072427             True   doggo             None  \n",
       "1               0.142860             True   doggo             None  \n",
       "2               0.095959             True   doggo             None  \n",
       "3               0.085989             True   doggo             None  \n",
       "4               0.048425            False   doggo             None  \n",
       "5               0.057495             True   doggo             None  \n",
       "6               0.039125             True   doggo             None  \n",
       "7               0.062050             True   doggo             None  \n",
       "8               0.081900             True   doggo             None  \n",
       "9               0.050635             True   doggo             None  \n",
       "\n",
       "[10 rows x 27 columns]"
      ]
     },
     "execution_count": 204,
     "metadata": {},
     "output_type": "execute_result"
    }
   ],
   "source": [
    "Final_Master_clean.head(10)"
   ]
  },
  {
   "cell_type": "markdown",
   "id": "a0165326",
   "metadata": {},
   "source": [
    "**Table 40.0 show the print out of the dog stage column merged**"
   ]
  },
  {
   "cell_type": "code",
   "execution_count": 205,
   "id": "8d9d8e3a",
   "metadata": {},
   "outputs": [
    {
     "data": {
      "text/plain": [
       "None       1892\n",
       "pupper       55\n",
       "doggo        12\n",
       "puppo         4\n",
       "floofer       1\n",
       "Name: dog_stage_values, dtype: int64"
      ]
     },
     "execution_count": 205,
     "metadata": {},
     "output_type": "execute_result"
    }
   ],
   "source": [
    "# To check for the duplicates values in each dog_stage_values column of the dataset\n",
    "Final_Master_clean.dog_stage_values.value_counts()"
   ]
  },
  {
   "cell_type": "code",
   "execution_count": 206,
   "id": "ef257fe6",
   "metadata": {},
   "outputs": [],
   "source": [
    "# To arrange the dog_stage_values column of the dataset according to there values and drop the duplicates\n",
    "Final_Master_clean =Final_Master_clean .sort_values('dog_stage_values').drop_duplicates('tweet_id', keep = 'last')"
   ]
  },
  {
   "cell_type": "code",
   "execution_count": 207,
   "id": "c06a7ad4",
   "metadata": {},
   "outputs": [
    {
     "data": {
      "text/plain": [
       "None       421\n",
       "pupper      55\n",
       "doggo       10\n",
       "puppo        4\n",
       "floofer      1\n",
       "Name: dog_stage_values, dtype: int64"
      ]
     },
     "execution_count": 207,
     "metadata": {},
     "output_type": "execute_result"
    }
   ],
   "source": [
    "# To re-check the result of duplicates values removed in each dog_stage_values column of the dataset\n",
    "Final_Master_clean.dog_stage_values.value_counts()"
   ]
  },
  {
   "cell_type": "code",
   "execution_count": 208,
   "id": "f9b33e9f",
   "metadata": {},
   "outputs": [
    {
     "data": {
      "text/html": [
       "<div>\n",
       "<style scoped>\n",
       "    .dataframe tbody tr th:only-of-type {\n",
       "        vertical-align: middle;\n",
       "    }\n",
       "\n",
       "    .dataframe tbody tr th {\n",
       "        vertical-align: top;\n",
       "    }\n",
       "\n",
       "    .dataframe thead th {\n",
       "        text-align: right;\n",
       "    }\n",
       "</style>\n",
       "<table border=\"1\" class=\"dataframe\">\n",
       "  <thead>\n",
       "    <tr style=\"text-align: right;\">\n",
       "      <th></th>\n",
       "      <th>tweet_id</th>\n",
       "      <th>date_x</th>\n",
       "      <th>text</th>\n",
       "      <th>source_x</th>\n",
       "      <th>rating_numerator</th>\n",
       "      <th>rating_denominator</th>\n",
       "      <th>name</th>\n",
       "      <th>date_y</th>\n",
       "      <th>full_text</th>\n",
       "      <th>source_y</th>\n",
       "      <th>...</th>\n",
       "      <th>prediction1_confidence</th>\n",
       "      <th>prediction1_dog</th>\n",
       "      <th>prediction2_image</th>\n",
       "      <th>prediction2_confidence</th>\n",
       "      <th>prediction2_dog</th>\n",
       "      <th>Prediction3_image</th>\n",
       "      <th>prediction3_confidence</th>\n",
       "      <th>prediction3_dog</th>\n",
       "      <th>stages</th>\n",
       "      <th>dog_stage_values</th>\n",
       "    </tr>\n",
       "  </thead>\n",
       "  <tbody>\n",
       "    <tr>\n",
       "      <th>472</th>\n",
       "      <td>852672615818899456</td>\n",
       "      <td>2017-04-13</td>\n",
       "      <td>This is Aspen. She's never tasted a stick so s...</td>\n",
       "      <td>\"http://twitter.com/download/iphone\" rel=\"nofo...</td>\n",
       "      <td>12.0</td>\n",
       "      <td>10.0</td>\n",
       "      <td>Aspen</td>\n",
       "      <td>2017-04-13</td>\n",
       "      <td>This is Aspen. She's never tasted a stick so s...</td>\n",
       "      <td>\"http://twitter.com/download/iphone\" rel=\"nofo...</td>\n",
       "      <td>...</td>\n",
       "      <td>0.711235</td>\n",
       "      <td>True</td>\n",
       "      <td>otterhound</td>\n",
       "      <td>0.068235</td>\n",
       "      <td>True</td>\n",
       "      <td>Sussex_spaniel</td>\n",
       "      <td>0.046562</td>\n",
       "      <td>True</td>\n",
       "      <td>doggo</td>\n",
       "      <td>None</td>\n",
       "    </tr>\n",
       "    <tr>\n",
       "      <th>471</th>\n",
       "      <td>852189679701164033</td>\n",
       "      <td>2017-04-12</td>\n",
       "      <td>This is Sailor. He has collected the best dirt...</td>\n",
       "      <td>\"http://twitter.com/download/iphone\" rel=\"nofo...</td>\n",
       "      <td>12.0</td>\n",
       "      <td>10.0</td>\n",
       "      <td>Sailor</td>\n",
       "      <td>2017-04-12</td>\n",
       "      <td>This is Sailor. He has collected the best dirt...</td>\n",
       "      <td>\"http://twitter.com/download/iphone\" rel=\"nofo...</td>\n",
       "      <td>...</td>\n",
       "      <td>0.423150</td>\n",
       "      <td>False</td>\n",
       "      <td>Bernese_mountain_dog</td>\n",
       "      <td>0.415374</td>\n",
       "      <td>True</td>\n",
       "      <td>EntleBucher</td>\n",
       "      <td>0.067345</td>\n",
       "      <td>True</td>\n",
       "      <td>doggo</td>\n",
       "      <td>None</td>\n",
       "    </tr>\n",
       "    <tr>\n",
       "      <th>470</th>\n",
       "      <td>850753642995093505</td>\n",
       "      <td>2017-04-08</td>\n",
       "      <td>This is Kyle. He made a joke about your shoes,...</td>\n",
       "      <td>\"http://twitter.com/download/iphone\" rel=\"nofo...</td>\n",
       "      <td>11.0</td>\n",
       "      <td>10.0</td>\n",
       "      <td>Kyle</td>\n",
       "      <td>2017-04-08</td>\n",
       "      <td>This is Kyle. He made a joke about your shoes,...</td>\n",
       "      <td>\"http://twitter.com/download/iphone\" rel=\"nofo...</td>\n",
       "      <td>...</td>\n",
       "      <td>0.996952</td>\n",
       "      <td>True</td>\n",
       "      <td>bull_mastiff</td>\n",
       "      <td>0.000996</td>\n",
       "      <td>True</td>\n",
       "      <td>French_bulldog</td>\n",
       "      <td>0.000883</td>\n",
       "      <td>True</td>\n",
       "      <td>doggo</td>\n",
       "      <td>None</td>\n",
       "    </tr>\n",
       "    <tr>\n",
       "      <th>468</th>\n",
       "      <td>847962785489326080</td>\n",
       "      <td>2017-04-01</td>\n",
       "      <td>This is Georgie. He's very shy. Only puppears ...</td>\n",
       "      <td>\"http://twitter.com/download/iphone\" rel=\"nofo...</td>\n",
       "      <td>10.0</td>\n",
       "      <td>10.0</td>\n",
       "      <td>Georgie</td>\n",
       "      <td>2017-04-01</td>\n",
       "      <td>This is Georgie. He's very shy. Only puppears ...</td>\n",
       "      <td>\"http://twitter.com/download/iphone\" rel=\"nofo...</td>\n",
       "      <td>...</td>\n",
       "      <td>0.882654</td>\n",
       "      <td>False</td>\n",
       "      <td>mink</td>\n",
       "      <td>0.066880</td>\n",
       "      <td>False</td>\n",
       "      <td>otter</td>\n",
       "      <td>0.025679</td>\n",
       "      <td>False</td>\n",
       "      <td>doggo</td>\n",
       "      <td>None</td>\n",
       "    </tr>\n",
       "    <tr>\n",
       "      <th>467</th>\n",
       "      <td>847251039262605312</td>\n",
       "      <td>2017-03-30</td>\n",
       "      <td>This is Furzey. He's doing an elevated sandy z...</td>\n",
       "      <td>\"http://twitter.com/download/iphone\" rel=\"nofo...</td>\n",
       "      <td>12.0</td>\n",
       "      <td>10.0</td>\n",
       "      <td>Furzey</td>\n",
       "      <td>2017-03-30</td>\n",
       "      <td>This is Furzey. He's doing an elevated sandy z...</td>\n",
       "      <td>\"http://twitter.com/download/iphone\" rel=\"nofo...</td>\n",
       "      <td>...</td>\n",
       "      <td>0.495380</td>\n",
       "      <td>True</td>\n",
       "      <td>Irish_terrier</td>\n",
       "      <td>0.316456</td>\n",
       "      <td>True</td>\n",
       "      <td>Lakeland_terrier</td>\n",
       "      <td>0.158533</td>\n",
       "      <td>True</td>\n",
       "      <td>doggo</td>\n",
       "      <td>None</td>\n",
       "    </tr>\n",
       "    <tr>\n",
       "      <th>...</th>\n",
       "      <td>...</td>\n",
       "      <td>...</td>\n",
       "      <td>...</td>\n",
       "      <td>...</td>\n",
       "      <td>...</td>\n",
       "      <td>...</td>\n",
       "      <td>...</td>\n",
       "      <td>...</td>\n",
       "      <td>...</td>\n",
       "      <td>...</td>\n",
       "      <td>...</td>\n",
       "      <td>...</td>\n",
       "      <td>...</td>\n",
       "      <td>...</td>\n",
       "      <td>...</td>\n",
       "      <td>...</td>\n",
       "      <td>...</td>\n",
       "      <td>...</td>\n",
       "      <td>...</td>\n",
       "      <td>...</td>\n",
       "      <td>...</td>\n",
       "    </tr>\n",
       "    <tr>\n",
       "      <th>1303</th>\n",
       "      <td>759793422261743616</td>\n",
       "      <td>2016-07-31</td>\n",
       "      <td>Meet Maggie &amp;amp; Lila. Maggie is the doggo, L...</td>\n",
       "      <td>\"http://twitter.com/download/iphone\" rel=\"nofo...</td>\n",
       "      <td>12.0</td>\n",
       "      <td>10.0</td>\n",
       "      <td>Maggie</td>\n",
       "      <td>2016-07-31</td>\n",
       "      <td>Meet Maggie &amp;amp; Lila. Maggie is the doggo, L...</td>\n",
       "      <td>\"http://twitter.com/download/iphone\" rel=\"nofo...</td>\n",
       "      <td>...</td>\n",
       "      <td>0.985876</td>\n",
       "      <td>True</td>\n",
       "      <td>Labrador_retriever</td>\n",
       "      <td>0.001948</td>\n",
       "      <td>True</td>\n",
       "      <td>kuvasz</td>\n",
       "      <td>0.001752</td>\n",
       "      <td>True</td>\n",
       "      <td>pupper</td>\n",
       "      <td>pupper</td>\n",
       "    </tr>\n",
       "    <tr>\n",
       "      <th>1909</th>\n",
       "      <td>825026590719483904</td>\n",
       "      <td>2017-01-27</td>\n",
       "      <td>Say hello to Pablo. He's one gorgeous puppo. A...</td>\n",
       "      <td>\"http://twitter.com/download/iphone\" rel=\"nofo...</td>\n",
       "      <td>12.0</td>\n",
       "      <td>10.0</td>\n",
       "      <td>Pablo</td>\n",
       "      <td>2017-01-27</td>\n",
       "      <td>Say hello to Pablo. He's one gorgeous puppo. A...</td>\n",
       "      <td>\"http://twitter.com/download/iphone\" rel=\"nofo...</td>\n",
       "      <td>...</td>\n",
       "      <td>0.524454</td>\n",
       "      <td>True</td>\n",
       "      <td>Siberian_husky</td>\n",
       "      <td>0.467678</td>\n",
       "      <td>True</td>\n",
       "      <td>malamute</td>\n",
       "      <td>0.004976</td>\n",
       "      <td>True</td>\n",
       "      <td>puppo</td>\n",
       "      <td>puppo</td>\n",
       "    </tr>\n",
       "    <tr>\n",
       "      <th>1753</th>\n",
       "      <td>738537504001953792</td>\n",
       "      <td>2016-06-03</td>\n",
       "      <td>This is Bayley. She fell asleep trying to esca...</td>\n",
       "      <td>\"http://twitter.com/download/iphone\" rel=\"nofo...</td>\n",
       "      <td>11.0</td>\n",
       "      <td>10.0</td>\n",
       "      <td>Bayley</td>\n",
       "      <td>2016-06-03</td>\n",
       "      <td>This is Bayley. She fell asleep trying to esca...</td>\n",
       "      <td>\"http://twitter.com/download/iphone\" rel=\"nofo...</td>\n",
       "      <td>...</td>\n",
       "      <td>0.808737</td>\n",
       "      <td>True</td>\n",
       "      <td>gibbon</td>\n",
       "      <td>0.028942</td>\n",
       "      <td>False</td>\n",
       "      <td>Pembroke</td>\n",
       "      <td>0.026498</td>\n",
       "      <td>True</td>\n",
       "      <td>puppo</td>\n",
       "      <td>puppo</td>\n",
       "    </tr>\n",
       "    <tr>\n",
       "      <th>1780</th>\n",
       "      <td>751132876104687617</td>\n",
       "      <td>2016-07-07</td>\n",
       "      <td>This is Cooper. He's just so damn happy. 10/10...</td>\n",
       "      <td>\"http://twitter.com/download/iphone\" rel=\"nofo...</td>\n",
       "      <td>10.0</td>\n",
       "      <td>10.0</td>\n",
       "      <td>Cooper</td>\n",
       "      <td>2016-07-07</td>\n",
       "      <td>This is Cooper. He's just so damn happy. 10/10...</td>\n",
       "      <td>\"http://twitter.com/download/iphone\" rel=\"nofo...</td>\n",
       "      <td>...</td>\n",
       "      <td>0.929390</td>\n",
       "      <td>True</td>\n",
       "      <td>Chesapeake_Bay_retriever</td>\n",
       "      <td>0.038254</td>\n",
       "      <td>True</td>\n",
       "      <td>golden_retriever</td>\n",
       "      <td>0.007610</td>\n",
       "      <td>True</td>\n",
       "      <td>puppo</td>\n",
       "      <td>puppo</td>\n",
       "    </tr>\n",
       "    <tr>\n",
       "      <th>1876</th>\n",
       "      <td>803773340896923648</td>\n",
       "      <td>2016-11-30</td>\n",
       "      <td>This is Diogi. He fell in the pool as soon as ...</td>\n",
       "      <td>\"http://twitter.com/download/iphone\" rel=\"nofo...</td>\n",
       "      <td>12.0</td>\n",
       "      <td>10.0</td>\n",
       "      <td>Diogi</td>\n",
       "      <td>2016-11-30</td>\n",
       "      <td>This is Diogi. He fell in the pool as soon as ...</td>\n",
       "      <td>\"http://twitter.com/download/iphone\" rel=\"nofo...</td>\n",
       "      <td>...</td>\n",
       "      <td>0.817066</td>\n",
       "      <td>True</td>\n",
       "      <td>redbone</td>\n",
       "      <td>0.059707</td>\n",
       "      <td>True</td>\n",
       "      <td>Irish_terrier</td>\n",
       "      <td>0.034195</td>\n",
       "      <td>True</td>\n",
       "      <td>puppo</td>\n",
       "      <td>puppo</td>\n",
       "    </tr>\n",
       "  </tbody>\n",
       "</table>\n",
       "<p>491 rows × 27 columns</p>\n",
       "</div>"
      ],
      "text/plain": [
       "                tweet_id      date_x  \\\n",
       "472   852672615818899456  2017-04-13   \n",
       "471   852189679701164033  2017-04-12   \n",
       "470   850753642995093505  2017-04-08   \n",
       "468   847962785489326080  2017-04-01   \n",
       "467   847251039262605312  2017-03-30   \n",
       "...                  ...         ...   \n",
       "1303  759793422261743616  2016-07-31   \n",
       "1909  825026590719483904  2017-01-27   \n",
       "1753  738537504001953792  2016-06-03   \n",
       "1780  751132876104687617  2016-07-07   \n",
       "1876  803773340896923648  2016-11-30   \n",
       "\n",
       "                                                   text  \\\n",
       "472   This is Aspen. She's never tasted a stick so s...   \n",
       "471   This is Sailor. He has collected the best dirt...   \n",
       "470   This is Kyle. He made a joke about your shoes,...   \n",
       "468   This is Georgie. He's very shy. Only puppears ...   \n",
       "467   This is Furzey. He's doing an elevated sandy z...   \n",
       "...                                                 ...   \n",
       "1303  Meet Maggie &amp; Lila. Maggie is the doggo, L...   \n",
       "1909  Say hello to Pablo. He's one gorgeous puppo. A...   \n",
       "1753  This is Bayley. She fell asleep trying to esca...   \n",
       "1780  This is Cooper. He's just so damn happy. 10/10...   \n",
       "1876  This is Diogi. He fell in the pool as soon as ...   \n",
       "\n",
       "                                               source_x  rating_numerator  \\\n",
       "472   \"http://twitter.com/download/iphone\" rel=\"nofo...              12.0   \n",
       "471   \"http://twitter.com/download/iphone\" rel=\"nofo...              12.0   \n",
       "470   \"http://twitter.com/download/iphone\" rel=\"nofo...              11.0   \n",
       "468   \"http://twitter.com/download/iphone\" rel=\"nofo...              10.0   \n",
       "467   \"http://twitter.com/download/iphone\" rel=\"nofo...              12.0   \n",
       "...                                                 ...               ...   \n",
       "1303  \"http://twitter.com/download/iphone\" rel=\"nofo...              12.0   \n",
       "1909  \"http://twitter.com/download/iphone\" rel=\"nofo...              12.0   \n",
       "1753  \"http://twitter.com/download/iphone\" rel=\"nofo...              11.0   \n",
       "1780  \"http://twitter.com/download/iphone\" rel=\"nofo...              10.0   \n",
       "1876  \"http://twitter.com/download/iphone\" rel=\"nofo...              12.0   \n",
       "\n",
       "      rating_denominator     name      date_y  \\\n",
       "472                 10.0    Aspen  2017-04-13   \n",
       "471                 10.0   Sailor  2017-04-12   \n",
       "470                 10.0     Kyle  2017-04-08   \n",
       "468                 10.0  Georgie  2017-04-01   \n",
       "467                 10.0   Furzey  2017-03-30   \n",
       "...                  ...      ...         ...   \n",
       "1303                10.0   Maggie  2016-07-31   \n",
       "1909                10.0    Pablo  2017-01-27   \n",
       "1753                10.0   Bayley  2016-06-03   \n",
       "1780                10.0   Cooper  2016-07-07   \n",
       "1876                10.0    Diogi  2016-11-30   \n",
       "\n",
       "                                              full_text  \\\n",
       "472   This is Aspen. She's never tasted a stick so s...   \n",
       "471   This is Sailor. He has collected the best dirt...   \n",
       "470   This is Kyle. He made a joke about your shoes,...   \n",
       "468   This is Georgie. He's very shy. Only puppears ...   \n",
       "467   This is Furzey. He's doing an elevated sandy z...   \n",
       "...                                                 ...   \n",
       "1303  Meet Maggie &amp; Lila. Maggie is the doggo, L...   \n",
       "1909  Say hello to Pablo. He's one gorgeous puppo. A...   \n",
       "1753  This is Bayley. She fell asleep trying to esca...   \n",
       "1780  This is Cooper. He's just so damn happy. 10/10...   \n",
       "1876  This is Diogi. He fell in the pool as soon as ...   \n",
       "\n",
       "                                               source_y  ...  \\\n",
       "472   \"http://twitter.com/download/iphone\" rel=\"nofo...  ...   \n",
       "471   \"http://twitter.com/download/iphone\" rel=\"nofo...  ...   \n",
       "470   \"http://twitter.com/download/iphone\" rel=\"nofo...  ...   \n",
       "468   \"http://twitter.com/download/iphone\" rel=\"nofo...  ...   \n",
       "467   \"http://twitter.com/download/iphone\" rel=\"nofo...  ...   \n",
       "...                                                 ...  ...   \n",
       "1303  \"http://twitter.com/download/iphone\" rel=\"nofo...  ...   \n",
       "1909  \"http://twitter.com/download/iphone\" rel=\"nofo...  ...   \n",
       "1753  \"http://twitter.com/download/iphone\" rel=\"nofo...  ...   \n",
       "1780  \"http://twitter.com/download/iphone\" rel=\"nofo...  ...   \n",
       "1876  \"http://twitter.com/download/iphone\" rel=\"nofo...  ...   \n",
       "\n",
       "      prediction1_confidence  prediction1_dog         prediction2_image  \\\n",
       "472                 0.711235             True                otterhound   \n",
       "471                 0.423150            False      Bernese_mountain_dog   \n",
       "470                 0.996952             True              bull_mastiff   \n",
       "468                 0.882654            False                      mink   \n",
       "467                 0.495380             True             Irish_terrier   \n",
       "...                      ...              ...                       ...   \n",
       "1303                0.985876             True        Labrador_retriever   \n",
       "1909                0.524454             True            Siberian_husky   \n",
       "1753                0.808737             True                    gibbon   \n",
       "1780                0.929390             True  Chesapeake_Bay_retriever   \n",
       "1876                0.817066             True                   redbone   \n",
       "\n",
       "     prediction2_confidence prediction2_dog  Prediction3_image  \\\n",
       "472                0.068235            True     Sussex_spaniel   \n",
       "471                0.415374            True        EntleBucher   \n",
       "470                0.000996            True     French_bulldog   \n",
       "468                0.066880           False              otter   \n",
       "467                0.316456            True   Lakeland_terrier   \n",
       "...                     ...             ...                ...   \n",
       "1303               0.001948            True             kuvasz   \n",
       "1909               0.467678            True           malamute   \n",
       "1753               0.028942           False           Pembroke   \n",
       "1780               0.038254            True   golden_retriever   \n",
       "1876               0.059707            True      Irish_terrier   \n",
       "\n",
       "     prediction3_confidence  prediction3_dog  stages dog_stage_values  \n",
       "472                0.046562             True   doggo             None  \n",
       "471                0.067345             True   doggo             None  \n",
       "470                0.000883             True   doggo             None  \n",
       "468                0.025679            False   doggo             None  \n",
       "467                0.158533             True   doggo             None  \n",
       "...                     ...              ...     ...              ...  \n",
       "1303               0.001752             True  pupper           pupper  \n",
       "1909               0.004976             True   puppo            puppo  \n",
       "1753               0.026498             True   puppo            puppo  \n",
       "1780               0.007610             True   puppo            puppo  \n",
       "1876               0.034195             True   puppo            puppo  \n",
       "\n",
       "[491 rows x 27 columns]"
      ]
     },
     "execution_count": 208,
     "metadata": {},
     "output_type": "execute_result"
    }
   ],
   "source": [
    "# To display the result of the change made\n",
    "Final_Master_clean"
   ]
  },
  {
   "cell_type": "markdown",
   "id": "4902c53a",
   "metadata": {},
   "source": [
    "**Table 41.0 show the printout of the duplicated values dropped from dog_stage_values column in the dataset**"
   ]
  },
  {
   "cell_type": "markdown",
   "id": "bfb3c377",
   "metadata": {},
   "source": [
    "**Define**\n",
    "**The rating numerators as well as the denomintaor column need to be a single column called Ratings_Numeric**"
   ]
  },
  {
   "cell_type": "markdown",
   "id": "604f1e2e",
   "metadata": {},
   "source": [
    "**Code**"
   ]
  },
  {
   "cell_type": "code",
   "execution_count": 209,
   "id": "64c89680",
   "metadata": {},
   "outputs": [],
   "source": [
    "# To change the data type both rating numerator and denominatora column to float for numerical calculation\n",
    "Final_Master_clean['rating_numerator'] = Final_Master_clean['rating_numerator'].astype(float)\n",
    "Final_Master_clean['rating_denominator'] = Final_Master_clean['rating_denominator'].astype(float)"
   ]
  },
  {
   "cell_type": "code",
   "execution_count": 210,
   "id": "5f391032",
   "metadata": {},
   "outputs": [],
   "source": [
    "# To calculate the new rating column \n",
    "Final_Master_clean['rating_number']=Final_Master_clean.rating_numerator/Final_Master_clean.rating_denominator"
   ]
  },
  {
   "cell_type": "markdown",
   "id": "41d1488b",
   "metadata": {},
   "source": [
    "**Test**"
   ]
  },
  {
   "cell_type": "code",
   "execution_count": 211,
   "id": "f4d87dd6",
   "metadata": {},
   "outputs": [
    {
     "data": {
      "text/html": [
       "<div>\n",
       "<style scoped>\n",
       "    .dataframe tbody tr th:only-of-type {\n",
       "        vertical-align: middle;\n",
       "    }\n",
       "\n",
       "    .dataframe tbody tr th {\n",
       "        vertical-align: top;\n",
       "    }\n",
       "\n",
       "    .dataframe thead th {\n",
       "        text-align: right;\n",
       "    }\n",
       "</style>\n",
       "<table border=\"1\" class=\"dataframe\">\n",
       "  <thead>\n",
       "    <tr style=\"text-align: right;\">\n",
       "      <th></th>\n",
       "      <th>tweet_id</th>\n",
       "      <th>date_x</th>\n",
       "      <th>text</th>\n",
       "      <th>source_x</th>\n",
       "      <th>rating_numerator</th>\n",
       "      <th>rating_denominator</th>\n",
       "      <th>name</th>\n",
       "      <th>date_y</th>\n",
       "      <th>full_text</th>\n",
       "      <th>source_y</th>\n",
       "      <th>...</th>\n",
       "      <th>prediction1_dog</th>\n",
       "      <th>prediction2_image</th>\n",
       "      <th>prediction2_confidence</th>\n",
       "      <th>prediction2_dog</th>\n",
       "      <th>Prediction3_image</th>\n",
       "      <th>prediction3_confidence</th>\n",
       "      <th>prediction3_dog</th>\n",
       "      <th>stages</th>\n",
       "      <th>dog_stage_values</th>\n",
       "      <th>rating_number</th>\n",
       "    </tr>\n",
       "  </thead>\n",
       "  <tbody>\n",
       "    <tr>\n",
       "      <th>472</th>\n",
       "      <td>852672615818899456</td>\n",
       "      <td>2017-04-13</td>\n",
       "      <td>This is Aspen. She's never tasted a stick so s...</td>\n",
       "      <td>\"http://twitter.com/download/iphone\" rel=\"nofo...</td>\n",
       "      <td>12.0</td>\n",
       "      <td>10.0</td>\n",
       "      <td>Aspen</td>\n",
       "      <td>2017-04-13</td>\n",
       "      <td>This is Aspen. She's never tasted a stick so s...</td>\n",
       "      <td>\"http://twitter.com/download/iphone\" rel=\"nofo...</td>\n",
       "      <td>...</td>\n",
       "      <td>True</td>\n",
       "      <td>otterhound</td>\n",
       "      <td>0.068235</td>\n",
       "      <td>True</td>\n",
       "      <td>Sussex_spaniel</td>\n",
       "      <td>0.046562</td>\n",
       "      <td>True</td>\n",
       "      <td>doggo</td>\n",
       "      <td>None</td>\n",
       "      <td>1.2</td>\n",
       "    </tr>\n",
       "    <tr>\n",
       "      <th>471</th>\n",
       "      <td>852189679701164033</td>\n",
       "      <td>2017-04-12</td>\n",
       "      <td>This is Sailor. He has collected the best dirt...</td>\n",
       "      <td>\"http://twitter.com/download/iphone\" rel=\"nofo...</td>\n",
       "      <td>12.0</td>\n",
       "      <td>10.0</td>\n",
       "      <td>Sailor</td>\n",
       "      <td>2017-04-12</td>\n",
       "      <td>This is Sailor. He has collected the best dirt...</td>\n",
       "      <td>\"http://twitter.com/download/iphone\" rel=\"nofo...</td>\n",
       "      <td>...</td>\n",
       "      <td>False</td>\n",
       "      <td>Bernese_mountain_dog</td>\n",
       "      <td>0.415374</td>\n",
       "      <td>True</td>\n",
       "      <td>EntleBucher</td>\n",
       "      <td>0.067345</td>\n",
       "      <td>True</td>\n",
       "      <td>doggo</td>\n",
       "      <td>None</td>\n",
       "      <td>1.2</td>\n",
       "    </tr>\n",
       "    <tr>\n",
       "      <th>470</th>\n",
       "      <td>850753642995093505</td>\n",
       "      <td>2017-04-08</td>\n",
       "      <td>This is Kyle. He made a joke about your shoes,...</td>\n",
       "      <td>\"http://twitter.com/download/iphone\" rel=\"nofo...</td>\n",
       "      <td>11.0</td>\n",
       "      <td>10.0</td>\n",
       "      <td>Kyle</td>\n",
       "      <td>2017-04-08</td>\n",
       "      <td>This is Kyle. He made a joke about your shoes,...</td>\n",
       "      <td>\"http://twitter.com/download/iphone\" rel=\"nofo...</td>\n",
       "      <td>...</td>\n",
       "      <td>True</td>\n",
       "      <td>bull_mastiff</td>\n",
       "      <td>0.000996</td>\n",
       "      <td>True</td>\n",
       "      <td>French_bulldog</td>\n",
       "      <td>0.000883</td>\n",
       "      <td>True</td>\n",
       "      <td>doggo</td>\n",
       "      <td>None</td>\n",
       "      <td>1.1</td>\n",
       "    </tr>\n",
       "    <tr>\n",
       "      <th>468</th>\n",
       "      <td>847962785489326080</td>\n",
       "      <td>2017-04-01</td>\n",
       "      <td>This is Georgie. He's very shy. Only puppears ...</td>\n",
       "      <td>\"http://twitter.com/download/iphone\" rel=\"nofo...</td>\n",
       "      <td>10.0</td>\n",
       "      <td>10.0</td>\n",
       "      <td>Georgie</td>\n",
       "      <td>2017-04-01</td>\n",
       "      <td>This is Georgie. He's very shy. Only puppears ...</td>\n",
       "      <td>\"http://twitter.com/download/iphone\" rel=\"nofo...</td>\n",
       "      <td>...</td>\n",
       "      <td>False</td>\n",
       "      <td>mink</td>\n",
       "      <td>0.066880</td>\n",
       "      <td>False</td>\n",
       "      <td>otter</td>\n",
       "      <td>0.025679</td>\n",
       "      <td>False</td>\n",
       "      <td>doggo</td>\n",
       "      <td>None</td>\n",
       "      <td>1.0</td>\n",
       "    </tr>\n",
       "    <tr>\n",
       "      <th>467</th>\n",
       "      <td>847251039262605312</td>\n",
       "      <td>2017-03-30</td>\n",
       "      <td>This is Furzey. He's doing an elevated sandy z...</td>\n",
       "      <td>\"http://twitter.com/download/iphone\" rel=\"nofo...</td>\n",
       "      <td>12.0</td>\n",
       "      <td>10.0</td>\n",
       "      <td>Furzey</td>\n",
       "      <td>2017-03-30</td>\n",
       "      <td>This is Furzey. He's doing an elevated sandy z...</td>\n",
       "      <td>\"http://twitter.com/download/iphone\" rel=\"nofo...</td>\n",
       "      <td>...</td>\n",
       "      <td>True</td>\n",
       "      <td>Irish_terrier</td>\n",
       "      <td>0.316456</td>\n",
       "      <td>True</td>\n",
       "      <td>Lakeland_terrier</td>\n",
       "      <td>0.158533</td>\n",
       "      <td>True</td>\n",
       "      <td>doggo</td>\n",
       "      <td>None</td>\n",
       "      <td>1.2</td>\n",
       "    </tr>\n",
       "  </tbody>\n",
       "</table>\n",
       "<p>5 rows × 28 columns</p>\n",
       "</div>"
      ],
      "text/plain": [
       "               tweet_id      date_x  \\\n",
       "472  852672615818899456  2017-04-13   \n",
       "471  852189679701164033  2017-04-12   \n",
       "470  850753642995093505  2017-04-08   \n",
       "468  847962785489326080  2017-04-01   \n",
       "467  847251039262605312  2017-03-30   \n",
       "\n",
       "                                                  text  \\\n",
       "472  This is Aspen. She's never tasted a stick so s...   \n",
       "471  This is Sailor. He has collected the best dirt...   \n",
       "470  This is Kyle. He made a joke about your shoes,...   \n",
       "468  This is Georgie. He's very shy. Only puppears ...   \n",
       "467  This is Furzey. He's doing an elevated sandy z...   \n",
       "\n",
       "                                              source_x  rating_numerator  \\\n",
       "472  \"http://twitter.com/download/iphone\" rel=\"nofo...              12.0   \n",
       "471  \"http://twitter.com/download/iphone\" rel=\"nofo...              12.0   \n",
       "470  \"http://twitter.com/download/iphone\" rel=\"nofo...              11.0   \n",
       "468  \"http://twitter.com/download/iphone\" rel=\"nofo...              10.0   \n",
       "467  \"http://twitter.com/download/iphone\" rel=\"nofo...              12.0   \n",
       "\n",
       "     rating_denominator     name      date_y  \\\n",
       "472                10.0    Aspen  2017-04-13   \n",
       "471                10.0   Sailor  2017-04-12   \n",
       "470                10.0     Kyle  2017-04-08   \n",
       "468                10.0  Georgie  2017-04-01   \n",
       "467                10.0   Furzey  2017-03-30   \n",
       "\n",
       "                                             full_text  \\\n",
       "472  This is Aspen. She's never tasted a stick so s...   \n",
       "471  This is Sailor. He has collected the best dirt...   \n",
       "470  This is Kyle. He made a joke about your shoes,...   \n",
       "468  This is Georgie. He's very shy. Only puppears ...   \n",
       "467  This is Furzey. He's doing an elevated sandy z...   \n",
       "\n",
       "                                              source_y  ...  prediction1_dog  \\\n",
       "472  \"http://twitter.com/download/iphone\" rel=\"nofo...  ...             True   \n",
       "471  \"http://twitter.com/download/iphone\" rel=\"nofo...  ...            False   \n",
       "470  \"http://twitter.com/download/iphone\" rel=\"nofo...  ...             True   \n",
       "468  \"http://twitter.com/download/iphone\" rel=\"nofo...  ...            False   \n",
       "467  \"http://twitter.com/download/iphone\" rel=\"nofo...  ...             True   \n",
       "\n",
       "        prediction2_image prediction2_confidence prediction2_dog  \\\n",
       "472            otterhound               0.068235            True   \n",
       "471  Bernese_mountain_dog               0.415374            True   \n",
       "470          bull_mastiff               0.000996            True   \n",
       "468                  mink               0.066880           False   \n",
       "467         Irish_terrier               0.316456            True   \n",
       "\n",
       "    Prediction3_image  prediction3_confidence prediction3_dog  stages  \\\n",
       "472    Sussex_spaniel                0.046562            True   doggo   \n",
       "471       EntleBucher                0.067345            True   doggo   \n",
       "470    French_bulldog                0.000883            True   doggo   \n",
       "468             otter                0.025679           False   doggo   \n",
       "467  Lakeland_terrier                0.158533            True   doggo   \n",
       "\n",
       "     dog_stage_values rating_number  \n",
       "472              None           1.2  \n",
       "471              None           1.2  \n",
       "470              None           1.1  \n",
       "468              None           1.0  \n",
       "467              None           1.2  \n",
       "\n",
       "[5 rows x 28 columns]"
      ]
     },
     "execution_count": 211,
     "metadata": {},
     "output_type": "execute_result"
    }
   ],
   "source": [
    "# To display the result of the calculation made above\n",
    "Final_Master_clean.head(5)"
   ]
  },
  {
   "cell_type": "markdown",
   "id": "dd09029c",
   "metadata": {},
   "source": [
    "**Table 42.0 show the printout of the new Rating_numeric column created**"
   ]
  },
  {
   "cell_type": "markdown",
   "id": "e0edfddb",
   "metadata": {},
   "source": [
    "**Code**"
   ]
  },
  {
   "cell_type": "code",
   "execution_count": 212,
   "id": "de0c8eb8",
   "metadata": {},
   "outputs": [],
   "source": [
    "# Coverting the rating columns into string data type due visualization\n",
    "Final_Master_clean['rating_numerator'] = Final_Master_clean['rating_numerator'].astype(str)\n",
    "Final_Master_clean['rating_denominator'] = Final_Master_clean['rating_denominator'].astype(str)"
   ]
  },
  {
   "cell_type": "code",
   "execution_count": 213,
   "id": "2555cd41",
   "metadata": {},
   "outputs": [],
   "source": [
    "# Creating the new column rating with string data type because of the visualization\n",
    "Final_Master_clean['rating']=Final_Master_clean.rating_numerator +'/' +Final_Master_clean.rating_denominator"
   ]
  },
  {
   "cell_type": "markdown",
   "id": "f1a3c273",
   "metadata": {},
   "source": [
    "**Test**"
   ]
  },
  {
   "cell_type": "code",
   "execution_count": 214,
   "id": "81d1a673",
   "metadata": {},
   "outputs": [
    {
     "data": {
      "text/html": [
       "<div>\n",
       "<style scoped>\n",
       "    .dataframe tbody tr th:only-of-type {\n",
       "        vertical-align: middle;\n",
       "    }\n",
       "\n",
       "    .dataframe tbody tr th {\n",
       "        vertical-align: top;\n",
       "    }\n",
       "\n",
       "    .dataframe thead th {\n",
       "        text-align: right;\n",
       "    }\n",
       "</style>\n",
       "<table border=\"1\" class=\"dataframe\">\n",
       "  <thead>\n",
       "    <tr style=\"text-align: right;\">\n",
       "      <th></th>\n",
       "      <th>tweet_id</th>\n",
       "      <th>date_x</th>\n",
       "      <th>text</th>\n",
       "      <th>source_x</th>\n",
       "      <th>rating_numerator</th>\n",
       "      <th>rating_denominator</th>\n",
       "      <th>name</th>\n",
       "      <th>date_y</th>\n",
       "      <th>full_text</th>\n",
       "      <th>source_y</th>\n",
       "      <th>...</th>\n",
       "      <th>prediction2_image</th>\n",
       "      <th>prediction2_confidence</th>\n",
       "      <th>prediction2_dog</th>\n",
       "      <th>Prediction3_image</th>\n",
       "      <th>prediction3_confidence</th>\n",
       "      <th>prediction3_dog</th>\n",
       "      <th>stages</th>\n",
       "      <th>dog_stage_values</th>\n",
       "      <th>rating_number</th>\n",
       "      <th>rating</th>\n",
       "    </tr>\n",
       "  </thead>\n",
       "  <tbody>\n",
       "    <tr>\n",
       "      <th>472</th>\n",
       "      <td>852672615818899456</td>\n",
       "      <td>2017-04-13</td>\n",
       "      <td>This is Aspen. She's never tasted a stick so s...</td>\n",
       "      <td>\"http://twitter.com/download/iphone\" rel=\"nofo...</td>\n",
       "      <td>12.0</td>\n",
       "      <td>10.0</td>\n",
       "      <td>Aspen</td>\n",
       "      <td>2017-04-13</td>\n",
       "      <td>This is Aspen. She's never tasted a stick so s...</td>\n",
       "      <td>\"http://twitter.com/download/iphone\" rel=\"nofo...</td>\n",
       "      <td>...</td>\n",
       "      <td>otterhound</td>\n",
       "      <td>0.068235</td>\n",
       "      <td>True</td>\n",
       "      <td>Sussex_spaniel</td>\n",
       "      <td>0.046562</td>\n",
       "      <td>True</td>\n",
       "      <td>doggo</td>\n",
       "      <td>None</td>\n",
       "      <td>1.2</td>\n",
       "      <td>12.0/10.0</td>\n",
       "    </tr>\n",
       "    <tr>\n",
       "      <th>471</th>\n",
       "      <td>852189679701164033</td>\n",
       "      <td>2017-04-12</td>\n",
       "      <td>This is Sailor. He has collected the best dirt...</td>\n",
       "      <td>\"http://twitter.com/download/iphone\" rel=\"nofo...</td>\n",
       "      <td>12.0</td>\n",
       "      <td>10.0</td>\n",
       "      <td>Sailor</td>\n",
       "      <td>2017-04-12</td>\n",
       "      <td>This is Sailor. He has collected the best dirt...</td>\n",
       "      <td>\"http://twitter.com/download/iphone\" rel=\"nofo...</td>\n",
       "      <td>...</td>\n",
       "      <td>Bernese_mountain_dog</td>\n",
       "      <td>0.415374</td>\n",
       "      <td>True</td>\n",
       "      <td>EntleBucher</td>\n",
       "      <td>0.067345</td>\n",
       "      <td>True</td>\n",
       "      <td>doggo</td>\n",
       "      <td>None</td>\n",
       "      <td>1.2</td>\n",
       "      <td>12.0/10.0</td>\n",
       "    </tr>\n",
       "    <tr>\n",
       "      <th>470</th>\n",
       "      <td>850753642995093505</td>\n",
       "      <td>2017-04-08</td>\n",
       "      <td>This is Kyle. He made a joke about your shoes,...</td>\n",
       "      <td>\"http://twitter.com/download/iphone\" rel=\"nofo...</td>\n",
       "      <td>11.0</td>\n",
       "      <td>10.0</td>\n",
       "      <td>Kyle</td>\n",
       "      <td>2017-04-08</td>\n",
       "      <td>This is Kyle. He made a joke about your shoes,...</td>\n",
       "      <td>\"http://twitter.com/download/iphone\" rel=\"nofo...</td>\n",
       "      <td>...</td>\n",
       "      <td>bull_mastiff</td>\n",
       "      <td>0.000996</td>\n",
       "      <td>True</td>\n",
       "      <td>French_bulldog</td>\n",
       "      <td>0.000883</td>\n",
       "      <td>True</td>\n",
       "      <td>doggo</td>\n",
       "      <td>None</td>\n",
       "      <td>1.1</td>\n",
       "      <td>11.0/10.0</td>\n",
       "    </tr>\n",
       "    <tr>\n",
       "      <th>468</th>\n",
       "      <td>847962785489326080</td>\n",
       "      <td>2017-04-01</td>\n",
       "      <td>This is Georgie. He's very shy. Only puppears ...</td>\n",
       "      <td>\"http://twitter.com/download/iphone\" rel=\"nofo...</td>\n",
       "      <td>10.0</td>\n",
       "      <td>10.0</td>\n",
       "      <td>Georgie</td>\n",
       "      <td>2017-04-01</td>\n",
       "      <td>This is Georgie. He's very shy. Only puppears ...</td>\n",
       "      <td>\"http://twitter.com/download/iphone\" rel=\"nofo...</td>\n",
       "      <td>...</td>\n",
       "      <td>mink</td>\n",
       "      <td>0.066880</td>\n",
       "      <td>False</td>\n",
       "      <td>otter</td>\n",
       "      <td>0.025679</td>\n",
       "      <td>False</td>\n",
       "      <td>doggo</td>\n",
       "      <td>None</td>\n",
       "      <td>1.0</td>\n",
       "      <td>10.0/10.0</td>\n",
       "    </tr>\n",
       "    <tr>\n",
       "      <th>467</th>\n",
       "      <td>847251039262605312</td>\n",
       "      <td>2017-03-30</td>\n",
       "      <td>This is Furzey. He's doing an elevated sandy z...</td>\n",
       "      <td>\"http://twitter.com/download/iphone\" rel=\"nofo...</td>\n",
       "      <td>12.0</td>\n",
       "      <td>10.0</td>\n",
       "      <td>Furzey</td>\n",
       "      <td>2017-03-30</td>\n",
       "      <td>This is Furzey. He's doing an elevated sandy z...</td>\n",
       "      <td>\"http://twitter.com/download/iphone\" rel=\"nofo...</td>\n",
       "      <td>...</td>\n",
       "      <td>Irish_terrier</td>\n",
       "      <td>0.316456</td>\n",
       "      <td>True</td>\n",
       "      <td>Lakeland_terrier</td>\n",
       "      <td>0.158533</td>\n",
       "      <td>True</td>\n",
       "      <td>doggo</td>\n",
       "      <td>None</td>\n",
       "      <td>1.2</td>\n",
       "      <td>12.0/10.0</td>\n",
       "    </tr>\n",
       "  </tbody>\n",
       "</table>\n",
       "<p>5 rows × 29 columns</p>\n",
       "</div>"
      ],
      "text/plain": [
       "               tweet_id      date_x  \\\n",
       "472  852672615818899456  2017-04-13   \n",
       "471  852189679701164033  2017-04-12   \n",
       "470  850753642995093505  2017-04-08   \n",
       "468  847962785489326080  2017-04-01   \n",
       "467  847251039262605312  2017-03-30   \n",
       "\n",
       "                                                  text  \\\n",
       "472  This is Aspen. She's never tasted a stick so s...   \n",
       "471  This is Sailor. He has collected the best dirt...   \n",
       "470  This is Kyle. He made a joke about your shoes,...   \n",
       "468  This is Georgie. He's very shy. Only puppears ...   \n",
       "467  This is Furzey. He's doing an elevated sandy z...   \n",
       "\n",
       "                                              source_x rating_numerator  \\\n",
       "472  \"http://twitter.com/download/iphone\" rel=\"nofo...             12.0   \n",
       "471  \"http://twitter.com/download/iphone\" rel=\"nofo...             12.0   \n",
       "470  \"http://twitter.com/download/iphone\" rel=\"nofo...             11.0   \n",
       "468  \"http://twitter.com/download/iphone\" rel=\"nofo...             10.0   \n",
       "467  \"http://twitter.com/download/iphone\" rel=\"nofo...             12.0   \n",
       "\n",
       "    rating_denominator     name      date_y  \\\n",
       "472               10.0    Aspen  2017-04-13   \n",
       "471               10.0   Sailor  2017-04-12   \n",
       "470               10.0     Kyle  2017-04-08   \n",
       "468               10.0  Georgie  2017-04-01   \n",
       "467               10.0   Furzey  2017-03-30   \n",
       "\n",
       "                                             full_text  \\\n",
       "472  This is Aspen. She's never tasted a stick so s...   \n",
       "471  This is Sailor. He has collected the best dirt...   \n",
       "470  This is Kyle. He made a joke about your shoes,...   \n",
       "468  This is Georgie. He's very shy. Only puppears ...   \n",
       "467  This is Furzey. He's doing an elevated sandy z...   \n",
       "\n",
       "                                              source_y  ...  \\\n",
       "472  \"http://twitter.com/download/iphone\" rel=\"nofo...  ...   \n",
       "471  \"http://twitter.com/download/iphone\" rel=\"nofo...  ...   \n",
       "470  \"http://twitter.com/download/iphone\" rel=\"nofo...  ...   \n",
       "468  \"http://twitter.com/download/iphone\" rel=\"nofo...  ...   \n",
       "467  \"http://twitter.com/download/iphone\" rel=\"nofo...  ...   \n",
       "\n",
       "        prediction2_image  prediction2_confidence prediction2_dog  \\\n",
       "472            otterhound                0.068235            True   \n",
       "471  Bernese_mountain_dog                0.415374            True   \n",
       "470          bull_mastiff                0.000996            True   \n",
       "468                  mink                0.066880           False   \n",
       "467         Irish_terrier                0.316456            True   \n",
       "\n",
       "    Prediction3_image prediction3_confidence  prediction3_dog stages  \\\n",
       "472    Sussex_spaniel               0.046562             True  doggo   \n",
       "471       EntleBucher               0.067345             True  doggo   \n",
       "470    French_bulldog               0.000883             True  doggo   \n",
       "468             otter               0.025679            False  doggo   \n",
       "467  Lakeland_terrier               0.158533             True  doggo   \n",
       "\n",
       "     dog_stage_values  rating_number     rating  \n",
       "472              None            1.2  12.0/10.0  \n",
       "471              None            1.2  12.0/10.0  \n",
       "470              None            1.1  11.0/10.0  \n",
       "468              None            1.0  10.0/10.0  \n",
       "467              None            1.2  12.0/10.0  \n",
       "\n",
       "[5 rows x 29 columns]"
      ]
     },
     "execution_count": 214,
     "metadata": {},
     "output_type": "execute_result"
    }
   ],
   "source": [
    "# To display the new rating string column that was created\n",
    "Final_Master_clean.head(5)"
   ]
  },
  {
   "cell_type": "markdown",
   "id": "c0f9afb6",
   "metadata": {},
   "source": [
    "**Table 43.0 show the printout of the new rating column that was created**"
   ]
  },
  {
   "cell_type": "markdown",
   "id": "917793a6",
   "metadata": {},
   "source": [
    "#### STORING THE DATASET"
   ]
  },
  {
   "cell_type": "markdown",
   "id": "11ef4f61",
   "metadata": {},
   "source": [
    "**Define**\n",
    "- Storing of the clean merged updated Dataset into csv format"
   ]
  },
  {
   "cell_type": "markdown",
   "id": "38f02f52",
   "metadata": {},
   "source": [
    "**Code**"
   ]
  },
  {
   "cell_type": "code",
   "execution_count": 215,
   "id": "36768f77",
   "metadata": {},
   "outputs": [],
   "source": [
    "# To store the master updated dataset into csv format\n",
    "Final_Master_clean=Final_Master_clean.to_csv('twitter_archive_master.csv', index=False)"
   ]
  },
  {
   "cell_type": "code",
   "execution_count": 216,
   "id": "78bc4af6",
   "metadata": {},
   "outputs": [],
   "source": [
    "# To read the saved master csv dataset using pandas\n",
    "twitter_archive_master=pd.read_csv('twitter_archive_master.csv',)"
   ]
  },
  {
   "cell_type": "markdown",
   "id": "322a94aa",
   "metadata": {},
   "source": [
    "**Test**"
   ]
  },
  {
   "cell_type": "code",
   "execution_count": 217,
   "id": "35d052d9",
   "metadata": {},
   "outputs": [
    {
     "data": {
      "text/html": [
       "<div>\n",
       "<style scoped>\n",
       "    .dataframe tbody tr th:only-of-type {\n",
       "        vertical-align: middle;\n",
       "    }\n",
       "\n",
       "    .dataframe tbody tr th {\n",
       "        vertical-align: top;\n",
       "    }\n",
       "\n",
       "    .dataframe thead th {\n",
       "        text-align: right;\n",
       "    }\n",
       "</style>\n",
       "<table border=\"1\" class=\"dataframe\">\n",
       "  <thead>\n",
       "    <tr style=\"text-align: right;\">\n",
       "      <th></th>\n",
       "      <th>tweet_id</th>\n",
       "      <th>date_x</th>\n",
       "      <th>text</th>\n",
       "      <th>source_x</th>\n",
       "      <th>rating_numerator</th>\n",
       "      <th>rating_denominator</th>\n",
       "      <th>name</th>\n",
       "      <th>date_y</th>\n",
       "      <th>full_text</th>\n",
       "      <th>source_y</th>\n",
       "      <th>...</th>\n",
       "      <th>prediction2_image</th>\n",
       "      <th>prediction2_confidence</th>\n",
       "      <th>prediction2_dog</th>\n",
       "      <th>Prediction3_image</th>\n",
       "      <th>prediction3_confidence</th>\n",
       "      <th>prediction3_dog</th>\n",
       "      <th>stages</th>\n",
       "      <th>dog_stage_values</th>\n",
       "      <th>rating_number</th>\n",
       "      <th>rating</th>\n",
       "    </tr>\n",
       "  </thead>\n",
       "  <tbody>\n",
       "    <tr>\n",
       "      <th>0</th>\n",
       "      <td>852672615818899456</td>\n",
       "      <td>2017-04-13</td>\n",
       "      <td>This is Aspen. She's never tasted a stick so s...</td>\n",
       "      <td>\"http://twitter.com/download/iphone\" rel=\"nofo...</td>\n",
       "      <td>12.0</td>\n",
       "      <td>10.0</td>\n",
       "      <td>Aspen</td>\n",
       "      <td>2017-04-13</td>\n",
       "      <td>This is Aspen. She's never tasted a stick so s...</td>\n",
       "      <td>\"http://twitter.com/download/iphone\" rel=\"nofo...</td>\n",
       "      <td>...</td>\n",
       "      <td>otterhound</td>\n",
       "      <td>0.068235</td>\n",
       "      <td>True</td>\n",
       "      <td>Sussex_spaniel</td>\n",
       "      <td>0.046562</td>\n",
       "      <td>True</td>\n",
       "      <td>doggo</td>\n",
       "      <td>None</td>\n",
       "      <td>1.2</td>\n",
       "      <td>12.0/10.0</td>\n",
       "    </tr>\n",
       "    <tr>\n",
       "      <th>1</th>\n",
       "      <td>852189679701164033</td>\n",
       "      <td>2017-04-12</td>\n",
       "      <td>This is Sailor. He has collected the best dirt...</td>\n",
       "      <td>\"http://twitter.com/download/iphone\" rel=\"nofo...</td>\n",
       "      <td>12.0</td>\n",
       "      <td>10.0</td>\n",
       "      <td>Sailor</td>\n",
       "      <td>2017-04-12</td>\n",
       "      <td>This is Sailor. He has collected the best dirt...</td>\n",
       "      <td>\"http://twitter.com/download/iphone\" rel=\"nofo...</td>\n",
       "      <td>...</td>\n",
       "      <td>Bernese_mountain_dog</td>\n",
       "      <td>0.415374</td>\n",
       "      <td>True</td>\n",
       "      <td>EntleBucher</td>\n",
       "      <td>0.067345</td>\n",
       "      <td>True</td>\n",
       "      <td>doggo</td>\n",
       "      <td>None</td>\n",
       "      <td>1.2</td>\n",
       "      <td>12.0/10.0</td>\n",
       "    </tr>\n",
       "    <tr>\n",
       "      <th>2</th>\n",
       "      <td>850753642995093505</td>\n",
       "      <td>2017-04-08</td>\n",
       "      <td>This is Kyle. He made a joke about your shoes,...</td>\n",
       "      <td>\"http://twitter.com/download/iphone\" rel=\"nofo...</td>\n",
       "      <td>11.0</td>\n",
       "      <td>10.0</td>\n",
       "      <td>Kyle</td>\n",
       "      <td>2017-04-08</td>\n",
       "      <td>This is Kyle. He made a joke about your shoes,...</td>\n",
       "      <td>\"http://twitter.com/download/iphone\" rel=\"nofo...</td>\n",
       "      <td>...</td>\n",
       "      <td>bull_mastiff</td>\n",
       "      <td>0.000996</td>\n",
       "      <td>True</td>\n",
       "      <td>French_bulldog</td>\n",
       "      <td>0.000883</td>\n",
       "      <td>True</td>\n",
       "      <td>doggo</td>\n",
       "      <td>None</td>\n",
       "      <td>1.1</td>\n",
       "      <td>11.0/10.0</td>\n",
       "    </tr>\n",
       "    <tr>\n",
       "      <th>3</th>\n",
       "      <td>847962785489326080</td>\n",
       "      <td>2017-04-01</td>\n",
       "      <td>This is Georgie. He's very shy. Only puppears ...</td>\n",
       "      <td>\"http://twitter.com/download/iphone\" rel=\"nofo...</td>\n",
       "      <td>10.0</td>\n",
       "      <td>10.0</td>\n",
       "      <td>Georgie</td>\n",
       "      <td>2017-04-01</td>\n",
       "      <td>This is Georgie. He's very shy. Only puppears ...</td>\n",
       "      <td>\"http://twitter.com/download/iphone\" rel=\"nofo...</td>\n",
       "      <td>...</td>\n",
       "      <td>mink</td>\n",
       "      <td>0.066880</td>\n",
       "      <td>False</td>\n",
       "      <td>otter</td>\n",
       "      <td>0.025679</td>\n",
       "      <td>False</td>\n",
       "      <td>doggo</td>\n",
       "      <td>None</td>\n",
       "      <td>1.0</td>\n",
       "      <td>10.0/10.0</td>\n",
       "    </tr>\n",
       "    <tr>\n",
       "      <th>4</th>\n",
       "      <td>847251039262605312</td>\n",
       "      <td>2017-03-30</td>\n",
       "      <td>This is Furzey. He's doing an elevated sandy z...</td>\n",
       "      <td>\"http://twitter.com/download/iphone\" rel=\"nofo...</td>\n",
       "      <td>12.0</td>\n",
       "      <td>10.0</td>\n",
       "      <td>Furzey</td>\n",
       "      <td>2017-03-30</td>\n",
       "      <td>This is Furzey. He's doing an elevated sandy z...</td>\n",
       "      <td>\"http://twitter.com/download/iphone\" rel=\"nofo...</td>\n",
       "      <td>...</td>\n",
       "      <td>Irish_terrier</td>\n",
       "      <td>0.316456</td>\n",
       "      <td>True</td>\n",
       "      <td>Lakeland_terrier</td>\n",
       "      <td>0.158533</td>\n",
       "      <td>True</td>\n",
       "      <td>doggo</td>\n",
       "      <td>None</td>\n",
       "      <td>1.2</td>\n",
       "      <td>12.0/10.0</td>\n",
       "    </tr>\n",
       "  </tbody>\n",
       "</table>\n",
       "<p>5 rows × 29 columns</p>\n",
       "</div>"
      ],
      "text/plain": [
       "             tweet_id      date_x  \\\n",
       "0  852672615818899456  2017-04-13   \n",
       "1  852189679701164033  2017-04-12   \n",
       "2  850753642995093505  2017-04-08   \n",
       "3  847962785489326080  2017-04-01   \n",
       "4  847251039262605312  2017-03-30   \n",
       "\n",
       "                                                text  \\\n",
       "0  This is Aspen. She's never tasted a stick so s...   \n",
       "1  This is Sailor. He has collected the best dirt...   \n",
       "2  This is Kyle. He made a joke about your shoes,...   \n",
       "3  This is Georgie. He's very shy. Only puppears ...   \n",
       "4  This is Furzey. He's doing an elevated sandy z...   \n",
       "\n",
       "                                            source_x  rating_numerator  \\\n",
       "0  \"http://twitter.com/download/iphone\" rel=\"nofo...              12.0   \n",
       "1  \"http://twitter.com/download/iphone\" rel=\"nofo...              12.0   \n",
       "2  \"http://twitter.com/download/iphone\" rel=\"nofo...              11.0   \n",
       "3  \"http://twitter.com/download/iphone\" rel=\"nofo...              10.0   \n",
       "4  \"http://twitter.com/download/iphone\" rel=\"nofo...              12.0   \n",
       "\n",
       "   rating_denominator     name      date_y  \\\n",
       "0                10.0    Aspen  2017-04-13   \n",
       "1                10.0   Sailor  2017-04-12   \n",
       "2                10.0     Kyle  2017-04-08   \n",
       "3                10.0  Georgie  2017-04-01   \n",
       "4                10.0   Furzey  2017-03-30   \n",
       "\n",
       "                                           full_text  \\\n",
       "0  This is Aspen. She's never tasted a stick so s...   \n",
       "1  This is Sailor. He has collected the best dirt...   \n",
       "2  This is Kyle. He made a joke about your shoes,...   \n",
       "3  This is Georgie. He's very shy. Only puppears ...   \n",
       "4  This is Furzey. He's doing an elevated sandy z...   \n",
       "\n",
       "                                            source_y  ...  \\\n",
       "0  \"http://twitter.com/download/iphone\" rel=\"nofo...  ...   \n",
       "1  \"http://twitter.com/download/iphone\" rel=\"nofo...  ...   \n",
       "2  \"http://twitter.com/download/iphone\" rel=\"nofo...  ...   \n",
       "3  \"http://twitter.com/download/iphone\" rel=\"nofo...  ...   \n",
       "4  \"http://twitter.com/download/iphone\" rel=\"nofo...  ...   \n",
       "\n",
       "      prediction2_image  prediction2_confidence  prediction2_dog  \\\n",
       "0            otterhound                0.068235             True   \n",
       "1  Bernese_mountain_dog                0.415374             True   \n",
       "2          bull_mastiff                0.000996             True   \n",
       "3                  mink                0.066880            False   \n",
       "4         Irish_terrier                0.316456             True   \n",
       "\n",
       "   Prediction3_image prediction3_confidence  prediction3_dog stages  \\\n",
       "0     Sussex_spaniel               0.046562             True  doggo   \n",
       "1        EntleBucher               0.067345             True  doggo   \n",
       "2     French_bulldog               0.000883             True  doggo   \n",
       "3              otter               0.025679            False  doggo   \n",
       "4   Lakeland_terrier               0.158533             True  doggo   \n",
       "\n",
       "   dog_stage_values  rating_number     rating  \n",
       "0              None            1.2  12.0/10.0  \n",
       "1              None            1.2  12.0/10.0  \n",
       "2              None            1.1  11.0/10.0  \n",
       "3              None            1.0  10.0/10.0  \n",
       "4              None            1.2  12.0/10.0  \n",
       "\n",
       "[5 rows x 29 columns]"
      ]
     },
     "execution_count": 217,
     "metadata": {},
     "output_type": "execute_result"
    }
   ],
   "source": [
    "twitter_archive_master.head(5)"
   ]
  },
  {
   "cell_type": "markdown",
   "id": "e47852b7",
   "metadata": {},
   "source": [
    "**Table 44.0 above shows the print out of the saved csv file of the dataset**"
   ]
  },
  {
   "cell_type": "markdown",
   "id": "2b907940",
   "metadata": {},
   "source": [
    "<li><a href=\"#eda\">EXPLORATORY DATA ANALYSIS</a></li>"
   ]
  },
  {
   "cell_type": "markdown",
   "id": "9469dd07",
   "metadata": {},
   "source": [
    "### ANALYSIS INSIGHT OF THE PROJECT"
   ]
  },
  {
   "cell_type": "markdown",
   "id": "267b4765",
   "metadata": {},
   "source": [
    "***Question 1***\n",
    "- Which dog prediction has the highest prediction confidence"
   ]
  },
  {
   "cell_type": "code",
   "execution_count": 218,
   "id": "78148641",
   "metadata": {},
   "outputs": [
    {
     "data": {
      "text/plain": [
       "True     0.800407\n",
       "False    0.199593\n",
       "Name: prediction1_dog, dtype: float64"
      ]
     },
     "execution_count": 218,
     "metadata": {},
     "output_type": "execute_result"
    }
   ],
   "source": [
    "# To get count of prediction confidence by prediction dog 1\n",
    "twitter_archive_master.prediction1_dog.value_counts('prediction1_confidence')"
   ]
  },
  {
   "cell_type": "code",
   "execution_count": 219,
   "id": "cd6c689c",
   "metadata": {},
   "outputs": [
    {
     "data": {
      "text/plain": [
       "True     0.826884\n",
       "False    0.173116\n",
       "Name: prediction2_dog, dtype: float64"
      ]
     },
     "execution_count": 219,
     "metadata": {},
     "output_type": "execute_result"
    }
   ],
   "source": [
    "# To get count of prediction confidence by prediction dog 2\n",
    "twitter_archive_master.prediction2_dog.value_counts('prediction2_confidence')"
   ]
  },
  {
   "cell_type": "code",
   "execution_count": 220,
   "id": "ea6f719c",
   "metadata": {},
   "outputs": [
    {
     "data": {
      "text/plain": [
       "True     0.788187\n",
       "False    0.211813\n",
       "Name: prediction3_dog, dtype: float64"
      ]
     },
     "execution_count": 220,
     "metadata": {},
     "output_type": "execute_result"
    }
   ],
   "source": [
    "# To get count of prediction confidence by prediction dog 3\n",
    "twitter_archive_master.prediction3_dog.value_counts('prediction3_confidence')"
   ]
  },
  {
   "cell_type": "markdown",
   "id": "8dadd0bf",
   "metadata": {},
   "source": [
    "***Question 2***\n",
    "- Which dog type has the highest Rating"
   ]
  },
  {
   "cell_type": "code",
   "execution_count": 221,
   "id": "38da148d",
   "metadata": {},
   "outputs": [
    {
     "data": {
      "text/plain": [
       "None       0.857434\n",
       "pupper     0.112016\n",
       "doggo      0.020367\n",
       "puppo      0.008147\n",
       "floofer    0.002037\n",
       "Name: dog_stage_values, dtype: float64"
      ]
     },
     "execution_count": 221,
     "metadata": {},
     "output_type": "execute_result"
    }
   ],
   "source": [
    "# To get count of dog type by retweet count\n",
    "twitter_archive_master.dog_stage_values.value_counts('rating_number')"
   ]
  },
  {
   "cell_type": "markdown",
   "id": "3bb47321",
   "metadata": {},
   "source": [
    "***Question 3***\n",
    "- What are the top 2 image prediction"
   ]
  },
  {
   "cell_type": "code",
   "execution_count": 222,
   "id": "2cfafae8",
   "metadata": {},
   "outputs": [
    {
     "data": {
      "text/plain": [
       "golden_retriever       35\n",
       "Labrador_retriever     27\n",
       "Chihuahua              26\n",
       "Pembroke               25\n",
       "Pomeranian             16\n",
       "                       ..\n",
       "barrow                  1\n",
       "Tibetan_mastiff         1\n",
       "shield                  1\n",
       "miniature_schnauzer     1\n",
       "ice_lolly               1\n",
       "Name: prediction_image, Length: 149, dtype: int64"
      ]
     },
     "execution_count": 222,
     "metadata": {},
     "output_type": "execute_result"
    }
   ],
   "source": [
    "# To get the prediction image 1 count\n",
    "twitter_archive_master.prediction_image.value_counts()"
   ]
  },
  {
   "cell_type": "code",
   "execution_count": 223,
   "id": "fbcbba20",
   "metadata": {},
   "outputs": [
    {
     "data": {
      "text/plain": [
       "golden_retriever       25\n",
       "Labrador_retriever     21\n",
       "Cardigan               16\n",
       "French_bulldog         11\n",
       "Pembroke               11\n",
       "                       ..\n",
       "harvester               1\n",
       "marmot                  1\n",
       "cradle                  1\n",
       "Rhodesian_ridgeback     1\n",
       "gibbon                  1\n",
       "Name: prediction2_image, Length: 162, dtype: int64"
      ]
     },
     "execution_count": 223,
     "metadata": {},
     "output_type": "execute_result"
    }
   ],
   "source": [
    "# To get the prediction image 2 count\n",
    "twitter_archive_master.prediction2_image.value_counts()"
   ]
  },
  {
   "cell_type": "code",
   "execution_count": 224,
   "id": "5d7f27f3",
   "metadata": {},
   "outputs": [
    {
     "data": {
      "text/plain": [
       "Labrador_retriever           18\n",
       "Chihuahua                    15\n",
       "Staffordshire_bullterrier    13\n",
       "kelpie                       13\n",
       "Pembroke                     12\n",
       "                             ..\n",
       "cairn                         1\n",
       "quilt                         1\n",
       "Newfoundland                  1\n",
       "English_springer              1\n",
       "moped                         1\n",
       "Name: Prediction3_image, Length: 171, dtype: int64"
      ]
     },
     "execution_count": 224,
     "metadata": {},
     "output_type": "execute_result"
    }
   ],
   "source": [
    "# To get the prediction image 3 count\n",
    "twitter_archive_master.Prediction3_image.value_counts()"
   ]
  },
  {
   "cell_type": "markdown",
   "id": "01172151",
   "metadata": {},
   "source": [
    "***Question 4***\n",
    "- When do we have the highest rating in the dataset"
   ]
  },
  {
   "cell_type": "code",
   "execution_count": 225,
   "id": "5d211b87",
   "metadata": {},
   "outputs": [
    {
     "data": {
      "text/plain": [
       "2015-11-23    0.014257\n",
       "2015-12-01    0.012220\n",
       "2015-11-25    0.012220\n",
       "2015-11-19    0.010183\n",
       "2015-12-03    0.010183\n",
       "                ...   \n",
       "2016-12-04    0.002037\n",
       "2016-12-02    0.002037\n",
       "2017-01-16    0.002037\n",
       "2017-01-17    0.002037\n",
       "2016-11-30    0.002037\n",
       "Name: date_x, Length: 323, dtype: float64"
      ]
     },
     "execution_count": 225,
     "metadata": {},
     "output_type": "execute_result"
    }
   ],
   "source": [
    "# To get the date we have the highest retweet count\n",
    "twitter_archive_master.date_x.value_counts('rating')"
   ]
  },
  {
   "cell_type": "markdown",
   "id": "457b61a7",
   "metadata": {},
   "source": [
    "***Question 5***\n",
    "- Which image has the highest favourite count"
   ]
  },
  {
   "cell_type": "code",
   "execution_count": 226,
   "id": "15158c9e",
   "metadata": {},
   "outputs": [
    {
     "data": {
      "text/plain": [
       "golden_retriever       0.071283\n",
       "Labrador_retriever     0.054990\n",
       "Chihuahua              0.052953\n",
       "Pembroke               0.050916\n",
       "Pomeranian             0.032587\n",
       "                         ...   \n",
       "barrow                 0.002037\n",
       "Tibetan_mastiff        0.002037\n",
       "shield                 0.002037\n",
       "miniature_schnauzer    0.002037\n",
       "ice_lolly              0.002037\n",
       "Name: prediction_image, Length: 149, dtype: float64"
      ]
     },
     "execution_count": 226,
     "metadata": {},
     "output_type": "execute_result"
    }
   ],
   "source": [
    "# To get image prediction 1 by favorite count\n",
    "twitter_archive_master.prediction_image.value_counts('favorite_count')"
   ]
  },
  {
   "cell_type": "code",
   "execution_count": 227,
   "id": "d3a634c2",
   "metadata": {},
   "outputs": [
    {
     "data": {
      "text/plain": [
       "golden_retriever       0.050916\n",
       "Labrador_retriever     0.042770\n",
       "Cardigan               0.032587\n",
       "French_bulldog         0.022403\n",
       "Pembroke               0.022403\n",
       "                         ...   \n",
       "harvester              0.002037\n",
       "marmot                 0.002037\n",
       "cradle                 0.002037\n",
       "Rhodesian_ridgeback    0.002037\n",
       "gibbon                 0.002037\n",
       "Name: prediction2_image, Length: 162, dtype: float64"
      ]
     },
     "execution_count": 227,
     "metadata": {},
     "output_type": "execute_result"
    }
   ],
   "source": [
    "# To get image prediction 2 by favorite count\n",
    "twitter_archive_master.prediction2_image.value_counts('favorite_count')"
   ]
  },
  {
   "cell_type": "code",
   "execution_count": 228,
   "id": "941a6ed6",
   "metadata": {},
   "outputs": [
    {
     "data": {
      "text/plain": [
       "Labrador_retriever           0.036660\n",
       "Chihuahua                    0.030550\n",
       "Staffordshire_bullterrier    0.026477\n",
       "kelpie                       0.026477\n",
       "Pembroke                     0.024440\n",
       "                               ...   \n",
       "cairn                        0.002037\n",
       "quilt                        0.002037\n",
       "Newfoundland                 0.002037\n",
       "English_springer             0.002037\n",
       "moped                        0.002037\n",
       "Name: Prediction3_image, Length: 171, dtype: float64"
      ]
     },
     "execution_count": 228,
     "metadata": {},
     "output_type": "execute_result"
    }
   ],
   "source": [
    "# To get image prediction 3 by favorite count\n",
    "twitter_archive_master.Prediction3_image.value_counts('favorite_count')"
   ]
  },
  {
   "cell_type": "code",
   "execution_count": 229,
   "id": "0925d2a1",
   "metadata": {},
   "outputs": [
    {
     "name": "stderr",
     "output_type": "stream",
     "text": [
      "C:\\Users\\user\\anaconda3\\lib\\site-packages\\seaborn\\distributions.py:2619: FutureWarning: `distplot` is a deprecated function and will be removed in a future version. Please adapt your code to use either `displot` (a figure-level function with similar flexibility) or `histplot` (an axes-level function for histograms).\n",
      "  warnings.warn(msg, FutureWarning)\n"
     ]
    },
    {
     "data": {
      "text/plain": [
       "<AxesSubplot:xlabel='favorite_count', ylabel='Density'>"
      ]
     },
     "execution_count": 229,
     "metadata": {},
     "output_type": "execute_result"
    },
    {
     "data": {
      "image/png": "[encoded data removed]",
      "text/plain": [
       "<Figure size 432x288 with 1 Axes>"
      ]
     },
     "metadata": {
      "needs_background": "light"
     },
     "output_type": "display_data"
    }
   ],
   "source": [
    "# To plot the distribution of favorite_count\n",
    "sns.distplot(twitter_archive_master.favorite_count, color = 'red', label = 'Favorites')"
   ]
  },
  {
   "cell_type": "markdown",
   "id": "0c441dce",
   "metadata": {},
   "source": [
    "**fig 1.0 the plot above shows the distribution of favourite_count in the dataset**"
   ]
  },
  {
   "cell_type": "code",
   "execution_count": 230,
   "id": "4a55ac42",
   "metadata": {},
   "outputs": [
    {
     "name": "stderr",
     "output_type": "stream",
     "text": [
      "C:\\Users\\user\\anaconda3\\lib\\site-packages\\seaborn\\distributions.py:2619: FutureWarning: `distplot` is a deprecated function and will be removed in a future version. Please adapt your code to use either `displot` (a figure-level function with similar flexibility) or `histplot` (an axes-level function for histograms).\n",
      "  warnings.warn(msg, FutureWarning)\n"
     ]
    },
    {
     "data": {
      "text/plain": [
       "<AxesSubplot:xlabel='retweet_count', ylabel='Density'>"
      ]
     },
     "execution_count": 230,
     "metadata": {},
     "output_type": "execute_result"
    },
    {
     "data": {
      "image/png": "[encoded data removed]",
      "text/plain": [
       "<Figure size 432x288 with 1 Axes>"
      ]
     },
     "metadata": {
      "needs_background": "light"
     },
     "output_type": "display_data"
    }
   ],
   "source": [
    "# To plot the distribution of retweet_count\n",
    "sns.distplot(twitter_archive_master.retweet_count, color = 'blue', label = 'Retweets')"
   ]
  },
  {
   "cell_type": "markdown",
   "id": "aa219755",
   "metadata": {},
   "source": [
    "**fig 2.0 the plot above shows the distribution of retweet_count in the dataset**"
   ]
  },
  {
   "cell_type": "code",
   "execution_count": 231,
   "id": "dd2468e8",
   "metadata": {},
   "outputs": [
    {
     "name": "stderr",
     "output_type": "stream",
     "text": [
      "C:\\Users\\user\\anaconda3\\lib\\site-packages\\seaborn\\distributions.py:2619: FutureWarning: `distplot` is a deprecated function and will be removed in a future version. Please adapt your code to use either `displot` (a figure-level function with similar flexibility) or `histplot` (an axes-level function for histograms).\n",
      "  warnings.warn(msg, FutureWarning)\n",
      "C:\\Users\\user\\anaconda3\\lib\\site-packages\\seaborn\\distributions.py:2619: FutureWarning: `distplot` is a deprecated function and will be removed in a future version. Please adapt your code to use either `displot` (a figure-level function with similar flexibility) or `histplot` (an axes-level function for histograms).\n",
      "  warnings.warn(msg, FutureWarning)\n"
     ]
    },
    {
     "data": {
      "text/plain": [
       "<AxesSubplot:xlabel='retweet_count', ylabel='Density'>"
      ]
     },
     "execution_count": 231,
     "metadata": {},
     "output_type": "execute_result"
    },
    {
     "data": {
      "image/png": "[encoded data removed]",
      "text/plain": [
       "<Figure size 432x288 with 1 Axes>"
      ]
     },
     "metadata": {
      "needs_background": "light"
     },
     "output_type": "display_data"
    }
   ],
   "source": [
    "# To plot the distribution of favorite_count and retweet_count \n",
    "sns.distplot(twitter_archive_master.favorite_count, color = 'red', label = 'Favorites')\n",
    "sns.distplot(twitter_archive_master.retweet_count, color = 'blue', label = 'Retweets')"
   ]
  },
  {
   "cell_type": "markdown",
   "id": "3dac5f42",
   "metadata": {},
   "source": [
    "**fig 3.0 the plot above shows the distribution of retweet_count and favourite_count in the dataset**"
   ]
  },
  {
   "cell_type": "code",
   "execution_count": 232,
   "id": "6d1b36a6",
   "metadata": {},
   "outputs": [
    {
     "data": {
      "text/plain": [
       "<AxesSubplot:xlabel='retweet_count', ylabel='favorite_count'>"
      ]
     },
     "execution_count": 232,
     "metadata": {},
     "output_type": "execute_result"
    },
    {
     "data": {
      "image/png": "[encoded data removed]",
      "text/plain": [
       "<Figure size 432x288 with 1 Axes>"
      ]
     },
     "metadata": {
      "needs_background": "light"
     },
     "output_type": "display_data"
    }
   ],
   "source": [
    "# This plot is for checking the linear relationship between retweet count and Favorite count\n",
    "sns.regplot(x=twitter_archive_master.retweet_count, y=twitter_archive_master.favorite_count)"
   ]
  },
  {
   "cell_type": "markdown",
   "id": "ec06ad30",
   "metadata": {},
   "source": [
    "**fig 4.0 the plot above show the linear relationship between retweet_count and favourite_count**"
   ]
  },
  {
   "cell_type": "code",
   "execution_count": 233,
   "id": "15e8a9c6",
   "metadata": {},
   "outputs": [],
   "source": [
    "# ploting using the date data in the dataset\n",
    "twitter_archive_master.set_index('date_x', inplace=True)"
   ]
  },
  {
   "cell_type": "code",
   "execution_count": 234,
   "id": "3a070307",
   "metadata": {
    "scrolled": false
   },
   "outputs": [
    {
     "data": {
      "text/plain": [
       "<AxesSubplot:xlabel='date_x'>"
      ]
     },
     "execution_count": 234,
     "metadata": {},
     "output_type": "execute_result"
    },
    {
     "data": {
      "image/png": "[encoded data removed]",
      "text/plain": [
       "<Figure size 432x288 with 1 Axes>"
      ]
     },
     "metadata": {
      "needs_background": "light"
     },
     "output_type": "display_data"
    }
   ],
   "source": [
    "# This code is to Plot favorite_count and retweet_count over a period of time\n",
    "twitter_archive_master['retweet_count'].plot(color = 'red', label='Retweets')\n",
    "twitter_archive_master['favorite_count'].plot(color = 'blue', label='Favorites')"
   ]
  },
  {
   "cell_type": "markdown",
   "id": "45298f86",
   "metadata": {},
   "source": [
    "**fig 5.0 the plot above shows the impact of favourite_count and retweet-count over a period of time**"
   ]
  },
  {
   "cell_type": "code",
   "execution_count": 235,
   "id": "fddaeaf0",
   "metadata": {},
   "outputs": [
    {
     "data": {
      "text/plain": [
       "<AxesSubplot:xlabel='rating_number', ylabel='favorite_count'>"
      ]
     },
     "execution_count": 235,
     "metadata": {},
     "output_type": "execute_result"
    },
    {
     "data": {
      "image/png": "[encoded data removed]",
      "text/plain": [
       "<Figure size 432x288 with 1 Axes>"
      ]
     },
     "metadata": {
      "needs_background": "light"
     },
     "output_type": "display_data"
    }
   ],
   "source": [
    "sns.regplot(x=twitter_archive_master.rating_number, y=twitter_archive_master.favorite_count)"
   ]
  },
  {
   "cell_type": "markdown",
   "id": "cfe42828",
   "metadata": {},
   "source": [
    "**fig 6.0 plot above show the linear relationship between favourite_count and rating_number**"
   ]
  },
  {
   "cell_type": "code",
   "execution_count": 236,
   "id": "1febb32d",
   "metadata": {},
   "outputs": [
    {
     "data": {
      "text/plain": [
       "<AxesSubplot:xlabel='rating_number', ylabel='retweet_count'>"
      ]
     },
     "execution_count": 236,
     "metadata": {},
     "output_type": "execute_result"
    },
    {
     "data": {
      "image/png": "[encoded data removed]",
      "text/plain": [
       "<Figure size 432x288 with 1 Axes>"
      ]
     },
     "metadata": {
      "needs_background": "light"
     },
     "output_type": "display_data"
    }
   ],
   "source": [
    "sns.regplot(x=twitter_archive_master.rating_number, y=twitter_archive_master.retweet_count)"
   ]
  },
  {
   "cell_type": "markdown",
   "id": "e20df131",
   "metadata": {},
   "source": [
    "**fig 7.0 plot above show the linear relationship between retweet_count and rating_numbers**"
   ]
  },
  {
   "cell_type": "markdown",
   "id": "7575f409",
   "metadata": {},
   "source": [
    "<li><a href=\"#conclusions\">CONCLUSION</a></li>"
   ]
  },
  {
   "cell_type": "markdown",
   "id": "249c01a0",
   "metadata": {},
   "source": [
    "- From the above analysis it can be concluded that Dog prediction 2 has the highest Prediction confidence followed by Dog prediction 1\n",
    "- Pupper has the highest retweet count followed by doggo while floofer has the lowest retweet count\n",
    "- On prediction image 1-3 the followings are the top 2 image predicted:\n",
    "    - Labrador_retriever\n",
    "    - Golden_retriever\n",
    "- The highest retweet count was recorded on 2015-11-23 \n",
    "- Golden_retriever has the highest favorite count on prediction image 1 & 2 while Labrador_retriever has the highest favorite count on Prediction image 3  "
   ]
  },
  {
   "cell_type": "markdown",
   "id": "4d3300bb",
   "metadata": {},
   "source": [
    "<li><a href=\"#limitation\">LIMITATIONS</a></li>"
   ]
  },
  {
   "cell_type": "markdown",
   "id": "0ec135dc",
   "metadata": {},
   "source": [
    "- One of the Limitation of the analysis is getting API permission which was declined\n",
    "- Also inconsistency in the regex used to code the dataset in some of the column which makes it difficult to extract name from the text."
   ]
  },
  {
   "cell_type": "markdown",
   "id": "8737f77b",
   "metadata": {},
   "source": [
    "<li><a href=\"#references\">REFERENCES</a></li>"
   ]
  },
  {
   "cell_type": "markdown",
   "id": "3cf39cc7",
   "metadata": {},
   "source": [
    "The following are the references for this project:-\n",
    "\n",
    "\n",
    "1. Udaccity Nano Degree Program course materials\n",
    "\n",
    "2. stackoverflow.com\n",
    "\n",
    "3. Data Science made Simple website.\n",
    "\n",
    "5. geeksforgeeks.org\n",
    "\n",
    "6. phoenixnap.com\n",
    " \n",
    "\n"
   ]
  },
  {
   "cell_type": "code",
   "execution_count": null,
   "id": "512c878d",
   "metadata": {},
   "outputs": [],
   "source": []
  }
 ],
 "metadata": {
  "kernelspec": {
   "display_name": "Python 3 (ipykernel)",
   "language": "python",
   "name": "python3"
  },
  "language_info": {
   "codemirror_mode": {
    "name": "ipython",
    "version": 3
   },
   "file_extension": ".py",
   "mimetype": "text/x-python",
   "name": "python",
   "nbconvert_exporter": "python",
   "pygments_lexer": "ipython3",
   "version": "3.9.12"
  }
 },
 "nbformat": 4,
 "nbformat_minor": 5
}
